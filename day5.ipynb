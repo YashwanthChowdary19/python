{
 "cells": [
  {
   "cell_type": "markdown",
   "id": "b37e0777-19a3-4df3-8c98-9800fa4bea79",
   "metadata": {},
   "source": [
    "# list \n",
    "```bash \n",
    "In Python, a list is a mutable, ordered collection of elements that can contain items of any data type, including mixed types, and is defined using square brackets [] with items separated by commas.```"
   ]
  },
  {
   "cell_type": "code",
   "execution_count": 1,
   "id": "fb3898be-ee5f-4ab7-93f9-c4e1744c4975",
   "metadata": {},
   "outputs": [
    {
     "name": "stdout",
     "output_type": "stream",
     "text": [
      "name\n",
      "age\n",
      "20\n",
      "45.565\n",
      "True\n"
     ]
    }
   ],
   "source": [
    "pylist = [\"name\",\"age\",20,45.565,True] \n",
    "for i in pylist : \n",
    "    print(i)"
   ]
  },
  {
   "cell_type": "markdown",
   "id": "b771bc0c-4941-47a2-9f4a-3b3c19df0b44",
   "metadata": {},
   "source": [
    "## Arrays vs Lists\n",
    "```bash \n",
    "fixed vs dynamic size \n",
    "homogeneous vs hetrogeneous\n",
    "speed of execution : fast vs slow \n",
    "memory : less vs more \n",
    "```"
   ]
  },
  {
   "cell_type": "markdown",
   "id": "06527aeb-e5fd-46df-8ec7-72738efbd2a3",
   "metadata": {},
   "source": [
    "# how python list is dynamic \n",
    "``` bash \n",
    "1) Empty List\n",
    "\n",
    "Count = 0 (no elements yet)\n",
    "\n",
    "Capacity = 4 (Python has preallocated space for 4 items even though it's empty)\n",
    "\n",
    "2) Appending Items\n",
    "\n",
    "Items are added: 0, 1, 2\n",
    "\n",
    "Count increases, but capacity stays 4 until it’s full.\n",
    "\n",
    "3) Capacity Full\n",
    "\n",
    "Adding the 4th element fills the allocated space.\n",
    "\n",
    "Count = 4, Capacity = 4\n",
    "\n",
    "4) Over-allocation (Resizing)\n",
    "\n",
    "When adding another element after capacity is reached, Python allocates more memory (e.g., doubles from 4 to 8).\n",
    "\n",
    "This avoids frequent resizing and makes appends faster over time.```"
   ]
  },
  {
   "cell_type": "markdown",
   "id": "253bde6c-3b8e-41f5-8fc4-3f234d3a3264",
   "metadata": {},
   "source": [
    "``` bash\n",
    "note : list cannot store the actual values it stores the actual values addresses called referential array \n",
    "the actual are stored in diffrent locations so it use more memory compared to array\n",
    "```"
   ]
  },
  {
   "cell_type": "code",
   "execution_count": 8,
   "id": "d883a30f-183c-440f-8a23-fd74b3dcc0f1",
   "metadata": {},
   "outputs": [
    {
     "name": "stdout",
     "output_type": "stream",
     "text": [
      "2758919477440\n",
      "2758809223408\n",
      "2758809223440\n",
      "2758810640432\n",
      "2758809223408\n",
      "2758809223440\n",
      "2758810640432\n"
     ]
    }
   ],
   "source": [
    "# example \n",
    "pylist = [1,2,\"a\"]\n",
    "# id() function is used to return the memory address \n",
    "print(id(pylist)) # list address : 2758914518912\n",
    "print(id(pylist[0])) # first value addrress : 2758809223408\n",
    "print(id(pylist[1])) # second value addrress : 2758809223440\n",
    "print(id(pylist[2])) # third value addrress : 2758810640432\n",
    "print(id(1))\n",
    "print(id(2))\n",
    "print(id(\"a\"))\n",
    "# observe the addresses of values and list are different"
   ]
  },
  {
   "cell_type": "markdown",
   "id": "6e8239e8-23a3-47de-839b-f6c85d3c1191",
   "metadata": {},
   "source": [
    "# charactersitics of list"
   ]
  },
  {
   "cell_type": "markdown",
   "id": "83c9500b-1437-4e8d-ac0c-10109b0e9f58",
   "metadata": {},
   "source": [
    "### `ordered` : means order of values are important\n"
   ]
  },
  {
   "cell_type": "code",
   "execution_count": 9,
   "id": "6a4a6f72-78ae-4d48-afe6-02c2deace6c9",
   "metadata": {},
   "outputs": [
    {
     "data": {
      "text/plain": [
       "False"
      ]
     },
     "execution_count": 9,
     "metadata": {},
     "output_type": "execute_result"
    }
   ],
   "source": [
    "# exmaple \n",
    "l1 = [1,2,3,4] \n",
    "l2 = [4,3,2,1]\n",
    "# both have same values but not in same order \n",
    "# lets prove \n",
    "l1 == l2"
   ]
  },
  {
   "cell_type": "markdown",
   "id": "85d1b87a-802c-4e69-a24f-a28a9529ee9a",
   "metadata": {},
   "source": [
    "### `changable/mutable` : means you can change the values \n"
   ]
  },
  {
   "cell_type": "code",
   "execution_count": 10,
   "id": "7ac72f36-336d-4a26-b490-16049e4af071",
   "metadata": {},
   "outputs": [
    {
     "name": "stdout",
     "output_type": "stream",
     "text": [
      "['a', 2, 3, 4]\n"
     ]
    }
   ],
   "source": [
    "l1 = [1,2,3,4] \n",
    "l1[0] = \"a\"\n",
    "print(l1)"
   ]
  },
  {
   "cell_type": "markdown",
   "id": "3a052b80-8687-424f-87d0-c733cc619603",
   "metadata": {},
   "source": [
    "### `hetrogeneous` : means contains any type of data"
   ]
  },
  {
   "cell_type": "code",
   "execution_count": 11,
   "id": "2b0f462f-17b9-4fcd-9a78-15f511f62d5d",
   "metadata": {},
   "outputs": [
    {
     "name": "stdout",
     "output_type": "stream",
     "text": [
      "[1, 'char', 'string', 34643.345, True]\n"
     ]
    }
   ],
   "source": [
    "l1 = [1,\"char\",\"string\",34643.345,True]\n",
    "print(l1)"
   ]
  },
  {
   "cell_type": "markdown",
   "id": "c8f6a7b0-db28-4cec-bfb5-80c1071cec4f",
   "metadata": {},
   "source": [
    "### `nested list` : means contains list inside the list\n"
   ]
  },
  {
   "cell_type": "code",
   "execution_count": 13,
   "id": "5210226c-05c8-479f-8caa-1d871285a3f1",
   "metadata": {},
   "outputs": [
    {
     "name": "stdout",
     "output_type": "stream",
     "text": [
      "[1, 2, 'a', [4, 5, 6]]\n"
     ]
    }
   ],
   "source": [
    "L = [1,2,\"a\",[4,5,6]]\n",
    "print(L)"
   ]
  },
  {
   "cell_type": "markdown",
   "id": "deb03ecf-3d6a-4619-ab98-5ce496e45d2a",
   "metadata": {},
   "source": [
    "### `can have duplicate values` : means contains repeated values"
   ]
  },
  {
   "cell_type": "code",
   "execution_count": 14,
   "id": "b2d904e2-3541-4abc-b89c-d9dff27e5f9e",
   "metadata": {},
   "outputs": [
    {
     "name": "stdout",
     "output_type": "stream",
     "text": [
      "[1, 1, 1, 1, 1]\n"
     ]
    }
   ],
   "source": [
    "L = [1,1,1,1,1]\n",
    "print(L)"
   ]
  },
  {
   "cell_type": "markdown",
   "id": "c974e20b-431c-416e-be0e-0d7bd4dc491d",
   "metadata": {},
   "source": [
    "### `dynamic` : means size can be increase or decrease `"
   ]
  },
  {
   "cell_type": "code",
   "execution_count": 17,
   "id": "6e3a8ae2-8800-41c3-b15d-4d1465da0724",
   "metadata": {},
   "outputs": [
    {
     "name": "stdout",
     "output_type": "stream",
     "text": [
      "[1, 2, 3, 4]\n",
      "[1, 2, 3]\n"
     ]
    }
   ],
   "source": [
    "L = [1,2,3]\n",
    "L.append(4)\n",
    "print(L)\n",
    "L.pop(3)\n",
    "print(L)"
   ]
  },
  {
   "cell_type": "markdown",
   "id": "8c9f012f-2857-44b5-9acd-f1056c6bf700",
   "metadata": {},
   "source": [
    "### `items can be accessed` : means values can be retreived using indexing or slicing \n"
   ]
  },
  {
   "cell_type": "code",
   "execution_count": 19,
   "id": "f7856efe-c522-40f2-a399-02a7ad91ea85",
   "metadata": {},
   "outputs": [
    {
     "name": "stdout",
     "output_type": "stream",
     "text": [
      "1\n",
      "[4, 5, 6]\n"
     ]
    }
   ],
   "source": [
    "L = [1,2,3,4,5,6,7]\n",
    "print(L[0]) \n",
    "print(L[3:6])"
   ]
  },
  {
   "cell_type": "markdown",
   "id": "de69e564-e7af-4abe-8a54-e9f992a89ef5",
   "metadata": {},
   "source": [
    "## `Creating` a List"
   ]
  },
  {
   "cell_type": "code",
   "execution_count": 24,
   "id": "d5b27cba-e904-4a55-8c57-8ec861b27f48",
   "metadata": {},
   "outputs": [
    {
     "name": "stdout",
     "output_type": "stream",
     "text": [
      "[]\n",
      "[1, 2, 3, 4, 5]\n",
      "[[1, 2, 3, 4], [5, 6, 7, 8]]\n",
      "[[[1, 2, 3, 4], [5, 6, 7, 8]], [[1, 2, 3, 4], [5, 6, 7, 8]]]\n",
      "[1, 34.34, True, 'sfa', [1, 2, 3]]\n"
     ]
    }
   ],
   "source": [
    "# empty list \n",
    "print([])\n",
    "# 1D  : one dimensional\n",
    "L = [1,2,3,4,5]\n",
    "print(L)\n",
    "# 2D : two dimensional \n",
    "L = [[1,2,3,4],[5,6,7,8]]\n",
    "print(L)\n",
    "# 3D : three dimensional \n",
    "L = [[[1,2,3,4],[5,6,7,8]],[[1,2,3,4],[5,6,7,8]]]\n",
    "print(L)\n",
    "# hetrogeneous list \n",
    "L = [1,34.34,True,\"sfa\",[1,2,3]]\n",
    "print(L)"
   ]
  },
  {
   "cell_type": "markdown",
   "id": "84c6bfe0-dabe-4917-aaa9-20acc7ff6860",
   "metadata": {},
   "source": [
    "## `accessing values` in a List"
   ]
  },
  {
   "cell_type": "code",
   "execution_count": 30,
   "id": "7e03c6b2-4fd5-45a2-ba0f-afe6c0367e70",
   "metadata": {},
   "outputs": [
    {
     "name": "stdout",
     "output_type": "stream",
     "text": [
      "1\n",
      "5\n",
      "7\n",
      "11\n"
     ]
    }
   ],
   "source": [
    "# indexing \n",
    "# 1D  : one dimensional\n",
    "L = [1,2,3,4,5]\n",
    "print(L[0])\n",
    "print(L[-1])\n",
    "# 2D : two dimensional \n",
    "L = [[1,2,3,4],[5,6,7,8]]\n",
    "print(L[1][2]) # to print 7\n",
    "# 3D : three dimensional \n",
    "L = [[[1,2,3,4],[5,6,7,8]],[[11,12,13,14],[15,16,17,18]]]\n",
    "print(L[1][0][0])"
   ]
  },
  {
   "cell_type": "code",
   "execution_count": 35,
   "id": "67e60d89-3ed1-4b65-b592-d2ea9a4e958d",
   "metadata": {},
   "outputs": [
    {
     "name": "stdout",
     "output_type": "stream",
     "text": [
      "[2, 3, 4]\n",
      "[3, 4, 5]\n"
     ]
    }
   ],
   "source": [
    "# slicing \n",
    "# 1D  : one dimensional\n",
    "L = [1,2,3,4,5]\n",
    "print(L[1:4])\n",
    "print(L[-3:])\n"
   ]
  },
  {
   "cell_type": "markdown",
   "id": "3cf2f092-44f5-4ff8-900f-2062a8f47221",
   "metadata": {},
   "source": [
    "## `adding values` in a List"
   ]
  },
  {
   "cell_type": "code",
   "execution_count": 39,
   "id": "da2c284d-ace2-409e-8e34-892da0154d2b",
   "metadata": {},
   "outputs": [
    {
     "name": "stdout",
     "output_type": "stream",
     "text": [
      "[1, 2, 3, 4, 5, 6]\n",
      "[1, 2, 3, 4, 5, 6, [7, 8, 9]]\n"
     ]
    }
   ],
   "source": [
    "# append : add the single value each time at last \n",
    "L = [1,2,3,4,5]\n",
    "L.append(6)\n",
    "print(L)\n",
    "L.append([7,8,9])\n",
    "print(L)"
   ]
  },
  {
   "cell_type": "code",
   "execution_count": 45,
   "id": "809f50e0-e163-45a4-a052-4d4a4247d9dc",
   "metadata": {},
   "outputs": [
    {
     "name": "stdout",
     "output_type": "stream",
     "text": [
      "[1, 2, 3, 4, 5, 6, 7, 8, 9]\n",
      "[1, 2, 3, 4, 5, 6, 7, 8, 9, 's', 't', 'r', 'i', 'n', 'g']\n"
     ]
    }
   ],
   "source": [
    "# extend : add the numtiple values at last \n",
    "L = [1,2,3,4,5] \n",
    "L.extend([6,7,8,9])\n",
    "print(L)\n",
    "L.extend('string')\n",
    "print(L)"
   ]
  },
  {
   "cell_type": "code",
   "execution_count": 50,
   "id": "48c37ef7-7da7-4d71-afb3-83d9761a359b",
   "metadata": {},
   "outputs": [
    {
     "name": "stdout",
     "output_type": "stream",
     "text": [
      "[1, 20, 2, 3, 4, 5]\n",
      "[[100, 200, 300], 1, 20, 2, 3, 4, 5]\n"
     ]
    }
   ],
   "source": [
    "# insert : add the value at a partcular postion(index)\n",
    "L = [1,2,3,4,5] \n",
    "L.insert(1,20)\n",
    "print(L)\n",
    "L.insert(0,[100,200,300])\n",
    "print(L)"
   ]
  },
  {
   "cell_type": "markdown",
   "id": "0e9f94be-79c5-4f0f-8088-e144fa821595",
   "metadata": {},
   "source": [
    "## `editing values` in a List"
   ]
  },
  {
   "cell_type": "code",
   "execution_count": 54,
   "id": "f262bbb0-7195-406b-a464-6dc124aae0d6",
   "metadata": {},
   "outputs": [
    {
     "name": "stdout",
     "output_type": "stream",
     "text": [
      "[1, 'a', 3, 4, 5]\n",
      "[1, 'a', 100, 200, 5]\n"
     ]
    }
   ],
   "source": [
    "L = [1,2,3,4,5] \n",
    "L[1] = \"a\"\n",
    "print(L)\n",
    "L[2:4] = [100,200]\n",
    "print(L)"
   ]
  },
  {
   "cell_type": "markdown",
   "id": "2bd6948d-6992-4742-8018-5789b2376265",
   "metadata": {},
   "source": [
    "## `deleting values` in a List"
   ]
  },
  {
   "cell_type": "code",
   "execution_count": 55,
   "id": "faa8ff87-6f0d-404c-b0ff-542150a47188",
   "metadata": {},
   "outputs": [
    {
     "ename": "NameError",
     "evalue": "name 'L' is not defined",
     "output_type": "error",
     "traceback": [
      "\u001b[1;31m---------------------------------------------------------------------------\u001b[0m",
      "\u001b[1;31mNameError\u001b[0m                                 Traceback (most recent call last)",
      "Cell \u001b[1;32mIn[55], line 4\u001b[0m\n\u001b[0;32m      2\u001b[0m L \u001b[38;5;241m=\u001b[39m [\u001b[38;5;241m1\u001b[39m,\u001b[38;5;241m2\u001b[39m,\u001b[38;5;241m3\u001b[39m,\u001b[38;5;241m4\u001b[39m,\u001b[38;5;241m5\u001b[39m]\n\u001b[0;32m      3\u001b[0m \u001b[38;5;28;01mdel\u001b[39;00m L \n\u001b[1;32m----> 4\u001b[0m \u001b[38;5;28mprint\u001b[39m(\u001b[43mL\u001b[49m)\n",
      "\u001b[1;31mNameError\u001b[0m: name 'L' is not defined"
     ]
    }
   ],
   "source": [
    "# using del keyword \n",
    "L = [1,2,3,4,5]\n",
    "del L \n",
    "print(L)"
   ]
  },
  {
   "cell_type": "code",
   "execution_count": 56,
   "id": "009b9953-f909-4b5e-8489-7672d7ae8f07",
   "metadata": {},
   "outputs": [
    {
     "name": "stdout",
     "output_type": "stream",
     "text": [
      "[4, 5]\n"
     ]
    }
   ],
   "source": [
    "L = [1,2,3,4,5]\n",
    "del L[0:3]\n",
    "print(L)"
   ]
  },
  {
   "cell_type": "code",
   "execution_count": 57,
   "id": "fc0638bf-a605-4206-9291-cd8f543c0ea1",
   "metadata": {},
   "outputs": [
    {
     "name": "stdout",
     "output_type": "stream",
     "text": [
      "[1, 2, 4, 5]\n"
     ]
    }
   ],
   "source": [
    "# using remove() function : here use pass the actual value to delete instead of index \n",
    "L = [1,2,3,4,5] \n",
    "L.remove(3)\n",
    "print(L)"
   ]
  },
  {
   "cell_type": "code",
   "execution_count": 59,
   "id": "96d9e51f-0cf8-4270-bb63-0479398bb4c2",
   "metadata": {},
   "outputs": [
    {
     "name": "stdout",
     "output_type": "stream",
     "text": [
      "[1, 2, 3, 4]\n"
     ]
    }
   ],
   "source": [
    "# pop() function : here the pass the index instead of actual value \n",
    "L = [1,2,3,4,5] \n",
    "L.pop(-1)\n",
    "print(L) \n",
    "L.pop() # if we not anything then it will delete the last value\n"
   ]
  },
  {
   "cell_type": "code",
   "execution_count": 60,
   "id": "793c02bc-69b3-461e-ac84-c4f40b978105",
   "metadata": {},
   "outputs": [
    {
     "name": "stdout",
     "output_type": "stream",
     "text": [
      "[]\n"
     ]
    }
   ],
   "source": [
    "# clear() function : it will delete all the values but not the list \n",
    "L = [1,2,3,4,5] \n",
    "L.clear()\n",
    "print(L)"
   ]
  }
 ],
 "metadata": {
  "kernelspec": {
   "display_name": "Python 3 (ipykernel)",
   "language": "python",
   "name": "python3"
  },
  "language_info": {
   "codemirror_mode": {
    "name": "ipython",
    "version": 3
   },
   "file_extension": ".py",
   "mimetype": "text/x-python",
   "name": "python",
   "nbconvert_exporter": "python",
   "pygments_lexer": "ipython3",
   "version": "3.10.10"
  }
 },
 "nbformat": 4,
 "nbformat_minor": 5
}
