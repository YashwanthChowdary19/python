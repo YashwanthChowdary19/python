{
 "cells": [
  {
   "cell_type": "markdown",
   "id": "5fba3f45-1240-4d62-bc6c-dedc0a54799f",
   "metadata": {},
   "source": [
    "# loops \n",
    "1) need of loops\n",
    "2) while loop\n",
    "3) for loop\n"
   ]
  },
  {
   "cell_type": "markdown",
   "id": "2755e58b-9e1d-41c7-aa46-00f79c175a48",
   "metadata": {},
   "source": [
    "## 1) need of loops\n",
    "\n",
    "Loops in programming are essential because they allow repeating a block of code multiple times without rewriting it.\n",
    "Here's why loops are needed:\n",
    "1. Automate Repetitive Tasks\n",
    "2. Process Data Collections (eg : lists, sets, etc)\n",
    "3. Reduce Code Size\n"
   ]
  },
  {
   "cell_type": "markdown",
   "id": "7c83a5e7-1967-475b-9db7-c16f92984119",
   "metadata": {},
   "source": [
    "## 2) while loop \n",
    "The while loop repeats a block of code as long as a given condition is True.\n",
    "\n",
    "We use a while loop instead of a for loop when:\n",
    "\n",
    "\n",
    "You Don't Know How Many Times to Repeat\n",
    "1) Use for loop when the number of iterations is known (e.g., loop 10 times).\n",
    "\n",
    "2) Use while loop when the number of iterations is unknown and depends on a condition."
   ]
  },
  {
   "cell_type": "code",
   "execution_count": null,
   "id": "539eff13-0b14-491c-b3a0-44df48d97887",
   "metadata": {},
   "outputs": [],
   "source": [
    "# basic syntax \n",
    "while condition : \n",
    "    # statements or code to run"
   ]
  },
  {
   "cell_type": "code",
   "execution_count": 1,
   "id": "8c7c3e66-7230-4f13-bedd-eafeab55521a",
   "metadata": {},
   "outputs": [
    {
     "name": "stdin",
     "output_type": "stream",
     "text": [
      "enter the number :  10\n"
     ]
    },
    {
     "name": "stdout",
     "output_type": "stream",
     "text": [
      "10 x 1 = 10\n",
      "10 x 2 = 20\n",
      "10 x 3 = 30\n",
      "10 x 4 = 40\n",
      "10 x 5 = 50\n",
      "10 x 6 = 60\n",
      "10 x 7 = 70\n",
      "10 x 8 = 80\n",
      "10 x 9 = 90\n",
      "10 x 10 = 100\n"
     ]
    }
   ],
   "source": [
    "# eaxmple program to print a table \n",
    "# take the integer input from the user \n",
    "number = int(input(\"enter the number : \"))\n",
    "# initialize a i variable with 1\n",
    "i=1 \n",
    "# start the loop \n",
    "while i<=10 : \n",
    "    print(number,\"x\",i,\"=\",number*i)\n",
    "    i+=1\n"
   ]
  },
  {
   "cell_type": "markdown",
   "id": "58c3073d-4395-4f2c-be3c-b92a71201009",
   "metadata": {},
   "source": [
    "## while loop with else \n",
    "we can use in python \n"
   ]
  },
  {
   "cell_type": "code",
   "execution_count": 2,
   "id": "749c79d5-8e4e-451f-8800-43458bc2e782",
   "metadata": {},
   "outputs": [
    {
     "name": "stdout",
     "output_type": "stream",
     "text": [
      "1  2  3  4  limit crossed\n"
     ]
    }
   ],
   "source": [
    "# example \n",
    "x = 1 \n",
    "while x<5 : \n",
    "    print(x,end='  ')\n",
    "    x+=1\n",
    "else : \n",
    "    print(\"limit crossed\")"
   ]
  },
  {
   "cell_type": "markdown",
   "id": "23b0f33b-1c57-4fdf-b427-5170e26cda1b",
   "metadata": {},
   "source": [
    "## for loop "
   ]
  },
  {
   "cell_type": "code",
   "execution_count": null,
   "id": "0514ef46-ac9e-44e8-9da9-e18c5be911f7",
   "metadata": {},
   "outputs": [],
   "source": [
    "# basic syntax \n",
    "for variable_name in sequence : \n",
    "    # code to run  \n",
    "    "
   ]
  },
  {
   "cell_type": "code",
   "execution_count": 4,
   "id": "86c86b22-58c8-47bc-ad5c-7851451ea691",
   "metadata": {},
   "outputs": [
    {
     "name": "stdout",
     "output_type": "stream",
     "text": [
      "1 2 3 4 5 6 7 8 9 10 "
     ]
    }
   ],
   "source": [
    "# example 1 : print 1 to 10  \n",
    "for i in range(1,11) : \n",
    "    print(i,end=' ')"
   ]
  },
  {
   "cell_type": "code",
   "execution_count": 5,
   "id": "7bdbe6dd-13f7-4aca-a8cd-6d7936a68bba",
   "metadata": {},
   "outputs": [
    {
     "name": "stdout",
     "output_type": "stream",
     "text": [
      "1 3 5 7 9 "
     ]
    }
   ],
   "source": [
    "# # example 1 : print 1 to 10  with interval by 2 \n",
    "for i in range(1,11,2) : # third parameter called step size (optional)\n",
    "    print(i,end=' ')"
   ]
  },
  {
   "cell_type": "code",
   "execution_count": 7,
   "id": "424fa186-a986-455d-afe3-dbc9a81fc895",
   "metadata": {},
   "outputs": [
    {
     "name": "stdout",
     "output_type": "stream",
     "text": [
      "10 9 8 7 6 5 4 3 2 1 "
     ]
    }
   ],
   "source": [
    "# example 3 : print 10 to 1\n",
    "for i in range (10,0,-1) : \n",
    "    print(i,end=' ')"
   ]
  },
  {
   "cell_type": "code",
   "execution_count": 8,
   "id": "39d8788a-0744-404e-b290-20ca2b288fc4",
   "metadata": {},
   "outputs": [
    {
     "name": "stdout",
     "output_type": "stream",
     "text": [
      "s\n",
      "t\n",
      "r\n",
      "i\n",
      "n\n",
      "g\n"
     ]
    }
   ],
   "source": [
    "# for can be used any datatypes \n",
    "for i in \"string\" : \n",
    "    print(i)"
   ]
  },
  {
   "cell_type": "code",
   "execution_count": 9,
   "id": "d1bb3ce2-492c-4b34-99bf-65db8cfca2d7",
   "metadata": {},
   "outputs": [
    {
     "name": "stdout",
     "output_type": "stream",
     "text": [
      "apple\n",
      "banana\n",
      "orange\n"
     ]
    }
   ],
   "source": [
    "for i in [\"apple\",\"banana\",\"orange\"]: \n",
    "    print(i)"
   ]
  },
  {
   "cell_type": "markdown",
   "id": "e56ef3f6-fa92-4324-9b78-abf98dc0956c",
   "metadata": {},
   "source": [
    "## for loop with else"
   ]
  },
  {
   "cell_type": "code",
   "execution_count": 12,
   "id": "6fbc3c3a-6c82-4e7f-80ca-381eb2ae6830",
   "metadata": {
    "scrolled": true
   },
   "outputs": [
    {
     "name": "stdout",
     "output_type": "stream",
     "text": [
      "apple\n",
      "banana\n",
      "orange\n",
      "all items completed in list\n"
     ]
    }
   ],
   "source": [
    "# example\n",
    "for i in [\"apple\",\"banana\",\"orange\"]: \n",
    "    print(i)\n",
    "else : \n",
    "    print(\"all items completed in list\")"
   ]
  },
  {
   "cell_type": "markdown",
   "id": "69f1efbb-6215-4e5a-bbef-2c7a72c9780a",
   "metadata": {},
   "source": [
    "## practice program  1: \n",
    "In a town, the current population is 10000.\n",
    "Every year, the population increases by 10% compared to the previous year.\n",
    "\n",
    "Write a Python program to calculate and display the population at the end of each of the last 10 years,\n",
    "assuming this 10% growth continues each year."
   ]
  },
  {
   "cell_type": "code",
   "execution_count": 23,
   "id": "925b04a1-73f2-4adf-b1da-e21c28fa4037",
   "metadata": {},
   "outputs": [
    {
     "name": "stdout",
     "output_type": "stream",
     "text": [
      "year  10 : 10000\n",
      "year  9 : 9090.90909090909\n",
      "year  8 : 8264.462809917353\n",
      "year  7 : 7513.148009015775\n",
      "year  6 : 6830.134553650703\n",
      "year  5 : 6209.213230591548\n",
      "year  4 : 5644.739300537771\n",
      "year  3 : 5131.5811823070635\n",
      "year  2 : 4665.07380209733\n",
      "year  1 : 4240.976183724845\n"
     ]
    }
   ],
   "source": [
    "population = 10000 \n",
    "\n",
    "for i in range(10,0,-1) : \n",
    "    print(\"year \",i,\":\",population)\n",
    "    population = (population/1.1)\n",
    "    "
   ]
  },
  {
   "cell_type": "markdown",
   "id": "144987eb-4b70-471d-b0d0-884fd8620f6a",
   "metadata": {},
   "source": [
    "## practice problem 2 : \n",
    "sequence of 1/1!+2/2!+...."
   ]
  },
  {
   "cell_type": "code",
   "execution_count": 31,
   "id": "761d13e0-8176-43dd-9407-a72816151d0d",
   "metadata": {},
   "outputs": [
    {
     "name": "stdin",
     "output_type": "stream",
     "text": [
      "enter the number :  3\n"
     ]
    },
    {
     "name": "stdout",
     "output_type": "stream",
     "text": [
      "2.5\n"
     ]
    }
   ],
   "source": [
    "number = int(input(\"enter the number : \"))\n",
    "\n",
    "fact = 1 \n",
    "result = 0\n",
    "for i in range(1,number+1) : \n",
    "    fact = fact*i\n",
    "    result = result+i/fact \n",
    "\n",
    "print(result)"
   ]
  },
  {
   "cell_type": "markdown",
   "id": "a7853aa0-77db-48a0-84d3-4d48b5749398",
   "metadata": {},
   "source": [
    "## nested loops\n",
    "What is a Nested Loop?\n",
    "1) A nested loop is a loop inside another loop.\n",
    "\n",
    "2) The outer loop runs normally.\n",
    "\n",
    "3) For each iteration of the outer loop, the inner loop runs completely."
   ]
  },
  {
   "cell_type": "code",
   "execution_count": null,
   "id": "a23e2380-d70c-4bc7-b1cc-cbe4f079da1e",
   "metadata": {},
   "outputs": [],
   "source": [
    "# syntax\n",
    "for i in range(outer_limit):\n",
    "    for j in range(inner_limit):\n",
    "        # inner loop code"
   ]
  },
  {
   "cell_type": "code",
   "execution_count": 33,
   "id": "b0a595a1-d7d3-4add-8f85-4e41e1ec0911",
   "metadata": {},
   "outputs": [
    {
     "name": "stdout",
     "output_type": "stream",
     "text": [
      "1 1\n",
      "1 2\n",
      "2 1\n",
      "2 2\n"
     ]
    }
   ],
   "source": [
    "# example \n",
    "for i in range(1,3) : \n",
    "    for j in range(1,3) : \n",
    "        print(i,j)"
   ]
  },
  {
   "cell_type": "code",
   "execution_count": 38,
   "id": "07c2a288-ee37-4f7a-9bb8-5d6dfb544c7a",
   "metadata": {},
   "outputs": [
    {
     "name": "stdin",
     "output_type": "stream",
     "text": [
      "enter the number :  5\n"
     ]
    },
    {
     "name": "stdout",
     "output_type": "stream",
     "text": [
      "*\n",
      "**\n",
      "***\n",
      "****\n",
      "*****\n"
     ]
    }
   ],
   "source": [
    "# pattern problem 1\n",
    "rows = int(input(\"enter the number : \"))\n",
    "for i in range(1,rows+1) : \n",
    "    for j in range(1,i+1) : \n",
    "        print(\"*\",end='')\n",
    "    print()"
   ]
  },
  {
   "cell_type": "code",
   "execution_count": 45,
   "id": "ed66334b-b9e0-4ba9-8c9a-3526ee519cee",
   "metadata": {},
   "outputs": [
    {
     "name": "stdin",
     "output_type": "stream",
     "text": [
      "enter the number :  4\n"
     ]
    },
    {
     "name": "stdout",
     "output_type": "stream",
     "text": [
      "1\n",
      "121\n",
      "12321\n",
      "1234321\n"
     ]
    }
   ],
   "source": [
    "# pattern problem 2\n",
    "rows = int(input(\"enter the number : \"))\n",
    "for i in range(1,rows+1) : \n",
    "    for j in range(1,i+1) : \n",
    "        print(j,end='')\n",
    "    for k in range(j-1,0,-1) : \n",
    "        print(k,end='')\n",
    "    print()"
   ]
  },
  {
   "cell_type": "markdown",
   "id": "42ecd655-9d12-4db7-9ec9-3ab88ed62f60",
   "metadata": {},
   "source": [
    "## loop control statements \n",
    "1) break \n",
    "2) continue \n",
    "3) pass"
   ]
  },
  {
   "cell_type": "markdown",
   "id": "749bd0f2-0428-401b-92c7-763a98063829",
   "metadata": {},
   "source": [
    "### break\n",
    "The break statement is used to exit the loop immediately, even if the loop condition is still True."
   ]
  },
  {
   "cell_type": "code",
   "execution_count": 49,
   "id": "b8e15b6b-4aa8-4192-8c82-0eaec20ef1d5",
   "metadata": {},
   "outputs": [
    {
     "name": "stdin",
     "output_type": "stream",
     "text": [
      "enter the lower range :  10\n",
      "enter the upper range :  100\n"
     ]
    },
    {
     "name": "stdout",
     "output_type": "stream",
     "text": [
      "11  13  17  19  23  29  31  37  41  43  47  53  59  61  67  71  73  79  83  89  97  "
     ]
    }
   ],
   "source": [
    "# example : find prime numbers from lower to upper range \n",
    "lower = int(input(\"enter the lower range : \"))\n",
    "upper = int(input(\"enter the upper range : \"))\n",
    "\n",
    "for i in range(lower,upper+1) : \n",
    "    for j in range(2,i) : \n",
    "        if i%j==0 : \n",
    "            break\n",
    "    else : \n",
    "        print(i,end = '  ')"
   ]
  },
  {
   "cell_type": "markdown",
   "id": "c6ff42ef-2074-490e-a32e-ebb85461362b",
   "metadata": {},
   "source": [
    "### continue \n",
    "The continue statement skips the current iteration and moves to the next one."
   ]
  },
  {
   "cell_type": "code",
   "execution_count": 55,
   "id": "1d40d078-64e5-402f-8dc6-2db2e76c978e",
   "metadata": {},
   "outputs": [
    {
     "name": "stdin",
     "output_type": "stream",
     "text": [
      "enter the lower range :  10\n",
      "enter the upper range :  40\n"
     ]
    },
    {
     "name": "stdout",
     "output_type": "stream",
     "text": [
      "10  12  14  16  18  20  22  24  26  28  30  32  34  36  38  40  "
     ]
    }
   ],
   "source": [
    "# example : print only even numbers \n",
    "lower = int(input(\"enter the lower range : \"))\n",
    "upper = int(input(\"enter the upper range : \"))\n",
    "\n",
    "for i in range(lower,upper+1) : \n",
    "    if i%2!=0 : \n",
    "        continue \n",
    "    else : \n",
    "        print(i,end='  ')\n",
    "# note  : same code for odd numbers also but change in if condition place == instead of !="
   ]
  },
  {
   "cell_type": "markdown",
   "id": "ed73a3fe-3626-4158-9a12-0afce6d9c51b",
   "metadata": {},
   "source": [
    "### pass \n",
    "The pass statement is a placeholder that does nothing.\n",
    "Used when code is required syntactically, but you want to leave it empty for now."
   ]
  },
  {
   "cell_type": "code",
   "execution_count": 56,
   "id": "e09df924-ca03-4d98-9ac0-ccfb2837ac15",
   "metadata": {},
   "outputs": [],
   "source": [
    "# example \n",
    "for i in range(1,100) : \n",
    "    pass # it prevents from error "
   ]
  }
 ],
 "metadata": {
  "kernelspec": {
   "display_name": "Python 3 (ipykernel)",
   "language": "python",
   "name": "python3"
  },
  "language_info": {
   "codemirror_mode": {
    "name": "ipython",
    "version": 3
   },
   "file_extension": ".py",
   "mimetype": "text/x-python",
   "name": "python",
   "nbconvert_exporter": "python",
   "pygments_lexer": "ipython3",
   "version": "3.10.10"
  }
 },
 "nbformat": 4,
 "nbformat_minor": 5
}
