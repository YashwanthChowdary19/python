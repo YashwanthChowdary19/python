{
 "cells": [
  {
   "cell_type": "markdown",
   "id": "9b9faa03-f815-4500-b945-e36d71c26dae",
   "metadata": {},
   "source": [
    "# Functions part - 2"
   ]
  },
  {
   "cell_type": "markdown",
   "id": "adaf11ea-8d78-43bc-af22-2d6d717529bf",
   "metadata": {},
   "source": [
    "## `**kwargs`"
   ]
  },
  {
   "cell_type": "markdown",
   "id": "17e3be40-8def-46e1-9bda-49832aa6fd51",
   "metadata": {},
   "source": [
    "```\n",
    "✅ **kwargs in Python\n",
    "\n",
    "    **kwargs allows a function to accept a variable number of keyword arguments (key-value pairs).\n",
    "\n",
    "    Inside the function, it’s stored as a dictionary.\n",
    "\n",
    "    kwargs is just a naming convention → you could write **data or **options.\n",
    "```"
   ]
  },
  {
   "cell_type": "code",
   "execution_count": 32,
   "id": "f17692ab-992d-4561-a3f9-2714a4bd5f63",
   "metadata": {},
   "outputs": [
    {
     "name": "stdout",
     "output_type": "stream",
     "text": [
      "maths -> 100\n",
      "english -> 98\n",
      "hindi -> 96\n",
      "physics -> 99\n",
      "blology -> 96\n",
      "<class 'dict'>\n",
      "None\n"
     ]
    }
   ],
   "source": [
    "def display(**data) : \n",
    "    for key,value in data.items() : \n",
    "        print(key,\"->\",value) \n",
    "    print(type(data))\n",
    "print(display(maths=100,english=98,hindi=96,physics=99,blology=96))"
   ]
  },
  {
   "cell_type": "markdown",
   "id": "8e06cd84-4187-4056-92e1-a61a1751f19b",
   "metadata": {},
   "source": [
    "## `how functions executed in memory`"
   ]
  },
  {
   "cell_type": "code",
   "execution_count": null,
   "id": "8f100042-521e-4df9-9dee-5b051a42d40b",
   "metadata": {},
   "outputs": [],
   "source": [
    "x=10\n",
    "def sum_of_two(num1,num2) : \n",
    "    return num1+num2\n"
   ]
  },
  {
   "cell_type": "markdown",
   "id": "30ff2067-1508-4971-8c55-694c6448c9e0",
   "metadata": {},
   "source": [
    "## `function without return statement` \n"
   ]
  },
  {
   "cell_type": "code",
   "execution_count": 33,
   "id": "78078fc8-c52f-4d46-9bfb-ae708d40991f",
   "metadata": {},
   "outputs": [
    {
     "name": "stdout",
     "output_type": "stream",
     "text": [
      "7\n",
      "None\n"
     ]
    }
   ],
   "source": [
    "x=10\n",
    "def sum_of_two(num1,num2) : \n",
    "     print(num1+num2) \n",
    "z = sum_of_two(2,5)\n",
    "print(z)"
   ]
  },
  {
   "cell_type": "markdown",
   "id": "c5633754-1cff-4fee-8266-e6429fbc6ca5",
   "metadata": {},
   "source": [
    "##  `variable scope`"
   ]
  },
  {
   "cell_type": "code",
   "execution_count": 37,
   "id": "1e19f247-23c1-4b74-b329-71fb767febfb",
   "metadata": {},
   "outputs": [
    {
     "name": "stdout",
     "output_type": "stream",
     "text": [
      "15\n",
      "10\n"
     ]
    }
   ],
   "source": [
    "x = 10 # global variable\n",
    "def funct() : \n",
    "    x = 5 # local variable\n",
    "    x += 10\n",
    "    print(x)\n",
    "funct()\n",
    "print(x)"
   ]
  },
  {
   "cell_type": "code",
   "execution_count": 40,
   "id": "a73fde1a-298d-4340-9c5b-f00dd1468add",
   "metadata": {},
   "outputs": [
    {
     "name": "stdout",
     "output_type": "stream",
     "text": [
      "Inside function: 15\n",
      "Outside function: 10\n"
     ]
    }
   ],
   "source": [
    "x = 10  # global variable\n",
    "\n",
    "def fun():\n",
    "    x = 0\n",
    "    x += 15 # local variable\n",
    "    print(\"Inside function:\", x)\n",
    "\n",
    "fun()\n",
    "print(\"Outside function:\", x)"
   ]
  },
  {
   "cell_type": "code",
   "execution_count": 42,
   "id": "e85904ec-cf65-4d46-a190-5d654411a93a",
   "metadata": {},
   "outputs": [
    {
     "ename": "UnboundLocalError",
     "evalue": "local variable 'x' referenced before assignment",
     "output_type": "error",
     "traceback": [
      "\u001b[1;31m---------------------------------------------------------------------------\u001b[0m",
      "\u001b[1;31mUnboundLocalError\u001b[0m                         Traceback (most recent call last)",
      "Cell \u001b[1;32mIn[42], line 8\u001b[0m\n\u001b[0;32m      5\u001b[0m     x \u001b[38;5;241m=\u001b[39m \u001b[38;5;241m5\u001b[39m\n\u001b[0;32m      6\u001b[0m     \u001b[38;5;28mprint\u001b[39m(\u001b[38;5;124m\"\u001b[39m\u001b[38;5;124mAfter assignment:\u001b[39m\u001b[38;5;124m\"\u001b[39m, x)\n\u001b[1;32m----> 8\u001b[0m \u001b[43mfun\u001b[49m\u001b[43m(\u001b[49m\u001b[43m)\u001b[49m\n",
      "Cell \u001b[1;32mIn[42], line 4\u001b[0m, in \u001b[0;36mfun\u001b[1;34m()\u001b[0m\n\u001b[0;32m      3\u001b[0m \u001b[38;5;28;01mdef\u001b[39;00m\u001b[38;5;250m \u001b[39m\u001b[38;5;21mfun\u001b[39m():\n\u001b[1;32m----> 4\u001b[0m     \u001b[38;5;28mprint\u001b[39m(\u001b[38;5;124m\"\u001b[39m\u001b[38;5;124mBefore assignment:\u001b[39m\u001b[38;5;124m\"\u001b[39m, \u001b[43mx\u001b[49m)  \u001b[38;5;66;03m# Error here!\u001b[39;00m\n\u001b[0;32m      5\u001b[0m     x \u001b[38;5;241m=\u001b[39m \u001b[38;5;241m5\u001b[39m\n\u001b[0;32m      6\u001b[0m     \u001b[38;5;28mprint\u001b[39m(\u001b[38;5;124m\"\u001b[39m\u001b[38;5;124mAfter assignment:\u001b[39m\u001b[38;5;124m\"\u001b[39m, x)\n",
      "\u001b[1;31mUnboundLocalError\u001b[0m: local variable 'x' referenced before assignment"
     ]
    }
   ],
   "source": [
    "x = 10\n",
    "\n",
    "def fun():\n",
    "    print(\"Before assignment:\", x)  # Error here!\n",
    "    x = 5\n",
    "    print(\"After assignment:\", x)\n",
    "\n",
    "fun()\n"
   ]
  },
  {
   "cell_type": "markdown",
   "id": "8b79d57c-9644-4660-b438-f414ded1e693",
   "metadata": {},
   "source": [
    "## `global keyword`"
   ]
  },
  {
   "cell_type": "code",
   "execution_count": 45,
   "id": "209924a6-8e07-4a0e-9d1f-12b703d8b093",
   "metadata": {},
   "outputs": [
    {
     "name": "stdout",
     "output_type": "stream",
     "text": [
      "Count inside: 1\n",
      "Count inside: 2\n",
      "Count outside: 2\n"
     ]
    }
   ],
   "source": [
    "count=0 \n",
    "\n",
    "def increment():\n",
    "    global count # global variable\n",
    "    count += 1\n",
    "    print(\"Count inside:\", count)\n",
    "\n",
    "increment() # count=1\n",
    "increment() # count=2\n",
    "print(\"Count outside:\", count)\n"
   ]
  },
  {
   "cell_type": "code",
   "execution_count": 23,
   "id": "afb443ec-7602-4544-a33c-5efb6d8be4a8",
   "metadata": {},
   "outputs": [
    {
     "name": "stdout",
     "output_type": "stream",
     "text": [
      "Inside: 20\n",
      "Outside: 20\n"
     ]
    }
   ],
   "source": [
    "x = 10\n",
    "\n",
    "def change():\n",
    "    global x\n",
    "    x = 20\n",
    "    print(\"Inside:\", x)\n",
    "\n",
    "change()\n",
    "print(\"Outside:\", x)\n"
   ]
  },
  {
   "cell_type": "markdown",
   "id": "1cb2d366-7d40-4808-9b24-baac5023f89d",
   "metadata": {},
   "source": [
    "## `nested functions`"
   ]
  },
  {
   "cell_type": "code",
   "execution_count": 47,
   "id": "2ab86719-3976-4bf9-a7ba-54b1257f594c",
   "metadata": {},
   "outputs": [
    {
     "name": "stdout",
     "output_type": "stream",
     "text": [
      "Inner: 10\n",
      "Outer: 10\n"
     ]
    }
   ],
   "source": [
    "def outer():\n",
    "    x = 10\n",
    "    def inner():\n",
    "        print(\"Inner:\", x)\n",
    "    inner()\n",
    "    print(\"Outer:\", x)\n",
    "\n",
    "outer()\n"
   ]
  },
  {
   "cell_type": "code",
   "execution_count": 25,
   "id": "42f63c82-ceb1-4c43-9033-0b0bb725c31f",
   "metadata": {},
   "outputs": [
    {
     "name": "stdout",
     "output_type": "stream",
     "text": [
      "Inner: 50\n",
      "Outer: 50\n",
      "Outside: 50\n"
     ]
    }
   ],
   "source": [
    "x = 5\n",
    "\n",
    "def outer():\n",
    "    def inner():\n",
    "        global x\n",
    "        x = 50\n",
    "        print(\"Inner:\", x)\n",
    "    inner()\n",
    "    print(\"Outer:\", x)\n",
    "\n",
    "outer()\n",
    "print(\"Outside:\", x)\n"
   ]
  },
  {
   "cell_type": "code",
   "execution_count": 53,
   "id": "1770568e-ea86-42e8-8f3e-e4927ac57be4",
   "metadata": {},
   "outputs": [
    {
     "ename": "UnboundLocalError",
     "evalue": "local variable 'x' referenced before assignment",
     "output_type": "error",
     "traceback": [
      "\u001b[1;31m---------------------------------------------------------------------------\u001b[0m",
      "\u001b[1;31mUnboundLocalError\u001b[0m                         Traceback (most recent call last)",
      "Cell \u001b[1;32mIn[53], line 8\u001b[0m\n\u001b[0;32m      5\u001b[0m         \u001b[38;5;28mprint\u001b[39m(\u001b[38;5;124m\"\u001b[39m\u001b[38;5;124mInner:\u001b[39m\u001b[38;5;124m\"\u001b[39m, x)\n\u001b[0;32m      6\u001b[0m     inner()\n\u001b[1;32m----> 8\u001b[0m \u001b[43mouter\u001b[49m\u001b[43m(\u001b[49m\u001b[43m)\u001b[49m\n",
      "Cell \u001b[1;32mIn[53], line 6\u001b[0m, in \u001b[0;36mouter\u001b[1;34m()\u001b[0m\n\u001b[0;32m      4\u001b[0m     x \u001b[38;5;241m=\u001b[39m x \u001b[38;5;241m+\u001b[39m \u001b[38;5;241m5\u001b[39m \u001b[38;5;66;03m# ❌ Error: local before assignment\u001b[39;00m\n\u001b[0;32m      5\u001b[0m     \u001b[38;5;28mprint\u001b[39m(\u001b[38;5;124m\"\u001b[39m\u001b[38;5;124mInner:\u001b[39m\u001b[38;5;124m\"\u001b[39m, x)\n\u001b[1;32m----> 6\u001b[0m \u001b[43minner\u001b[49m\u001b[43m(\u001b[49m\u001b[43m)\u001b[49m\n",
      "Cell \u001b[1;32mIn[53], line 4\u001b[0m, in \u001b[0;36mouter.<locals>.inner\u001b[1;34m()\u001b[0m\n\u001b[0;32m      3\u001b[0m \u001b[38;5;28;01mdef\u001b[39;00m\u001b[38;5;250m \u001b[39m\u001b[38;5;21minner\u001b[39m():\n\u001b[1;32m----> 4\u001b[0m     x \u001b[38;5;241m=\u001b[39m \u001b[43mx\u001b[49m \u001b[38;5;241m+\u001b[39m \u001b[38;5;241m5\u001b[39m \u001b[38;5;66;03m# ❌ Error: local before assignment\u001b[39;00m\n\u001b[0;32m      5\u001b[0m     \u001b[38;5;28mprint\u001b[39m(\u001b[38;5;124m\"\u001b[39m\u001b[38;5;124mInner:\u001b[39m\u001b[38;5;124m\"\u001b[39m, x)\n",
      "\u001b[1;31mUnboundLocalError\u001b[0m: local variable 'x' referenced before assignment"
     ]
    }
   ],
   "source": [
    "\n",
    "def outer():\n",
    "    x = 10\n",
    "    def inner():\n",
    "        x = x + 5 # ❌ Error: local before assignment\n",
    "        print(\"Inner:\", x)\n",
    "    inner()\n",
    "\n",
    "outer()\n",
    "\n"
   ]
  },
  {
   "cell_type": "code",
   "execution_count": null,
   "id": "525e6d86-ab13-40c5-ac5a-90708f7838de",
   "metadata": {},
   "outputs": [],
   "source": []
  }
 ],
 "metadata": {
  "kernelspec": {
   "display_name": "Python 3 (ipykernel)",
   "language": "python",
   "name": "python3"
  },
  "language_info": {
   "codemirror_mode": {
    "name": "ipython",
    "version": 3
   },
   "file_extension": ".py",
   "mimetype": "text/x-python",
   "name": "python",
   "nbconvert_exporter": "python",
   "pygments_lexer": "ipython3",
   "version": "3.10.10"
  }
 },
 "nbformat": 4,
 "nbformat_minor": 5
}
