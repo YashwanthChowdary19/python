{
 "cells": [
  {
   "cell_type": "markdown",
   "id": "9b9faa03-f815-4500-b945-e36d71c26dae",
   "metadata": {},
   "source": [
    "# Functions part - 2"
   ]
  },
  {
   "cell_type": "markdown",
   "id": "adaf11ea-8d78-43bc-af22-2d6d717529bf",
   "metadata": {},
   "source": [
    "## `**kwargs`"
   ]
  },
  {
   "cell_type": "markdown",
   "id": "17e3be40-8def-46e1-9bda-49832aa6fd51",
   "metadata": {},
   "source": [
    "```\n",
    "✅ **kwargs in Python\n",
    "\n",
    "    **kwargs allows a function to accept a variable number of keyword arguments (key-value pairs).\n",
    "\n",
    "    Inside the function, it’s stored as a dictionary.\n",
    "\n",
    "    kwargs is just a naming convention → you could write **data or **options.\n",
    "```"
   ]
  },
  {
   "cell_type": "code",
   "execution_count": 32,
   "id": "f17692ab-992d-4561-a3f9-2714a4bd5f63",
   "metadata": {},
   "outputs": [
    {
     "name": "stdout",
     "output_type": "stream",
     "text": [
      "maths -> 100\n",
      "english -> 98\n",
      "hindi -> 96\n",
      "physics -> 99\n",
      "blology -> 96\n",
      "<class 'dict'>\n",
      "None\n"
     ]
    }
   ],
   "source": [
    "def display(**data) : \n",
    "    for key,value in data.items() : \n",
    "        print(key,\"->\",value) \n",
    "    print(type(data))\n",
    "print(display(maths=100,english=98,hindi=96,physics=99,blology=96))"
   ]
  },
  {
   "cell_type": "markdown",
   "id": "8e06cd84-4187-4056-92e1-a61a1751f19b",
   "metadata": {},
   "source": [
    "## `how functions executed in memory`"
   ]
  },
  {
   "cell_type": "code",
   "execution_count": null,
   "id": "8f100042-521e-4df9-9dee-5b051a42d40b",
   "metadata": {},
   "outputs": [],
   "source": [
    "x=10\n",
    "def sum_of_two(num1,num2) : \n",
    "    return num1+num2\n"
   ]
  },
  {
   "cell_type": "markdown",
   "id": "30ff2067-1508-4971-8c55-694c6448c9e0",
   "metadata": {},
   "source": [
    "## `function without return statement` \n"
   ]
  },
  {
   "cell_type": "code",
   "execution_count": 33,
   "id": "78078fc8-c52f-4d46-9bfb-ae708d40991f",
   "metadata": {},
   "outputs": [
    {
     "name": "stdout",
     "output_type": "stream",
     "text": [
      "7\n",
      "None\n"
     ]
    }
   ],
   "source": [
    "x=10\n",
    "def sum_of_two(num1,num2) : \n",
    "     print(num1+num2) \n",
    "z = sum_of_two(2,5)\n",
    "print(z)"
   ]
  },
  {
   "cell_type": "markdown",
   "id": "c5633754-1cff-4fee-8266-e6429fbc6ca5",
   "metadata": {},
   "source": [
    "##  `variable scope`"
   ]
  },
  {
   "cell_type": "code",
   "execution_count": 37,
   "id": "1e19f247-23c1-4b74-b329-71fb767febfb",
   "metadata": {},
   "outputs": [
    {
     "name": "stdout",
     "output_type": "stream",
     "text": [
      "15\n",
      "10\n"
     ]
    }
   ],
   "source": [
    "x = 10 # global variable\n",
    "def funct() : \n",
    "    x = 5 # local variable\n",
    "    x += 10\n",
    "    print(x)\n",
    "funct()\n",
    "print(x)"
   ]
  },
  {
   "cell_type": "code",
   "execution_count": 40,
   "id": "a73fde1a-298d-4340-9c5b-f00dd1468add",
   "metadata": {},
   "outputs": [
    {
     "name": "stdout",
     "output_type": "stream",
     "text": [
      "Inside function: 15\n",
      "Outside function: 10\n"
     ]
    }
   ],
   "source": [
    "x = 10  # global variable\n",
    "\n",
    "def fun():\n",
    "    x = 0\n",
    "    x += 15 # local variable\n",
    "    print(\"Inside function:\", x)\n",
    "\n",
    "fun()\n",
    "print(\"Outside function:\", x)"
   ]
  },
  {
   "cell_type": "code",
   "execution_count": 42,
   "id": "e85904ec-cf65-4d46-a190-5d654411a93a",
   "metadata": {},
   "outputs": [
    {
     "ename": "UnboundLocalError",
     "evalue": "local variable 'x' referenced before assignment",
     "output_type": "error",
     "traceback": [
      "\u001b[1;31m---------------------------------------------------------------------------\u001b[0m",
      "\u001b[1;31mUnboundLocalError\u001b[0m                         Traceback (most recent call last)",
      "Cell \u001b[1;32mIn[42], line 8\u001b[0m\n\u001b[0;32m      5\u001b[0m     x \u001b[38;5;241m=\u001b[39m \u001b[38;5;241m5\u001b[39m\n\u001b[0;32m      6\u001b[0m     \u001b[38;5;28mprint\u001b[39m(\u001b[38;5;124m\"\u001b[39m\u001b[38;5;124mAfter assignment:\u001b[39m\u001b[38;5;124m\"\u001b[39m, x)\n\u001b[1;32m----> 8\u001b[0m \u001b[43mfun\u001b[49m\u001b[43m(\u001b[49m\u001b[43m)\u001b[49m\n",
      "Cell \u001b[1;32mIn[42], line 4\u001b[0m, in \u001b[0;36mfun\u001b[1;34m()\u001b[0m\n\u001b[0;32m      3\u001b[0m \u001b[38;5;28;01mdef\u001b[39;00m\u001b[38;5;250m \u001b[39m\u001b[38;5;21mfun\u001b[39m():\n\u001b[1;32m----> 4\u001b[0m     \u001b[38;5;28mprint\u001b[39m(\u001b[38;5;124m\"\u001b[39m\u001b[38;5;124mBefore assignment:\u001b[39m\u001b[38;5;124m\"\u001b[39m, \u001b[43mx\u001b[49m)  \u001b[38;5;66;03m# Error here!\u001b[39;00m\n\u001b[0;32m      5\u001b[0m     x \u001b[38;5;241m=\u001b[39m \u001b[38;5;241m5\u001b[39m\n\u001b[0;32m      6\u001b[0m     \u001b[38;5;28mprint\u001b[39m(\u001b[38;5;124m\"\u001b[39m\u001b[38;5;124mAfter assignment:\u001b[39m\u001b[38;5;124m\"\u001b[39m, x)\n",
      "\u001b[1;31mUnboundLocalError\u001b[0m: local variable 'x' referenced before assignment"
     ]
    }
   ],
   "source": [
    "x = 10\n",
    "\n",
    "def fun():\n",
    "    print(\"Before assignment:\", x)  # Error here!\n",
    "    x = 5\n",
    "    print(\"After assignment:\", x)\n",
    "\n",
    "fun()\n"
   ]
  },
  {
   "cell_type": "markdown",
   "id": "8b79d57c-9644-4660-b438-f414ded1e693",
   "metadata": {},
   "source": [
    "## `global keyword`"
   ]
  },
  {
   "cell_type": "code",
   "execution_count": 45,
   "id": "209924a6-8e07-4a0e-9d1f-12b703d8b093",
   "metadata": {},
   "outputs": [
    {
     "name": "stdout",
     "output_type": "stream",
     "text": [
      "Count inside: 1\n",
      "Count inside: 2\n",
      "Count outside: 2\n"
     ]
    }
   ],
   "source": [
    "count=0 \n",
    "\n",
    "def increment():\n",
    "    global count # global variable\n",
    "    count += 1\n",
    "    print(\"Count inside:\", count)\n",
    "\n",
    "increment() # count=1\n",
    "increment() # count=2\n",
    "print(\"Count outside:\", count)\n"
   ]
  },
  {
   "cell_type": "code",
   "execution_count": 23,
   "id": "afb443ec-7602-4544-a33c-5efb6d8be4a8",
   "metadata": {},
   "outputs": [
    {
     "name": "stdout",
     "output_type": "stream",
     "text": [
      "Inside: 20\n",
      "Outside: 20\n"
     ]
    }
   ],
   "source": [
    "x = 10\n",
    "\n",
    "def change():\n",
    "    global x\n",
    "    x = 20\n",
    "    print(\"Inside:\", x)\n",
    "\n",
    "change()\n",
    "print(\"Outside:\", x)\n"
   ]
  },
  {
   "cell_type": "markdown",
   "id": "1cb2d366-7d40-4808-9b24-baac5023f89d",
   "metadata": {},
   "source": [
    "## `nested functions`"
   ]
  },
  {
   "cell_type": "code",
   "execution_count": 47,
   "id": "2ab86719-3976-4bf9-a7ba-54b1257f594c",
   "metadata": {},
   "outputs": [
    {
     "name": "stdout",
     "output_type": "stream",
     "text": [
      "Inner: 10\n",
      "Outer: 10\n"
     ]
    }
   ],
   "source": [
    "def outer():\n",
    "    x = 10\n",
    "    def inner():\n",
    "        print(\"Inner:\", x)\n",
    "    inner()\n",
    "    print(\"Outer:\", x)\n",
    "\n",
    "outer()\n"
   ]
  },
  {
   "cell_type": "code",
   "execution_count": 25,
   "id": "42f63c82-ceb1-4c43-9033-0b0bb725c31f",
   "metadata": {},
   "outputs": [
    {
     "name": "stdout",
     "output_type": "stream",
     "text": [
      "Inner: 50\n",
      "Outer: 50\n",
      "Outside: 50\n"
     ]
    }
   ],
   "source": [
    "x = 5\n",
    "\n",
    "def outer():\n",
    "    def inner():\n",
    "        global x\n",
    "        x = 50\n",
    "        print(\"Inner:\", x)\n",
    "    inner()\n",
    "    print(\"Outer:\", x)\n",
    "\n",
    "outer()\n",
    "print(\"Outside:\", x)\n"
   ]
  },
  {
   "cell_type": "code",
   "execution_count": 53,
   "id": "1770568e-ea86-42e8-8f3e-e4927ac57be4",
   "metadata": {},
   "outputs": [
    {
     "ename": "UnboundLocalError",
     "evalue": "local variable 'x' referenced before assignment",
     "output_type": "error",
     "traceback": [
      "\u001b[1;31m---------------------------------------------------------------------------\u001b[0m",
      "\u001b[1;31mUnboundLocalError\u001b[0m                         Traceback (most recent call last)",
      "Cell \u001b[1;32mIn[53], line 8\u001b[0m\n\u001b[0;32m      5\u001b[0m         \u001b[38;5;28mprint\u001b[39m(\u001b[38;5;124m\"\u001b[39m\u001b[38;5;124mInner:\u001b[39m\u001b[38;5;124m\"\u001b[39m, x)\n\u001b[0;32m      6\u001b[0m     inner()\n\u001b[1;32m----> 8\u001b[0m \u001b[43mouter\u001b[49m\u001b[43m(\u001b[49m\u001b[43m)\u001b[49m\n",
      "Cell \u001b[1;32mIn[53], line 6\u001b[0m, in \u001b[0;36mouter\u001b[1;34m()\u001b[0m\n\u001b[0;32m      4\u001b[0m     x \u001b[38;5;241m=\u001b[39m x \u001b[38;5;241m+\u001b[39m \u001b[38;5;241m5\u001b[39m \u001b[38;5;66;03m# ❌ Error: local before assignment\u001b[39;00m\n\u001b[0;32m      5\u001b[0m     \u001b[38;5;28mprint\u001b[39m(\u001b[38;5;124m\"\u001b[39m\u001b[38;5;124mInner:\u001b[39m\u001b[38;5;124m\"\u001b[39m, x)\n\u001b[1;32m----> 6\u001b[0m \u001b[43minner\u001b[49m\u001b[43m(\u001b[49m\u001b[43m)\u001b[49m\n",
      "Cell \u001b[1;32mIn[53], line 4\u001b[0m, in \u001b[0;36mouter.<locals>.inner\u001b[1;34m()\u001b[0m\n\u001b[0;32m      3\u001b[0m \u001b[38;5;28;01mdef\u001b[39;00m\u001b[38;5;250m \u001b[39m\u001b[38;5;21minner\u001b[39m():\n\u001b[1;32m----> 4\u001b[0m     x \u001b[38;5;241m=\u001b[39m \u001b[43mx\u001b[49m \u001b[38;5;241m+\u001b[39m \u001b[38;5;241m5\u001b[39m \u001b[38;5;66;03m# ❌ Error: local before assignment\u001b[39;00m\n\u001b[0;32m      5\u001b[0m     \u001b[38;5;28mprint\u001b[39m(\u001b[38;5;124m\"\u001b[39m\u001b[38;5;124mInner:\u001b[39m\u001b[38;5;124m\"\u001b[39m, x)\n",
      "\u001b[1;31mUnboundLocalError\u001b[0m: local variable 'x' referenced before assignment"
     ]
    }
   ],
   "source": [
    "\n",
    "def outer():\n",
    "    x = 10\n",
    "    def inner():\n",
    "        x = x + 5 # ❌ Error: local before assignment\n",
    "        print(\"Inner:\", x)\n",
    "    inner()\n",
    "\n",
    "outer()\n",
    "\n"
   ]
  },
  {
   "cell_type": "markdown",
   "id": "4d859ef3-7385-4c45-9e0a-54b49fcd09e3",
   "metadata": {},
   "source": [
    "# `functions are first-class citizens`"
   ]
  },
  {
   "cell_type": "markdown",
   "id": "a2f35d29-22ac-4a86-ad3a-513b06449853",
   "metadata": {},
   "source": [
    "```\n",
    "When we say functions are first-class citizens (or first-class objects) in Python, it means:\n",
    "\n",
    "👉 Functions are treated like any other variable or object.\n",
    "That is, you can:\n",
    "\n",
    "    Assign a function to a variable\n",
    "\n",
    "    Pass a function as an argument to another function\n",
    "\n",
    "    Return a function from another function\n",
    "\n",
    "    Store functions in data structures (like lists, dicts, etc.)\n",
    "```"
   ]
  },
  {
   "cell_type": "markdown",
   "id": "df0607c7-fb4d-437d-92b5-f429dc10243e",
   "metadata": {},
   "source": [
    "### `1) Assign a function to a variable`"
   ]
  },
  {
   "cell_type": "code",
   "execution_count": 6,
   "id": "afae39af-168e-4c74-8f8b-50de7f7e25d0",
   "metadata": {},
   "outputs": [],
   "source": [
    "# example \n",
    "def power(num1,num2) : \n",
    "    return num1**num2"
   ]
  },
  {
   "cell_type": "code",
   "execution_count": 14,
   "id": "6fb42260-4505-4db2-b2a7-72219b1f4b38",
   "metadata": {},
   "outputs": [
    {
     "data": {
      "text/plain": [
       "function"
      ]
     },
     "execution_count": 14,
     "metadata": {},
     "output_type": "execute_result"
    }
   ],
   "source": [
    "# you can check the datatype of power function  \n",
    "type(power)"
   ]
  },
  {
   "cell_type": "code",
   "execution_count": 12,
   "id": "2ee976e8-9f57-40f7-83d7-814ae287758f",
   "metadata": {},
   "outputs": [
    {
     "name": "stdout",
     "output_type": "stream",
     "text": [
      "2063950921392\n",
      "2063950921392\n"
     ]
    }
   ],
   "source": [
    "# lets assign the power function to the variable \n",
    "# note : don't give the parenthesis\n",
    "var = power\n",
    "print(id(var))\n",
    "print(id(power))# in the output you can observe the memory address of var and power function are same ,so var became a function"
   ]
  },
  {
   "cell_type": "code",
   "execution_count": 15,
   "id": "7bd7452e-9842-400e-90b9-0780ca7200c8",
   "metadata": {},
   "outputs": [
    {
     "data": {
      "text/plain": [
       "function"
      ]
     },
     "execution_count": 15,
     "metadata": {},
     "output_type": "execute_result"
    }
   ],
   "source": [
    "# you can check the datatype of var   \n",
    "type(var) # var become function"
   ]
  },
  {
   "cell_type": "code",
   "execution_count": 10,
   "id": "7b3274a6-ee7a-4da2-b238-b01f82b2ae27",
   "metadata": {},
   "outputs": [
    {
     "name": "stdout",
     "output_type": "stream",
     "text": [
      "9\n"
     ]
    }
   ],
   "source": [
    "print(var(3,2)) # in the place power we are giving var but still it works as a power function "
   ]
  },
  {
   "cell_type": "markdown",
   "id": "0c42b381-42d4-4dfa-ba97-bb2e29c64ada",
   "metadata": {},
   "source": [
    "### `2) Pass a function as an argument to another function`"
   ]
  },
  {
   "cell_type": "code",
   "execution_count": 26,
   "id": "d60fe11e-c9b8-40a0-add1-f0415a185837",
   "metadata": {},
   "outputs": [],
   "source": [
    "# example : \n",
    "def function1() : \n",
    "    print(\"function 1\")\n",
    "    return \"completed\"\n",
    "def function2(var) : \n",
    "    print(\"function 2\")\n",
    "    return var() # here it returning the function1 , both var and function1 are same"
   ]
  },
  {
   "cell_type": "code",
   "execution_count": 29,
   "id": "143de286-09fe-4011-a2e6-8dd6f97eed86",
   "metadata": {},
   "outputs": [
    {
     "name": "stdout",
     "output_type": "stream",
     "text": [
      "function 2\n",
      "function 1\n",
      "completed\n"
     ]
    }
   ],
   "source": [
    "print(function2(function1)) \n",
    "\"\"\"in this case i am passing function1 as argument to the function2 ,\n",
    "so the function1 is assigned to the var then var became function so i used var in the place of function1\n",
    "\"\"\""
   ]
  },
  {
   "cell_type": "markdown",
   "id": "ea8e4f1b-0440-466b-bb4a-6dfdd504be07",
   "metadata": {},
   "source": [
    "### `3) Return a function from another function`"
   ]
  },
  {
   "cell_type": "code",
   "execution_count": 33,
   "id": "51d39093-5b98-4521-b83c-711c196f406e",
   "metadata": {},
   "outputs": [
    {
     "name": "stdout",
     "output_type": "stream",
     "text": [
      "I am inner function\n"
     ]
    }
   ],
   "source": [
    "def outer():\n",
    "    def inner():\n",
    "        return \"I am inner function\"\n",
    "    return inner   # returning a function\n",
    "\n",
    "result = outer()\n",
    "print(result())   # calling returned function\n"
   ]
  },
  {
   "cell_type": "markdown",
   "id": "53dbb1dc-6fa3-495c-8bcf-8bf16193c3c6",
   "metadata": {},
   "source": [
    "### `4) Store functions in data structures (like lists, dicts, etc.)`"
   ]
  },
  {
   "cell_type": "code",
   "execution_count": 41,
   "id": "2621bb66-97ad-4c02-b986-a80053141d0b",
   "metadata": {},
   "outputs": [
    {
     "name": "stdout",
     "output_type": "stream",
     "text": [
      "addition :  22\n",
      "substraction :  2\n",
      "addition :  22\n",
      "substraction :  2\n"
     ]
    }
   ],
   "source": [
    "def add(num1,num2) : \n",
    "    return num1+num2\n",
    "\n",
    "def substract(num1,num2) : \n",
    "    return num1-num2\n",
    "# stored in dictionary\n",
    "operations = {\"add\" : add,\"substraction\":substract} \n",
    "print(\"addition : \",operations[\"add\"](10,12))  # here operations[\"add\"] replace with its value add then it became \"add(10,12)\"\"\n",
    "print(\"substraction : \",operations[\"substraction\"](5,3))  # here operations[\"substraction\"] replace with its value substract then it became \"substract(10,12)\"\n",
    "\n",
    "# stored in a list \n",
    "py_list = [1,2,3,4,add,substract]\n",
    "print(\"addition : \",py_list[-2](10,12)) # here py_list[-2] replace with its value add then it became \"add(10,12)\"\"\n",
    "print(\"substraction : \",py_list[-1](5,3)) # here py_list[-1] replace with its value substract then it became \"substract(10,12)\"\""
   ]
  },
  {
   "cell_type": "markdown",
   "id": "875629e2-e1c7-43a4-b694-eb8e0ab1ccf0",
   "metadata": {},
   "source": [
    "# `lambda functions`"
   ]
  },
  {
   "cell_type": "markdown",
   "id": "29d029cf-c853-43a0-b15b-d1ba8e99ba7c",
   "metadata": {},
   "source": [
    "``` \n",
    "A lambda function is a small, anonymous (nameless) function in Python.\n",
    "It’s written in one line, usually for short, throwaway tasks where using def would be overkill.\n",
    "```"
   ]
  },
  {
   "cell_type": "markdown",
   "id": "378adb51-43af-434d-a7bd-612a320bb11f",
   "metadata": {},
   "source": [
    "##### basic syntax \n",
    "\n",
    "`lambda arguments : expression`  \n",
    "```\n",
    "lambda → keyword\n",
    "\n",
    "arguments → input (like parameters in a normal function)\n",
    "\n",
    "expression → single expression (automatically returned, no need of return)\n",
    "```"
   ]
  },
  {
   "cell_type": "code",
   "execution_count": 42,
   "id": "d4117c23-e292-42a0-89c1-33b2cb134f69",
   "metadata": {},
   "outputs": [
    {
     "data": {
      "text/plain": [
       "27"
      ]
     },
     "execution_count": 42,
     "metadata": {},
     "output_type": "execute_result"
    }
   ],
   "source": [
    "# Write a lambda function to calculate the cube of a given number. \n",
    "a = lambda x : x**3\n",
    "a(3) # 3*3*3"
   ]
  },
  {
   "cell_type": "code",
   "execution_count": 44,
   "id": "1123f6b1-4efb-4a5c-9174-fdb29032d8f2",
   "metadata": {},
   "outputs": [
    {
     "data": {
      "text/plain": [
       "15"
      ]
     },
     "execution_count": 44,
     "metadata": {},
     "output_type": "execute_result"
    }
   ],
   "source": [
    "# Write a lambda function that takes two numbers and returns the maximum of the two.\n",
    "a = lambda x,y : x if x>y else y\n",
    "a(10,15)"
   ]
  },
  {
   "cell_type": "code",
   "execution_count": 46,
   "id": "4918e51b-7a29-4d3d-b429-f994a6997794",
   "metadata": {},
   "outputs": [
    {
     "data": {
      "text/plain": [
       "'olleh'"
      ]
     },
     "execution_count": 46,
     "metadata": {},
     "output_type": "execute_result"
    }
   ],
   "source": [
    "# Write a lambda function to reverse a given string.\n",
    "a = lambda string : string[::-1]\n",
    "a(\"hello\")"
   ]
  },
  {
   "cell_type": "markdown",
   "id": "4fa00b86-ace1-464d-b703-c615ff2f25eb",
   "metadata": {},
   "source": [
    "# problems on lambda"
   ]
  },
  {
   "cell_type": "code",
   "execution_count": 7,
   "id": "7debad94-0a6a-464d-b1c6-32f9ea8f038e",
   "metadata": {},
   "outputs": [
    {
     "name": "stdout",
     "output_type": "stream",
     "text": [
      "True\n",
      "False\n"
     ]
    }
   ],
   "source": [
    "# Write a lambda function to check if a number is even.\n",
    "a = lambda x : x%2==0\n",
    "print(a(10))\n",
    "print(a(11))"
   ]
  },
  {
   "cell_type": "code",
   "execution_count": 10,
   "id": "1a02e1ed-64a3-4362-adcf-db421ee56798",
   "metadata": {},
   "outputs": [
    {
     "data": {
      "text/plain": [
       "12"
      ]
     },
     "execution_count": 10,
     "metadata": {},
     "output_type": "execute_result"
    }
   ],
   "source": [
    "# Create a lambda function to find the maximum of three numbers.\n",
    "a = lambda x,y,z : max(x,y,z)\n",
    "a(10,12,7)"
   ]
  },
  {
   "cell_type": "code",
   "execution_count": 16,
   "id": "d51b111c-ab28-4581-8152-1606f66b8add",
   "metadata": {},
   "outputs": [
    {
     "data": {
      "text/plain": [
       "'negative'"
      ]
     },
     "execution_count": 16,
     "metadata": {},
     "output_type": "execute_result"
    }
   ],
   "source": [
    "# Write a lambda function to check whether a number is positive, negative, or zero.\n",
    "a = lambda x : \"positve\" if x>0 else (\"negative\" if x<0 else \"zero\")\n",
    "a(-1)"
   ]
  },
  {
   "cell_type": "code",
   "execution_count": 24,
   "id": "b5cb86a4-0f12-4254-8e5e-749b7fc48975",
   "metadata": {},
   "outputs": [
    {
     "data": {
      "text/plain": [
       "8"
      ]
     },
     "execution_count": 24,
     "metadata": {},
     "output_type": "execute_result"
    }
   ],
   "source": [
    "# Create a lambda function to find the last digit of a number.\n",
    "a = lambda number : number%10 \n",
    "a(34348735658)"
   ]
  },
  {
   "cell_type": "code",
   "execution_count": 41,
   "id": "a7b8bb6d-e544-4cff-a526-2d0c11cf2e8a",
   "metadata": {},
   "outputs": [
    {
     "data": {
      "text/plain": [
       "'palindrome'"
      ]
     },
     "execution_count": 41,
     "metadata": {},
     "output_type": "execute_result"
    }
   ],
   "source": [
    "# Write a lambda function to check whether a string is a palindrome.\n",
    "a = lambda string :  \"palindrome\" if string==string[::-1] else \"not palindrome\"\n",
    "a(\"mom\")"
   ]
  },
  {
   "cell_type": "code",
   "execution_count": 47,
   "id": "a75f95f0-d7de-4687-9ed6-c4fa7c423706",
   "metadata": {},
   "outputs": [
    {
     "data": {
      "text/plain": [
       "'babyeew'"
      ]
     },
     "execution_count": 47,
     "metadata": {},
     "output_type": "execute_result"
    }
   ],
   "source": [
    "# Given two strings, write a lambda function to return the one with the greater length.\n",
    "a = lambda str1,str2 : str1 if len(str1)>=len(str2) else str2\n",
    "a(\"hello\",\"babyeew\")"
   ]
  },
  {
   "cell_type": "code",
   "execution_count": 54,
   "id": "fb29685c-7813-4c16-8a24-7d07ca9cd1db",
   "metadata": {},
   "outputs": [
    {
     "data": {
      "text/plain": [
       "5"
      ]
     },
     "execution_count": 54,
     "metadata": {},
     "output_type": "execute_result"
    }
   ],
   "source": [
    "# Write a lambda function to count the number of vowels in a string. \n",
    "a = lambda x , vowels=\"aeiouAEIOU\" : sum(1 for ch in x if ch in \"aeiouAEIOU\" )\n",
    "a(\"aeiou\")"
   ]
  },
  {
   "cell_type": "code",
   "execution_count": 56,
   "id": "633f9e97-6948-490a-850f-3f7e94ba51a5",
   "metadata": {},
   "outputs": [
    {
     "data": {
      "text/plain": [
       "314.0"
      ]
     },
     "execution_count": 56,
     "metadata": {},
     "output_type": "execute_result"
    }
   ],
   "source": [
    "# Create a lambda function to compute the area of a circle, given radius r.\n",
    "a = lambda r : 3.14*r*r\n",
    "a(10)"
   ]
  },
  {
   "cell_type": "code",
   "execution_count": 65,
   "id": "22fce9d4-78cf-4bfd-bc73-05abe7b5c9e9",
   "metadata": {},
   "outputs": [
    {
     "data": {
      "text/plain": [
       "[1, 5]"
      ]
     },
     "execution_count": 65,
     "metadata": {},
     "output_type": "execute_result"
    }
   ],
   "source": [
    "# Create a lambda function that takes a list and returns only its first and last element.\n",
    "list1 = [1,2,3,4,5]\n",
    "a = lambda list1 : [list1[0],list1[-1]]\n",
    "a(list1)"
   ]
  },
  {
   "cell_type": "markdown",
   "id": "c2e23e30-3d88-42dd-83ab-8306992f6dcc",
   "metadata": {},
   "source": [
    "# `Higher-Order Functions (HOFs)`\n",
    "\n",
    "A higher-order function is a function that does at least one of the following:\n",
    "\n",
    "    1) Takes another function as input (argument)\n",
    "\n",
    "    2) Returns a function as output"
   ]
  },
  {
   "cell_type": "code",
   "execution_count": 113,
   "id": "a033e60d-c648-42a3-850e-491ed10fbf6a",
   "metadata": {},
   "outputs": [
    {
     "name": "stdout",
     "output_type": "stream",
     "text": [
      "[1, 4, 9, 16, 25]\n"
     ]
    }
   ],
   "source": [
    "# example \n",
    "def square(num) : \n",
    "    return num**2  \n",
    "list1 = [] \n",
    "def transform_to_square(f,L) : # here transform_to_square is a higher order function\n",
    "    for i in L : \n",
    "        list1.append(f(i))\n",
    "    return list1  \n",
    "\n",
    "print(transform_to_square(square,[1,2,3,4,5])) "
   ]
  },
  {
   "cell_type": "markdown",
   "id": "94ac6acb-3c76-433a-ab36-d2feab1bb217",
   "metadata": {},
   "source": [
    "# `map() function` "
   ]
  },
  {
   "cell_type": "markdown",
   "id": "8ae8af32-5881-4894-a96e-378ec95c83df",
   "metadata": {},
   "source": [
    "```\n",
    "map(function, iterable)\n",
    "\n",
    "    What it does: Applies a function to every element of an iterable (list, tuple, etc.).\n",
    "\n",
    "    Returns: A map object → usually converted to a list/tuple.\n",
    "```"
   ]
  },
  {
   "cell_type": "markdown",
   "id": "3657166e-d24a-483f-85dc-8e1a99cdee64",
   "metadata": {},
   "source": [
    "### problems on map()"
   ]
  },
  {
   "cell_type": "code",
   "execution_count": 66,
   "id": "9a45a2ba-db80-49e9-a608-d75d2f45b8a4",
   "metadata": {},
   "outputs": [
    {
     "data": {
      "text/plain": [
       "[1, 4, 9, 16, 25]"
      ]
     },
     "execution_count": 66,
     "metadata": {},
     "output_type": "execute_result"
    }
   ],
   "source": [
    "# Given [1, 2, 3, 4, 5], use map() with lambda to return the square of each number.\n",
    "list(map(lambda x : x**2,[1,2,3,4,5]))"
   ]
  },
  {
   "cell_type": "code",
   "execution_count": 68,
   "id": "52242cfc-157d-4fb0-8f10-00ede335d197",
   "metadata": {},
   "outputs": [
    {
     "data": {
      "text/plain": [
       "[32.0, 68.0, 86.0, 104.0]"
      ]
     },
     "execution_count": 68,
     "metadata": {},
     "output_type": "execute_result"
    }
   ],
   "source": [
    "# Convert a list of temperatures in Celsius [0, 20, 30, 40] into Fahrenheit using map().\n",
    "list(map(lambda x : (x*1.8)+32,[0, 20, 30, 40])) # formula : F = (C*1.8)+32"
   ]
  },
  {
   "cell_type": "code",
   "execution_count": 69,
   "id": "b5349e00-ba90-4014-accb-a70cb499aeb9",
   "metadata": {},
   "outputs": [
    {
     "data": {
      "text/plain": [
       "['PYTHON', 'JAVA', 'C++']"
      ]
     },
     "execution_count": 69,
     "metadata": {},
     "output_type": "execute_result"
    }
   ],
   "source": [
    "# Given [\"python\", \"java\", \"c++\"], use map() to return their uppercase versions.\n",
    "list(map(lambda x : x.upper(),[\"python\", \"java\", \"c++\"]))"
   ]
  },
  {
   "cell_type": "code",
   "execution_count": 70,
   "id": "11194d4a-fd24-43c3-a300-1985b30c0891",
   "metadata": {},
   "outputs": [
    {
     "data": {
      "text/plain": [
       "[5, 6, 4]"
      ]
     },
     "execution_count": 70,
     "metadata": {},
     "output_type": "execute_result"
    }
   ],
   "source": [
    "# Given [\"apple\", \"banana\", \"kiwi\"], use map() to return the length of each word.\n",
    "list(map(lambda x : len(x),[\"apple\", \"banana\", \"kiwi\"]))"
   ]
  },
  {
   "cell_type": "code",
   "execution_count": 72,
   "id": "a31065e3-178b-40de-9720-c7d1c36fb224",
   "metadata": {},
   "outputs": [
    {
     "data": {
      "text/plain": [
       "[1, 2, 3, 4]"
      ]
     },
     "execution_count": 72,
     "metadata": {},
     "output_type": "execute_result"
    }
   ],
   "source": [
    "# Given [5, 10, 15, 20], use map() with lambda to return each element divided by 5.\n",
    "list(map(lambda x : x//5,[5, 10, 15, 20]))"
   ]
  },
  {
   "cell_type": "markdown",
   "id": "e48b8fce-af44-4bff-a770-d089b8ea6f55",
   "metadata": {},
   "source": [
    "# `filter() function`\n",
    "\n",
    "```\n",
    "filter(function, iterable)\n",
    "\n",
    "    1) What it does: Filters elements from an iterable based on a condition (True/False).\n",
    "\n",
    "    2) Returns: A filter object → usually converted to a list/tuple.\n",
    "```"
   ]
  },
  {
   "cell_type": "markdown",
   "id": "a302b463-78bc-460b-9949-913b26f9ee4a",
   "metadata": {},
   "source": [
    "### problems on filter() "
   ]
  },
  {
   "cell_type": "code",
   "execution_count": 89,
   "id": "15076c16-de20-4281-9403-ea0dc6ff7352",
   "metadata": {},
   "outputs": [
    {
     "data": {
      "text/plain": [
       "[21, 43]"
      ]
     },
     "execution_count": 89,
     "metadata": {},
     "output_type": "execute_result"
    }
   ],
   "source": [
    "# From [10, 21, 32, 43, 54], use filter() to keep only the odd numbers.\n",
    "list(filter(lambda x : x%2!=0,[10, 21, 32, 43, 54]))"
   ]
  },
  {
   "cell_type": "code",
   "execution_count": 75,
   "id": "60abdc38-a048-41ba-b750-e410605089d3",
   "metadata": {},
   "outputs": [
    {
     "data": {
      "text/plain": [
       "[100, 200]"
      ]
     },
     "execution_count": 75,
     "metadata": {},
     "output_type": "execute_result"
    }
   ],
   "source": [
    "# From [100, 55, 200, 30, 75], use filter() to keep numbers greater than 80.\n",
    "list(filter(lambda x : x>80 ,[100, 55, 200, 30, 75]))"
   ]
  },
  {
   "cell_type": "code",
   "execution_count": 90,
   "id": "3a940af6-a87c-44a1-9cce-8d1afa4a890c",
   "metadata": {},
   "outputs": [
    {
     "data": {
      "text/plain": [
       "['apple', 'egg']"
      ]
     },
     "execution_count": 90,
     "metadata": {},
     "output_type": "execute_result"
    }
   ],
   "source": [
    "# From [\"apple\", \"bat\", \"carrot\", \"dog\", \"egg\"], use filter() to keep only words starting with a vowel.\n",
    "list(filter(lambda x : x[0].lower() in \"aeiou\",[\"apple\", \"bat\", \"carrot\", \"dog\", \"egg\"]))"
   ]
  },
  {
   "cell_type": "code",
   "execution_count": 88,
   "id": "04acb0e9-d2e0-4103-9275-af1534dbf4ac",
   "metadata": {},
   "outputs": [
    {
     "data": {
      "text/plain": [
       "[30, 45, 60, 75, 90]"
      ]
     },
     "execution_count": 88,
     "metadata": {},
     "output_type": "execute_result"
    }
   ],
   "source": [
    "# From [25, 30, 45, 60, 75, 90], use filter() with lambda to keep numbers divisible by both 3 and 5.\n",
    "list(filter(lambda x : x%3==0 and x%5==0,[25, 30, 45, 60, 75, 90]))"
   ]
  },
  {
   "cell_type": "markdown",
   "id": "040a999e-7711-42d5-ae72-f30f62c63cb3",
   "metadata": {},
   "source": [
    "# `reduce() function`\n",
    "```\n",
    "reduce(function, iterable)\n",
    "\n",
    "    1) What it does: Reduces an iterable to a single value, by applying a function cumulatively.\n",
    "\n",
    "    2) Returns: A single number/string/etc.\n",
    "\n",
    "    3) Needs: from functools import reduce\n",
    "```"
   ]
  },
  {
   "cell_type": "markdown",
   "id": "0b9fbaa8-8291-42b7-bd03-f86028d11208",
   "metadata": {},
   "source": [
    "### problems on reduce() "
   ]
  },
  {
   "cell_type": "code",
   "execution_count": 91,
   "id": "9fdd9b3e-a359-46e2-9dee-192fc7d260ec",
   "metadata": {},
   "outputs": [],
   "source": [
    "# before using reduce function we need to import reduce function \n",
    "from functools import reduce"
   ]
  },
  {
   "cell_type": "code",
   "execution_count": 92,
   "id": "289815ea-f338-407d-9b15-395c03fcc153",
   "metadata": {},
   "outputs": [
    {
     "data": {
      "text/plain": [
       "15"
      ]
     },
     "execution_count": 92,
     "metadata": {},
     "output_type": "execute_result"
    }
   ],
   "source": [
    "# From [1, 2, 3, 4, 5], use reduce() with lambda to compute the sum.\n",
    "reduce(lambda x,y : x+y,[1, 2, 3, 4, 5])"
   ]
  },
  {
   "cell_type": "code",
   "execution_count": 96,
   "id": "64698234-8215-4bcc-bcca-cbf8009d92d8",
   "metadata": {},
   "outputs": [
    {
     "data": {
      "text/plain": [
       "120"
      ]
     },
     "execution_count": 96,
     "metadata": {},
     "output_type": "execute_result"
    }
   ],
   "source": [
    "# From [1, 2, 3, 4, 5], use reduce() with lambda to compute the product.\n",
    "reduce(lambda x,y : x*y,[1, 2, 3, 4, 5])"
   ]
  },
  {
   "cell_type": "code",
   "execution_count": 94,
   "id": "4d9e7fd0-a8a2-45fe-a130-3b24fe9f2b7c",
   "metadata": {},
   "outputs": [
    {
     "data": {
      "text/plain": [
       "300"
      ]
     },
     "execution_count": 94,
     "metadata": {},
     "output_type": "execute_result"
    }
   ],
   "source": [
    "# From [100, 20, 300, 40], use reduce() with lambda to find the maximum number.\n",
    "reduce(lambda x,y : x if x>y else y,[100, 20, 300, 40])"
   ]
  },
  {
   "cell_type": "code",
   "execution_count": 107,
   "id": "3625bc74-e783-4cff-a465-110c06966452",
   "metadata": {},
   "outputs": [
    {
     "data": {
      "text/plain": [
       "'Python is awesome'"
      ]
     },
     "execution_count": 107,
     "metadata": {},
     "output_type": "execute_result"
    }
   ],
   "source": [
    "# From [\"Python\", \"is\", \"awesome\"], use reduce() with lambda to concatenate into one string.\n",
    "reduce(lambda x,y :x+\" \"+y,[\"Python\", \"is\", \"awesome\"])"
   ]
  },
  {
   "cell_type": "code",
   "execution_count": 109,
   "id": "2b50c17f-ea0c-4692-8761-d875dd50b755",
   "metadata": {},
   "outputs": [
    {
     "data": {
      "text/plain": [
       "5"
      ]
     },
     "execution_count": 109,
     "metadata": {},
     "output_type": "execute_result"
    }
   ],
   "source": [
    "# From [5, 10, 15, 20], use reduce() with lambda to compute the greatest common divisor (GCD) of the list.\n",
    "import math\n",
    "reduce(lambda x,y : math.gcd(x,y),[5, 10, 15, 20]) "
   ]
  }
 ],
 "metadata": {
  "kernelspec": {
   "display_name": "Python 3 (ipykernel)",
   "language": "python",
   "name": "python3"
  },
  "language_info": {
   "codemirror_mode": {
    "name": "ipython",
    "version": 3
   },
   "file_extension": ".py",
   "mimetype": "text/x-python",
   "name": "python",
   "nbconvert_exporter": "python",
   "pygments_lexer": "ipython3",
   "version": "3.10.10"
  }
 },
 "nbformat": 4,
 "nbformat_minor": 5
}
