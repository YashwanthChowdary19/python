{
 "cells": [
  {
   "cell_type": "markdown",
   "id": "7104631d-516b-400d-a4a3-7dfaf9b68e65",
   "metadata": {},
   "source": [
    "# `Dictionaries`"
   ]
  },
  {
   "cell_type": "markdown",
   "id": "991fbc63-a760-4561-89ba-35e98b34165e",
   "metadata": {},
   "source": [
    "``` bash \n",
    "A dictionary in Python is an unordered, mutable, and indexed collection of items,\n",
    "where each item is a pair consisting of a key and its associated value.\n",
    " ```"
   ]
  },
  {
   "cell_type": "markdown",
   "id": "785d1ce4-5c49-4fc6-a6b2-db8a28300447",
   "metadata": {},
   "source": [
    "## `key features`"
   ]
  },
  {
   "cell_type": "markdown",
   "id": "98f0e46a-22ae-447c-a86b-eb4ed2320110",
   "metadata": {},
   "source": [
    "```bash \n",
    "Key Features of Dictionaries:\n",
    "\n",
    "    Key–Value Pair Structure → {key: value}\n",
    "\n",
    "    Keys must be unique (cannot have duplicate keys).\n",
    "\n",
    "    Keys must be immutable (string, number, or tuple), but values can be any data type.\n",
    "\n",
    "    Values can be duplicated and of any type (string, list, dict, etc.).\n",
    "\n",
    "    Mutable → You can add, update, or remove items.\n",
    "\n",
    "    Unordered (before Python 3.7, order was not guaranteed; from Python 3.7+, insertion order is preserved).\n",
    "```"
   ]
  },
  {
   "cell_type": "markdown",
   "id": "e4376987-8033-4d48-ade5-ccede010afff",
   "metadata": {},
   "source": [
    "## `creating  dictionary `"
   ]
  },
  {
   "cell_type": "code",
   "execution_count": 1,
   "id": "3e86354e-cda1-4ce4-b1a4-36a821ab8580",
   "metadata": {},
   "outputs": [
    {
     "name": "stdout",
     "output_type": "stream",
     "text": [
      "{}\n",
      "<class 'dict'>\n"
     ]
    }
   ],
   "source": [
    "# empty dictionary \n",
    "d = {} \n",
    "print(d)\n",
    "print(type(d))"
   ]
  },
  {
   "cell_type": "code",
   "execution_count": 4,
   "id": "e8e5f6b8-677b-45be-b316-b533a022ea96",
   "metadata": {},
   "outputs": [
    {
     "name": "stdout",
     "output_type": "stream",
     "text": [
      "{'name': 'nothing', 'college': 'you dont want', (1, 2, 3): 1000}\n",
      "<class 'dict'>\n"
     ]
    }
   ],
   "source": [
    "# 1D dict and hetrogeneous dict\n",
    "d = {\"name\":\"nothing\",\"college\":\"you dont want\",(1,2,3):1000} # you can give the tuple as keys bcz immutable\n",
    "print(d)\n",
    "print(type(d))"
   ]
  },
  {
   "cell_type": "code",
   "execution_count": 6,
   "id": "4989ec15-60b8-4fe3-a3d8-cea8cf89db68",
   "metadata": {},
   "outputs": [
    {
     "name": "stdout",
     "output_type": "stream",
     "text": [
      "{'name': 'xyz', 'college': 'EWIT', 'city': 'Ananthapur', 'subjects': {'telugu': 100, 'hindi': 100}}\n",
      "<class 'dict'>\n"
     ]
    }
   ],
   "source": [
    "# 2D dict \n",
    "d2 = {\"name\":\"xyz\", \n",
    "     \"college\":\"EWIT\", \n",
    "     \"city\":\"Ananthapur\", \n",
    "     \"subjects\": \n",
    "     {\"telugu\":100, \n",
    "     \"hindi\" :100 \n",
    "     }\n",
    "     }\n",
    "print(d2)\n",
    "print(type(d2))\n"
   ]
  },
  {
   "cell_type": "code",
   "execution_count": 7,
   "id": "e7dd915e-8d1a-476e-93dd-31507290f39f",
   "metadata": {},
   "outputs": [
    {
     "name": "stdout",
     "output_type": "stream",
     "text": [
      "{'name': 'xyz', 'college': 'EWIT', 'city': 'Ananthapur'}\n",
      "<class 'dict'>\n"
     ]
    }
   ],
   "source": [
    "# homogeneous dict : means all keys and values are same datatype\n",
    "d = {'name': 'xyz', 'college': 'EWIT', 'city': 'Ananthapur'}\n",
    "print(d)\n",
    "print(type(d))"
   ]
  },
  {
   "cell_type": "code",
   "execution_count": 8,
   "id": "3106fa67-1300-4693-ab1b-4c0f43e925a8",
   "metadata": {},
   "outputs": [
    {
     "name": "stdout",
     "output_type": "stream",
     "text": [
      "{'name': 'xyz', 'college': 'EWIT'}\n",
      "<class 'dict'>\n"
     ]
    }
   ],
   "source": [
    "# using type conversion \n",
    "d = dict([(\"name\",\"xyz\"),(\"college\",\"EWIT\")])\n",
    "print(d)\n",
    "print(type(d))"
   ]
  },
  {
   "cell_type": "markdown",
   "id": "be656dc7-f9ca-40aa-8210-73a87d7ddebb",
   "metadata": {},
   "source": [
    "## `Accessing Dictionary values`"
   ]
  },
  {
   "cell_type": "code",
   "execution_count": 21,
   "id": "b2e75576-abae-491b-b93d-773924eb8b5f",
   "metadata": {},
   "outputs": [
    {
     "name": "stdout",
     "output_type": "stream",
     "text": [
      "xyz\n",
      "100\n"
     ]
    }
   ],
   "source": [
    "# here we access dict values using keys not indexing\n",
    "d2 = {\"name\":\"xyz\", \n",
    "     \"college\":\"EWIT\", \n",
    "     \"city\":\"Ananthapur\", \n",
    "     \"subjects\": \n",
    "     {\"telugu\":100, \n",
    "     \"hindi\" :200}\n",
    "     }\n",
    "print(d2[\"name\"])\n",
    "# accessing 2D values\n",
    "print(d2[\"subjects\"][\"telugu\"])"
   ]
  },
  {
   "cell_type": "code",
   "execution_count": 8,
   "id": "53aee9a2-cbca-4209-8519-2a5ca3c5869b",
   "metadata": {},
   "outputs": [
    {
     "data": {
      "text/plain": [
       "100"
      ]
     },
     "execution_count": 8,
     "metadata": {},
     "output_type": "execute_result"
    }
   ],
   "source": [
    "# accessing values using get() function\n",
    "d2 = {\"name\":\"xyz\", \n",
    "     \"college\":\"EWIT\", \n",
    "     \"city\":\"Ananthapur\", \n",
    "     \"subjects\": \n",
    "     {\"telugu\":100, \n",
    "     \"hindi\" :200}\n",
    "     }\n",
    "d2.get(\"subjects\").get(\"telugu\")"
   ]
  },
  {
   "cell_type": "markdown",
   "id": "8c260ad5-c52c-474a-b68b-bfe32ed82de5",
   "metadata": {},
   "source": [
    "## `adding values `"
   ]
  },
  {
   "cell_type": "code",
   "execution_count": 17,
   "id": "a56e2776-5341-431e-9fcc-5d4da60af039",
   "metadata": {},
   "outputs": [
    {
     "name": "stdout",
     "output_type": "stream",
     "text": [
      "{'name': 'xyz', 'age': 20, 'city': 'Ananthapur'}\n",
      "{'name': 'xyz', 'age': 20, 'city': 'Ananthapur', 'college': 'EWIT'}\n",
      "{'name': 'xyz', 'college': 'EWIT', 'city': 'Ananthapur', 'subjects': {'telugu': 100, 'hindi': 97, 'maths': 99}}\n"
     ]
    }
   ],
   "source": [
    "# adding values in 1D\n",
    "d = {\"name\":\"xyz\",\"age\":20,\"city\":\"Ananthapur\"}\n",
    "print(d)\n",
    "d[\"college\"] = \"EWIT\"\n",
    "print(d)\n",
    "# adding values in 2D\n",
    "d2 = {\"name\":\"xyz\", \n",
    "     \"college\":\"EWIT\", \n",
    "     \"city\":\"Ananthapur\", \n",
    "     \"subjects\": \n",
    "     {\"telugu\":100, \n",
    "     \"hindi\" :97}\n",
    "     }\n",
    "d2[\"subjects\"][\"maths\"]=99\n",
    "print(d2)"
   ]
  },
  {
   "cell_type": "markdown",
   "id": "d5d181ad-aab9-4b43-b003-57b83d6a9e0f",
   "metadata": {},
   "source": [
    "## `editing values`"
   ]
  },
  {
   "cell_type": "code",
   "execution_count": 21,
   "id": "453bbc3c-4e9b-4848-9f7f-2c3437a90260",
   "metadata": {},
   "outputs": [
    {
     "name": "stdout",
     "output_type": "stream",
     "text": [
      "{'name': 'zyx', 'college': 'EWIT', 'city': 'Ananthapur', 'subjects': {'telugu': 100, 'hindi': 97}}\n",
      "{'name': 'zyx', 'college': 'EWIT', 'city': 'Ananthapur', 'subjects': {'telugu': 100, 'hindi': 90}}\n"
     ]
    }
   ],
   "source": [
    "d2 = {\"name\":\"xyz\", \n",
    "     \"college\":\"EWIT\", \n",
    "     \"city\":\"Ananthapur\", \n",
    "     \"subjects\": \n",
    "     {\"telugu\":100, \n",
    "     \"hindi\" :97}\n",
    "     }\n",
    "d2[\"name\"] = \"zyx\"\n",
    "print(d2)\n",
    "d2[\"subjects\"][\"hindi\"] = 90\n",
    "print(d2)"
   ]
  },
  {
   "cell_type": "markdown",
   "id": "3317e8eb-09a2-48b4-be56-2b2bf4400f85",
   "metadata": {},
   "source": [
    "## `deleting values`"
   ]
  },
  {
   "cell_type": "code",
   "execution_count": 25,
   "id": "a980ceab-3a9d-4453-adc5-a0fda87ce159",
   "metadata": {},
   "outputs": [
    {
     "name": "stdout",
     "output_type": "stream",
     "text": [
      "{'name': 'xyz'}\n"
     ]
    },
    {
     "ename": "NameError",
     "evalue": "name 'd' is not defined",
     "output_type": "error",
     "traceback": [
      "\u001b[1;31m---------------------------------------------------------------------------\u001b[0m",
      "\u001b[1;31mNameError\u001b[0m                                 Traceback (most recent call last)",
      "Cell \u001b[1;32mIn[25], line 5\u001b[0m\n\u001b[0;32m      3\u001b[0m \u001b[38;5;28mprint\u001b[39m(d)\n\u001b[0;32m      4\u001b[0m \u001b[38;5;28;01mdel\u001b[39;00m d\n\u001b[1;32m----> 5\u001b[0m \u001b[38;5;28mprint\u001b[39m(\u001b[43md\u001b[49m)\n",
      "\u001b[1;31mNameError\u001b[0m: name 'd' is not defined"
     ]
    }
   ],
   "source": [
    "# deleting complete dict using del keyword\n",
    "d = {\"name\":\"xyz\"}\n",
    "print(d)\n",
    "del d\n",
    "print(d)"
   ]
  },
  {
   "cell_type": "code",
   "execution_count": 24,
   "id": "4a1194ba-a96f-4a07-8d01-3490a79e075e",
   "metadata": {},
   "outputs": [
    {
     "name": "stdout",
     "output_type": "stream",
     "text": [
      "{'name': 'xyz', 'age': 20, 'city': 'Ananthapur'}\n",
      "{'name': 'xyz', 'city': 'Ananthapur'}\n"
     ]
    }
   ],
   "source": [
    "# deleting some values in dict using del keyword\n",
    "d = {\"name\":\"xyz\",\"age\":20,\"city\":\"Ananthapur\"}\n",
    "print(d) \n",
    "del d[\"age\"]\n",
    "print(d)"
   ]
  },
  {
   "cell_type": "code",
   "execution_count": 28,
   "id": "269fc92a-a932-4bb4-a558-a0674c25dc94",
   "metadata": {},
   "outputs": [
    {
     "data": {
      "text/plain": [
       "{'college': 'EWIT',\n",
       " 'city': 'Ananthapur',\n",
       " 'subjects': {'telugu': 100, 'hindi': 97}}"
      ]
     },
     "execution_count": 28,
     "metadata": {},
     "output_type": "execute_result"
    }
   ],
   "source": [
    "# pop() : it will delete based on key \n",
    "d2 = {\"name\":\"xyz\", \n",
    "     \"college\":\"EWIT\", \n",
    "     \"city\":\"Ananthapur\", \n",
    "     \"subjects\": \n",
    "     {\"telugu\":100, \n",
    "     \"hindi\" :97}\n",
    "     }\n",
    "d2.pop(\"name\")\n",
    "d2"
   ]
  },
  {
   "cell_type": "code",
   "execution_count": 30,
   "id": "6140ec5f-eae1-4e02-8bfb-08ff3e35316b",
   "metadata": {},
   "outputs": [
    {
     "data": {
      "text/plain": [
       "{'name': 'xyz', 'college': 'EWIT', 'city': 'Ananthapur'}"
      ]
     },
     "execution_count": 30,
     "metadata": {},
     "output_type": "execute_result"
    }
   ],
   "source": [
    "# popitem() function delete last item\n",
    "d2 = {\"name\":\"xyz\", \n",
    "     \"college\":\"EWIT\", \n",
    "     \"city\":\"Ananthapur\", \n",
    "     \"subjects\": \n",
    "     {\"telugu\":100, \n",
    "     \"hindi\" :97}\n",
    "     }\n",
    "d2.popitem()\n",
    "d2"
   ]
  },
  {
   "cell_type": "code",
   "execution_count": 31,
   "id": "2cae350b-d004-4f8f-895b-089e6e49c8b0",
   "metadata": {},
   "outputs": [
    {
     "data": {
      "text/plain": [
       "{}"
      ]
     },
     "execution_count": 31,
     "metadata": {},
     "output_type": "execute_result"
    }
   ],
   "source": [
    "# clear() function \n",
    "d2.clear() \n",
    "d2"
   ]
  },
  {
   "cell_type": "markdown",
   "id": "29326963-c53d-46c6-a386-f6e8b98693a9",
   "metadata": {},
   "source": [
    "## `copying values`"
   ]
  },
  {
   "cell_type": "code",
   "execution_count": 33,
   "id": "e9724d4a-3315-4631-8c3e-485c9f963f03",
   "metadata": {},
   "outputs": [
    {
     "name": "stdout",
     "output_type": "stream",
     "text": [
      "{'name': 'xyz', 'age': 20}\n",
      "{'name': 'xyz', 'age': 20}\n",
      "{'name': 'xyz', 'age': 20, 'college': 'EWIT'}\n",
      "{'name': 'xyz', 'age': 20, 'college': 'EWIT'}\n"
     ]
    }
   ],
   "source": [
    "# not recommeneded bcz when i am changing values in d2 but changes happened in d1 also \n",
    "d1 = {\"name\":\"xyz\",\"age\":20}\n",
    "d2 = d1 \n",
    "print(d1)\n",
    "print(d2)\n",
    "d2[\"college\"]=\"EWIT\"\n",
    "print(d1)\n",
    "print(d2)"
   ]
  },
  {
   "cell_type": "code",
   "execution_count": 34,
   "id": "a0ce3b91-c864-4878-b994-e73f2b3c8695",
   "metadata": {},
   "outputs": [
    {
     "name": "stdout",
     "output_type": "stream",
     "text": [
      "{'name': 'xyz', 'age': 20}\n",
      "{'name': 'xyz', 'age': 20}\n",
      "{'name': 'xyz', 'age': 20}\n",
      "{'name': 'xyz', 'age': 20, 'college': 'EWIT'}\n"
     ]
    }
   ],
   "source": [
    "# recommended \n",
    "d1 = {\"name\":\"xyz\",\"age\":20}\n",
    "d2 = d1.copy() \n",
    "print(d1)\n",
    "print(d2)\n",
    "d2[\"college\"]=\"EWIT\"\n",
    "print(d1)\n",
    "print(d2)"
   ]
  },
  {
   "cell_type": "markdown",
   "id": "2e3baee1-4afd-4547-8474-ed0eacae5e59",
   "metadata": {},
   "source": [
    "# `Question` "
   ]
  },
  {
   "cell_type": "code",
   "execution_count": 35,
   "id": "bbe7f54a-f267-4c36-bf37-e3a57fd59d12",
   "metadata": {},
   "outputs": [
    {
     "data": {
      "text/plain": [
       "True"
      ]
     },
     "execution_count": 35,
     "metadata": {},
     "output_type": "execute_result"
    }
   ],
   "source": [
    "# what is the solution for following question\n",
    "d1 = {\"name\":\"xyz\",\"age\":20}\n",
    "d2 = {\"age\":20,\"name\":\"xyz\"}\n",
    "d1 == d2"
   ]
  },
  {
   "cell_type": "markdown",
   "id": "064284ad-9dc0-4013-9f35-47f8416f1676",
   "metadata": {},
   "source": [
    "## `operations`"
   ]
  },
  {
   "cell_type": "code",
   "execution_count": 37,
   "id": "5b4d0df6-a2a2-4d05-81b5-ab3f11ccb28f",
   "metadata": {},
   "outputs": [
    {
     "name": "stdout",
     "output_type": "stream",
     "text": [
      "False\n",
      "True\n"
     ]
    }
   ],
   "source": [
    "# membership \n",
    "d1 = {\"name\":\"xyz\",\"age\":20}\n",
    "print(\"xyz\" in d1)  # False bcz python by default consider \"xyz\" as key \n",
    "print(\"name\" in d1)  # True bcz \"name\" is a key"
   ]
  },
  {
   "cell_type": "code",
   "execution_count": 40,
   "id": "49b6990e-8c13-4eef-a90c-4f798bc4df9e",
   "metadata": {},
   "outputs": [
    {
     "name": "stdout",
     "output_type": "stream",
     "text": [
      "name\n",
      "college\n",
      "city\n",
      "subjects\n"
     ]
    }
   ],
   "source": [
    "# loops \n",
    "d = {\"name\":\"xyz\", \n",
    "     \"college\":\"EWIT\", \n",
    "     \"city\":\"Ananthapur\", \n",
    "     \"subjects\": \n",
    "     {\"telugu\":100, \n",
    "     \"hindi\" :97}\n",
    "     }\n",
    "for i in d :  # it will display only keys \n",
    "    print(i)"
   ]
  },
  {
   "cell_type": "markdown",
   "id": "0ed7dde1-10be-40f0-94c1-c444fe1c1345",
   "metadata": {},
   "source": [
    "## `dict functions`"
   ]
  },
  {
   "cell_type": "markdown",
   "id": "b243acf0-bd6d-4926-83c1-9f51ae6764dc",
   "metadata": {},
   "source": [
    "```bash \n",
    "min/ max/ len/ sorted/ keys/ values/ items/ update \n",
    "```"
   ]
  },
  {
   "cell_type": "code",
   "execution_count": 45,
   "id": "8872b25d-83a9-4071-8686-0276afce3e20",
   "metadata": {},
   "outputs": [
    {
     "name": "stdout",
     "output_type": "stream",
     "text": [
      "city\n",
      "subjects\n",
      "4\n",
      "['city', 'college', 'name', 'subjects']\n",
      "['subjects', 'name', 'college', 'city']\n"
     ]
    }
   ],
   "source": [
    "d = {\"name\":\"xyz\", \n",
    "     \"college\":\"EWIT\", \n",
    "     \"city\":\"Ananthapur\", \n",
    "     \"subjects\": \n",
    "     {\"telugu\":100, \n",
    "     \"hindi\" :97}\n",
    "     }\n",
    "print(min(d)) # identifies based on ascii value\n",
    "print(max(d))\n",
    "print(len(d))\n",
    "print(sorted(d)) # it will give list of sorted keys\n",
    "print(sorted(d,reverse=True))"
   ]
  },
  {
   "cell_type": "code",
   "execution_count": 47,
   "id": "db52fda0-ec6c-482d-808a-0a5538d6bd47",
   "metadata": {},
   "outputs": [
    {
     "name": "stdout",
     "output_type": "stream",
     "text": [
      "dict_keys(['name', 'college', 'city', 'subjects'])\n",
      "dict_values(['xyz', 'EWIT', 'Ananthapur', {'telugu': 100, 'hindi': 97}])\n",
      "dict_items([('name', 'xyz'), ('college', 'EWIT'), ('city', 'Ananthapur'), ('subjects', {'telugu': 100, 'hindi': 97})])\n"
     ]
    }
   ],
   "source": [
    "d = {\"name\":\"xyz\", \n",
    "     \"college\":\"EWIT\", \n",
    "     \"city\":\"Ananthapur\", \n",
    "     \"subjects\": \n",
    "     {\"telugu\":100, \n",
    "     \"hindi\" :97}\n",
    "     }\n",
    "print(d.keys()) \n",
    "print(d.values())\n",
    "print(d.items())"
   ]
  },
  {
   "cell_type": "code",
   "execution_count": 50,
   "id": "af3b3c12-72d8-47da-a5a4-6a2dac4cc25a",
   "metadata": {},
   "outputs": [
    {
     "name": "stdout",
     "output_type": "stream",
     "text": [
      "{'name': 'xyz', 'college': 'EWIT', 'city': 'Ananthapur', 'subjects': {'python': 100, 'java': 99, 'c++': 98}}\n",
      "{'subjects': {'python': 100, 'java': 99, 'c++': 98}}\n"
     ]
    }
   ],
   "source": [
    "d1 = {\"name\":\"xyz\", \n",
    "     \"college\":\"EWIT\", \n",
    "     \"city\":\"Ananthapur\", \n",
    "     \"subjects\": \n",
    "     {\"telugu\":100, \n",
    "     \"hindi\" :97}\n",
    "     }\n",
    "d2 = {\"subjects\":{\"python\":100,\"java\":99,\"c++\":98}} # here you can add new items also not only existed items\n",
    "d1.update(d2) # it will update permanently \n",
    "print(d1) # subject values are updated \n",
    "print(d2)"
   ]
  },
  {
   "cell_type": "markdown",
   "id": "225437d4-b8d1-4887-b215-ca91e638e848",
   "metadata": {},
   "source": [
    "## `dict comprehension`"
   ]
  },
  {
   "cell_type": "markdown",
   "id": "4a54c201-bf7f-4989-9112-39468f30ef7b",
   "metadata": {},
   "source": [
    "```bash \n",
    "basic syntax : \n",
    "    {key:value for var in iterable}\n",
    "```"
   ]
  },
  {
   "cell_type": "code",
   "execution_count": 52,
   "id": "1b16b418-cbb9-4394-9768-656061399a7f",
   "metadata": {},
   "outputs": [
    {
     "data": {
      "text/plain": [
       "{1: 1, 2: 4, 3: 9, 4: 16, 5: 25, 6: 36, 7: 49, 8: 64, 9: 81, 10: 100}"
      ]
     },
     "execution_count": 52,
     "metadata": {},
     "output_type": "execute_result"
    }
   ],
   "source": [
    "# create a dict of keys squares \n",
    "{i:i**2 for i in range(1,11) }"
   ]
  },
  {
   "cell_type": "code",
   "execution_count": 54,
   "id": "76ceaf6e-e7aa-49fd-bc4b-4ed5f74c99e8",
   "metadata": {},
   "outputs": [
    {
     "data": {
      "text/plain": [
       "{'mumbai': 1609.0, 'Andhra Pradesh': 3218.0, 'Telangana': 4827.0}"
      ]
     },
     "execution_count": 54,
     "metadata": {},
     "output_type": "execute_result"
    }
   ],
   "source": [
    "# create a new dict by converting the values from miles to km\n",
    "dict1 = {\"mumbai\":1000,\"Andhra Pradesh\":2000,\"Telangana\":3000}\n",
    "{i:j*1.609 for i,j in dict1.items()}"
   ]
  },
  {
   "cell_type": "code",
   "execution_count": 57,
   "id": "874ccf2d-7b03-4569-bf20-72ac85283a8b",
   "metadata": {},
   "outputs": [
    {
     "data": {
      "text/plain": [
       "{'iphone': 12, 'samsung': 1, 'nokia': 100}"
      ]
     },
     "execution_count": 57,
     "metadata": {},
     "output_type": "execute_result"
    }
   ],
   "source": [
    "# using if condition remove the mobiles whose stock is 0 \n",
    "mobiles = {\"iphone\":12,\"samsung\":1,\"realme\":0,\"nothing\":0,\"nokia\":100}\n",
    "{i:j for i,j in mobiles.items() if j>0 }"
   ]
  },
  {
   "cell_type": "code",
   "execution_count": 67,
   "id": "3e73db61-d880-443b-a603-e6523b4395b5",
   "metadata": {},
   "outputs": [
    {
     "data": {
      "text/plain": [
       "{2: {1: 2, 2: 4, 3: 6, 4: 8, 5: 10, 6: 12, 7: 14, 8: 16, 9: 18, 10: 20},\n",
       " 3: {1: 3, 2: 6, 3: 9, 4: 12, 5: 15, 6: 18, 7: 21, 8: 24, 9: 27, 10: 30},\n",
       " 4: {1: 4, 2: 8, 3: 12, 4: 16, 5: 20, 6: 24, 7: 28, 8: 32, 9: 36, 10: 40}}"
      ]
     },
     "execution_count": 67,
     "metadata": {},
     "output_type": "execute_result"
    }
   ],
   "source": [
    "# print a table from 2 to 4\n",
    "{i:{j:i*j for j in range(1,11)} for i in range(2,5) }"
   ]
  }
 ],
 "metadata": {
  "kernelspec": {
   "display_name": "Python 3 (ipykernel)",
   "language": "python",
   "name": "python3"
  },
  "language_info": {
   "codemirror_mode": {
    "name": "ipython",
    "version": 3
   },
   "file_extension": ".py",
   "mimetype": "text/x-python",
   "name": "python",
   "nbconvert_exporter": "python",
   "pygments_lexer": "ipython3",
   "version": "3.10.10"
  }
 },
 "nbformat": 4,
 "nbformat_minor": 5
}
