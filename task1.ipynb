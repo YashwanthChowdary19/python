{
 "cells": [
  {
   "cell_type": "markdown",
   "id": "171ee3d2-751c-43c6-83cf-7fff3d6268aa",
   "metadata": {},
   "source": [
    "### `Problem 1` - Print the following pattern. Write a program to use for loop to print the following reverse number pattern.\n",
    "\n",
    "```bash\n",
    "5 4 3 2 1 \n",
    "4 3 2 1 \n",
    "3 2 1 \n",
    "2 1 \n",
    "1\n",
    "```"
   ]
  },
  {
   "cell_type": "code",
   "execution_count": 4,
   "id": "b8ceddce-9620-4df2-8240-f5760431af07",
   "metadata": {},
   "outputs": [
    {
     "name": "stdin",
     "output_type": "stream",
     "text": [
      "enter the number of rows :  5\n"
     ]
    },
    {
     "name": "stdout",
     "output_type": "stream",
     "text": [
      "54321\n",
      "4321\n",
      "321\n",
      "21\n",
      "1\n"
     ]
    }
   ],
   "source": [
    "rows = int(input(\"enter the number of rows : \"))\n",
    "values=rows\n",
    "for i in range(rows,0,-1) : \n",
    "    for j in range(i,0,-1) : \n",
    "        print(j,end='')\n",
    "    print()"
   ]
  },
  {
   "cell_type": "markdown",
   "id": "7074af15-c6d5-41ec-9241-2bbcd01d4f50",
   "metadata": {},
   "source": [
    "### `Problem 2`: Print the following pattern.\n",
    "\n",
    "```bash\n",
    "* \n",
    "* * \n",
    "* * * \n",
    "* * * * \n",
    "* * * * * \n",
    "* * * * \n",
    "* * * \n",
    "* * \n",
    "*\n",
    "```"
   ]
  },
  {
   "cell_type": "code",
   "execution_count": 19,
   "id": "794d776e-10d4-444d-a855-a1c0655366fb",
   "metadata": {},
   "outputs": [
    {
     "name": "stdin",
     "output_type": "stream",
     "text": [
      "enter the number :  5\n"
     ]
    },
    {
     "name": "stdout",
     "output_type": "stream",
     "text": [
      "*\n",
      "**\n",
      "***\n",
      "****\n",
      "*****\n",
      "****\n",
      "***\n",
      "**\n",
      "*\n"
     ]
    }
   ],
   "source": [
    "rows = int(input(\"enter the number : \"))\n",
    "for i in range(1,rows+1) : \n",
    "    for j in range(1,i+1) : \n",
    "        print(\"*\",end='')\n",
    "    print()\n",
    "for k in range(i-1,0,-1) : \n",
    "    for l in range(1,k+1,1): \n",
    "        print(\"*\",end='')\n",
    "    print()\n",
    "\n"
   ]
  },
  {
   "cell_type": "code",
   "execution_count": 21,
   "id": "6028d10f-13e1-4ab4-ba85-3fd543e516b4",
   "metadata": {},
   "outputs": [
    {
     "name": "stdout",
     "output_type": "stream",
     "text": [
      "*\n",
      "**\n",
      "***\n",
      "****\n",
      "*****\n",
      "****\n",
      "***\n",
      "**\n",
      "*\n"
     ]
    }
   ],
   "source": [
    "# or \n",
    "\n",
    "for i in range(1,rows+1)  : \n",
    "    print(\"*\"*i,end='')\n",
    "    print()\n",
    "for j in range(i-1,0,-1) : \n",
    "    print(\"*\"*j,end='')\n",
    "    print()\n"
   ]
  },
  {
   "cell_type": "markdown",
   "id": "78def2da-bea1-47ef-8e7c-96d51d23f0ed",
   "metadata": {},
   "source": [
    "### `Problem 3`:Write a program to pring the following pattern\n",
    "\n",
    "        *\n",
    "      * * *\n",
    "    * * * * *\n",
    "   * * * * * * *\n",
    "* * * * * * * * *"
   ]
  },
  {
   "cell_type": "code",
   "execution_count": 43,
   "id": "b310a045-af57-456e-9e3d-09834443476c",
   "metadata": {},
   "outputs": [
    {
     "name": "stdout",
     "output_type": "stream",
     "text": [
      "     * \n",
      "    * * * \n",
      "   * * * * * \n",
      "  * * * * * * * \n",
      " * * * * * * * * * \n"
     ]
    }
   ],
   "source": [
    "rows = 5  # number of rows\n",
    "\n",
    "for i in range(rows):\n",
    "    # print spaces\n",
    "    print(\" \" * (rows - i - 1), end=\"\")\n",
    "    # print stars\n",
    "    print(\"* \" * (i * 2 + 1))\n"
   ]
  },
  {
   "cell_type": "markdown",
   "id": "99274cdf-b6b3-4212-b0c9-6aa6e7a07603",
   "metadata": {},
   "source": [
    "### `Problem 4`:Write a program to print the following pattern\n",
    "\n",
    "1 \n",
    "\n",
    "2 1 \n",
    "\n",
    "3 2 1 \n",
    "\n",
    "4 3 2 1 \n",
    "\n",
    "5 4 3 2 1"
   ]
  },
  {
   "cell_type": "code",
   "execution_count": 49,
   "id": "57fb4c71-31ae-48ca-9548-88c1be53890b",
   "metadata": {},
   "outputs": [
    {
     "name": "stdin",
     "output_type": "stream",
     "text": [
      "enter the rows number :  5\n"
     ]
    },
    {
     "name": "stdout",
     "output_type": "stream",
     "text": [
      "1\n",
      "21\n",
      "321\n",
      "4321\n",
      "54321\n"
     ]
    }
   ],
   "source": [
    "rows = int(input(\"enter the rows number : \"))\n",
    "for i in range(1,rows+1) : \n",
    "    for j in range(i,0,-1) : \n",
    "        print(j,end='')\n",
    "    print()"
   ]
  },
  {
   "cell_type": "markdown",
   "id": "eae91420-0b98-4602-9c05-1c26134f1af8",
   "metadata": {},
   "source": [
    "### `Problem 5`: Write a Python Program to Find the Sum of the Series till the nth term:<br> \n",
    "1 + x^2/2 + x^3/3 + … x^n/n<br>\n",
    "n will be provided by the user"
   ]
  },
  {
   "cell_type": "code",
   "execution_count": 53,
   "id": "0848335b-2929-4f38-8f10-21ca1cb0b2cd",
   "metadata": {},
   "outputs": [
    {
     "name": "stdin",
     "output_type": "stream",
     "text": [
      "enter the number :  5\n"
     ]
    },
    {
     "name": "stdout",
     "output_type": "stream",
     "text": [
      "16.066666666666666\n"
     ]
    }
   ],
   "source": [
    "number = int(input(\"enter the number : \"))\n",
    "x = 2\n",
    "result = 1\n",
    "for i in range(2,number+1) : \n",
    "    power = (x**i)/i\n",
    "    result += power \n",
    "print(result)"
   ]
  },
  {
   "cell_type": "markdown",
   "id": "33658218-2dce-47b2-be33-22113364d51a",
   "metadata": {},
   "source": [
    "### `Problem 6` - Find the sum of the series upto n terms.\n",
    "Write a program to calculate the sum of series up to n term. For example, if n =5 the series will become 2 + 22 + 222 + 2222 + 22222 = 24690. Take the user input and then calculate. And the output style should match which is given in the example.\n",
    "\n",
    "**Example 1:**\n",
    "\n",
    "`Input:`\n",
    "```bash\n",
    "5\n",
    "```\n",
    "\n",
    "`Output:`\n",
    "\n",
    "```bash\n",
    "2+22+222+2222+22222\n",
    "Sum of above series is: 24690\n",
    "```\n"
   ]
  },
  {
   "cell_type": "code",
   "execution_count": 67,
   "id": "d8384458-5620-4d4d-bd62-38d428b687b8",
   "metadata": {},
   "outputs": [
    {
     "name": "stdin",
     "output_type": "stream",
     "text": [
      "enter the number :  7\n"
     ]
    },
    {
     "name": "stdout",
     "output_type": "stream",
     "text": [
      "2+22+222+2222+22222+222222+2222222\n",
      "sum of the above series is :  2469134\n"
     ]
    }
   ],
   "source": [
    "number = int(input(\"enter the number : \"))\n",
    "result = 0 \n",
    "value =0\n",
    "for i in range(1,number+1) : \n",
    "    value = int(i*'2')\n",
    "    result+=value\n",
    "    print(value,end='')\n",
    "    if i < number : \n",
    "        print(\"+\",end='')\n",
    "print()\n",
    "print(\"sum of the above series is : \",result)"
   ]
  },
  {
   "cell_type": "markdown",
   "id": "b7e0356d-59eb-4259-a9ed-1dec7f547ad0",
   "metadata": {},
   "source": [
    "###`Problem 8`: Write a program to print all the unique combinations of 1,2,3 and 4 \n",
    "\n",
    "`Output`:\n",
    "```\n",
    "1 2 3 4\n",
    "1 2 4 3\n",
    "1 3 2 4\n",
    "1 3 4 2\n",
    "1 4 2 3\n",
    "1 4 3 2\n",
    "2 1 3 4\n",
    "2 1 4 3\n",
    "2 3 1 4\n",
    "2 3 4 1\n",
    "2 4 1 3\n",
    ".\n",
    ".\n",
    "and so on\n",
    "```"
   ]
  },
  {
   "cell_type": "code",
   "execution_count": 70,
   "id": "926ca494-cc24-4307-957c-02d509825508",
   "metadata": {},
   "outputs": [
    {
     "name": "stdout",
     "output_type": "stream",
     "text": [
      "1 2 3 4\n",
      "1 2 4 3\n",
      "1 3 2 4\n",
      "1 3 4 2\n",
      "1 4 2 3\n",
      "1 4 3 2\n",
      "2 1 3 4\n",
      "2 1 4 3\n",
      "2 3 1 4\n",
      "2 3 4 1\n",
      "2 4 1 3\n",
      "2 4 3 1\n",
      "3 1 2 4\n",
      "3 1 4 2\n",
      "3 2 1 4\n",
      "3 2 4 1\n",
      "3 4 1 2\n",
      "3 4 2 1\n",
      "4 1 2 3\n",
      "4 1 3 2\n",
      "4 2 1 3\n",
      "4 2 3 1\n",
      "4 3 1 2\n",
      "4 3 2 1\n"
     ]
    }
   ],
   "source": [
    "for i in range(1,5) : \n",
    "    for j in range(1,5) : \n",
    "        for k in range(1,5) :  \n",
    "            for l in range(1,5) :  \n",
    "                if i != j and i != k and i != l and j != k and j != l and k != l:\n",
    "                    print(i, j, k, l)"
   ]
  }
 ],
 "metadata": {
  "kernelspec": {
   "display_name": "Python 3 (ipykernel)",
   "language": "python",
   "name": "python3"
  },
  "language_info": {
   "codemirror_mode": {
    "name": "ipython",
    "version": 3
   },
   "file_extension": ".py",
   "mimetype": "text/x-python",
   "name": "python",
   "nbconvert_exporter": "python",
   "pygments_lexer": "ipython3",
   "version": "3.10.10"
  }
 },
 "nbformat": 4,
 "nbformat_minor": 5
}
