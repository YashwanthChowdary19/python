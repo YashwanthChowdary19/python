{
 "cells": [
  {
   "cell_type": "markdown",
   "id": "6cf113f7-8ecb-458f-b0a6-6954cf64ee41",
   "metadata": {},
   "source": [
    "### `List operations` : \n",
    "``` bash \n",
    "arithmetic \n",
    "membership\n",
    "loop\n",
    "```"
   ]
  },
  {
   "cell_type": "code",
   "execution_count": 5,
   "id": "59352dc4-49f8-4128-b47c-89731049c503",
   "metadata": {},
   "outputs": [
    {
     "name": "stdout",
     "output_type": "stream",
     "text": [
      "[1, 2, 3, 4, 5, 6, 7, 8, 9, 10]\n",
      "[1, 2, 3, 4, 5, 1, 2, 3, 4, 5, 1, 2, 3, 4, 5]\n"
     ]
    }
   ],
   "source": [
    "# Arithmetic (+, *)\n",
    "L1 = [1,2,3,4,5]\n",
    "L2 = [6,7,8,9,10]\n",
    "print(L1+L2)\n",
    "print(L1*3)"
   ]
  },
  {
   "cell_type": "code",
   "execution_count": 9,
   "id": "f693854b-bc8d-4e3f-8d32-cab7bf77fb9e",
   "metadata": {},
   "outputs": [
    {
     "name": "stdout",
     "output_type": "stream",
     "text": [
      "True\n",
      "False\n",
      "False\n",
      "True\n"
     ]
    }
   ],
   "source": [
    "# membership \n",
    "L1 = [1,2,3,4,[5,6]]\n",
    "print(4 in L1)\n",
    "print(4 not in L1)\n",
    "print(5 in L1)\n",
    "print([5,6] in L1)"
   ]
  },
  {
   "cell_type": "code",
   "execution_count": 10,
   "id": "13931037-39e0-4245-8bb4-014e32c2974f",
   "metadata": {},
   "outputs": [
    {
     "name": "stdout",
     "output_type": "stream",
     "text": [
      "1\n",
      "2\n",
      "3\n",
      "4\n",
      "[5, 6]\n"
     ]
    }
   ],
   "source": [
    "# loops \n",
    "for i in L1 : \n",
    "    print(i)"
   ]
  },
  {
   "cell_type": "markdown",
   "id": "3b4e33e0-43a9-45ed-a215-8935facdce47",
   "metadata": {},
   "source": [
    "### `list functions` : \n",
    "``` bash \n",
    "min/max/len/sotred\n",
    "count/index\n",
    "sort vs sorted \n",
    "copy/reverse\n",
    "```"
   ]
  },
  {
   "cell_type": "code",
   "execution_count": 11,
   "id": "c90abc02-31c2-4804-a46f-07a67f7501a3",
   "metadata": {},
   "outputs": [
    {
     "name": "stdout",
     "output_type": "stream",
     "text": [
      "1\n"
     ]
    }
   ],
   "source": [
    "# min \n",
    "L1 = [1, 2, 3, 4, 5, 1, 2, 3, 4, 5, 1, 2, 3, 4, 5]\n",
    "print(min(L1))"
   ]
  },
  {
   "cell_type": "code",
   "execution_count": 12,
   "id": "0b0ddf5c-98a6-4a39-b784-80204628971c",
   "metadata": {},
   "outputs": [
    {
     "name": "stdout",
     "output_type": "stream",
     "text": [
      "5\n"
     ]
    }
   ],
   "source": [
    "# max \n",
    "L1 = [1, 2, 3, 4, 5, 1, 2, 3, 4, 5, 1, 2, 3, 4, 5]\n",
    "print(max(L1))"
   ]
  },
  {
   "cell_type": "code",
   "execution_count": 13,
   "id": "d73ec67a-dc7f-4566-9bcc-36f2c03f8550",
   "metadata": {},
   "outputs": [
    {
     "name": "stdout",
     "output_type": "stream",
     "text": [
      "15\n"
     ]
    }
   ],
   "source": [
    "# len \n",
    "L1 = [1, 2, 3, 4, 5, 1, 2, 3, 4, 5, 1, 2, 3, 4, 5]\n",
    "print(len(L1))"
   ]
  },
  {
   "cell_type": "code",
   "execution_count": 14,
   "id": "f83503fb-f211-462d-8877-fb5455f1ff91",
   "metadata": {},
   "outputs": [
    {
     "name": "stdout",
     "output_type": "stream",
     "text": [
      "[1, 1, 1, 2, 2, 2, 3, 3, 3, 4, 4, 4, 5, 5, 5]\n"
     ]
    }
   ],
   "source": [
    "# sorted \n",
    "L1 = [1, 2, 3, 4, 5, 1, 2, 3, 4, 5, 1, 2, 3, 4, 5]\n",
    "print(sorted(L1))"
   ]
  },
  {
   "cell_type": "code",
   "execution_count": 16,
   "id": "f0f47b3b-3d51-4bcb-b644-e685fd5d19ff",
   "metadata": {},
   "outputs": [
    {
     "name": "stdout",
     "output_type": "stream",
     "text": [
      "3\n",
      "0\n"
     ]
    }
   ],
   "source": [
    "# count\n",
    "L1 = [1, 2, 3, 4, 5, 1, 2, 3, 4, 5, 1, 2, 3, 4, 5]\n",
    "print(L1.count(1))\n",
    "print(L1.count(70))"
   ]
  },
  {
   "cell_type": "code",
   "execution_count": 19,
   "id": "a49b4235-1e4f-49fc-9e93-bca95e77416a",
   "metadata": {},
   "outputs": [
    {
     "name": "stdout",
     "output_type": "stream",
     "text": [
      "0\n",
      "4\n"
     ]
    },
    {
     "ename": "ValueError",
     "evalue": "7 is not in list",
     "output_type": "error",
     "traceback": [
      "\u001b[1;31m---------------------------------------------------------------------------\u001b[0m",
      "\u001b[1;31mValueError\u001b[0m                                Traceback (most recent call last)",
      "Cell \u001b[1;32mIn[19], line 5\u001b[0m\n\u001b[0;32m      3\u001b[0m \u001b[38;5;28mprint\u001b[39m(L1\u001b[38;5;241m.\u001b[39mindex(\u001b[38;5;241m1\u001b[39m))\n\u001b[0;32m      4\u001b[0m \u001b[38;5;28mprint\u001b[39m(L1\u001b[38;5;241m.\u001b[39mindex(\u001b[38;5;241m5\u001b[39m))\n\u001b[1;32m----> 5\u001b[0m \u001b[38;5;28mprint\u001b[39m(\u001b[43mL1\u001b[49m\u001b[38;5;241;43m.\u001b[39;49m\u001b[43mindex\u001b[49m\u001b[43m(\u001b[49m\u001b[38;5;241;43m7\u001b[39;49m\u001b[43m)\u001b[49m)\n",
      "\u001b[1;31mValueError\u001b[0m: 7 is not in list"
     ]
    }
   ],
   "source": [
    "# index\n",
    "L1 = [1, 2, 3, 4, 5, 1, 2, 3, 4, 5, 1, 2, 3, 4, 5]\n",
    "print(L1.index(1))\n",
    "print(L1.index(5))\n",
    "print(L1.index(7))"
   ]
  },
  {
   "cell_type": "code",
   "execution_count": 21,
   "id": "364b3627-47d2-4a57-aa36-4801fe2a6328",
   "metadata": {},
   "outputs": [
    {
     "name": "stdout",
     "output_type": "stream",
     "text": [
      "[1, 3, 2, 4, 5, 9, 8, 5]\n",
      "[1, 2, 3, 4, 5, 5, 8, 9]\n",
      "[1, 3, 2, 4, 5, 9, 8, 5]\n",
      "[1, 2, 3, 4, 5, 5, 8, 9]\n"
     ]
    }
   ],
   "source": [
    "# sort vs sorted \n",
    "#sort permanently sorts the list but sorted temporary\n",
    "L1 = [1,3,2,4,5,9,8,5]\n",
    "print(L1)\n",
    "print(sorted(L1))\n",
    "print(L1)\n",
    "L1.sort()\n",
    "print(L1)"
   ]
  },
  {
   "cell_type": "code",
   "execution_count": 22,
   "id": "51eb0258-89b1-496d-9b72-69d06f2f69a9",
   "metadata": {},
   "outputs": [
    {
     "name": "stdout",
     "output_type": "stream",
     "text": [
      "[5, 4, 3, 2, 1]\n"
     ]
    }
   ],
   "source": [
    "# reverse \n",
    "L1 = [1,2,3,4,5] \n",
    "L1.reverse() # permanent reverse\n",
    "print(L1)"
   ]
  },
  {
   "cell_type": "code",
   "execution_count": 23,
   "id": "dfe21981-bbeb-4e2b-a166-ef0d371a3bfc",
   "metadata": {},
   "outputs": [
    {
     "name": "stdout",
     "output_type": "stream",
     "text": [
      "[1, 2, 3, 4, 5]\n"
     ]
    }
   ],
   "source": [
    "# copy \n",
    "L1 = [1,2,3,4,5] \n",
    "L2 = L1.copy() \n",
    "print(L2)"
   ]
  },
  {
   "cell_type": "markdown",
   "id": "ac5f75d1-91ae-44b5-9d0a-995500644171",
   "metadata": {},
   "source": [
    "### `list comprehension` :\n",
    "``` bash \n",
    "A list comprehension is a short and elegant way to create lists in Python, instead of writing long for loops.\n",
    "It lets you generate, filter, and transform list elements in a single line. ```"
   ]
  },
  {
   "cell_type": "markdown",
   "id": "5735e71c-558c-41c6-aba2-4db9fdc6cf45",
   "metadata": {},
   "source": [
    "#### `basic syntax` : \n",
    "```bash \n",
    "[expression for item in iterable]\n",
    "```\n",
    "#### `with condition` : \n",
    "``` bash \n",
    "[expression for item in iterable if condition]\n",
    "```\n",
    "#### `with multible loops` : \n",
    "``` bash \n",
    "[expression for item1 in iterable1 for item2 in iterable2 if condition]\n",
    "```\n"
   ]
  },
  {
   "cell_type": "code",
   "execution_count": 1,
   "id": "3569aef4-74c1-4630-80b3-6cf28ab6e5d9",
   "metadata": {},
   "outputs": [
    {
     "data": {
      "text/plain": [
       "[0, 1, 4, 9, 16, 25, 36, 49, 64, 81]"
      ]
     },
     "execution_count": 1,
     "metadata": {},
     "output_type": "execute_result"
    }
   ],
   "source": [
    "# Example 1: Squares of numbers 0–9\n",
    "[i**2 for i in range(10)]"
   ]
  },
  {
   "cell_type": "code",
   "execution_count": 3,
   "id": "b8b4c69f-3a5c-47f7-9308-72facb8da62b",
   "metadata": {},
   "outputs": [
    {
     "data": {
      "text/plain": [
       "[0, 2, 4, 6, 8, 10, 12, 14, 16, 18, 20]"
      ]
     },
     "execution_count": 3,
     "metadata": {},
     "output_type": "execute_result"
    }
   ],
   "source": [
    "# problem 2: Even numbers from 0–20\n",
    "[i for i in range(0,21) if i%2==0]"
   ]
  },
  {
   "cell_type": "code",
   "execution_count": 7,
   "id": "d373b42f-edf3-47ff-8449-838a00d39497",
   "metadata": {},
   "outputs": [
    {
     "data": {
      "text/plain": [
       "[1, 2, 3, 4, 5, 6]"
      ]
     },
     "execution_count": 7,
     "metadata": {},
     "output_type": "execute_result"
    }
   ],
   "source": [
    "# problem 3: Flatten a list of lists \n",
    "L = [[[1,2],[3,4],[5,6]]]\n",
    "[value for row in L for num in row for value in num]"
   ]
  },
  {
   "cell_type": "markdown",
   "id": "f1306a59-fdb4-4e3e-9d29-bed83a732ab1",
   "metadata": {},
   "source": [
    "``` bash\n",
    " ️⃣ Why use List Comprehensions?\n",
    "✅ Shorter & cleaner than normal loops\n",
    "✅ Faster than a loop with .append()\n",
    "✅ More Pythonic (often preferred in interviews)\n",
    "```"
   ]
  },
  {
   "cell_type": "code",
   "execution_count": 10,
   "id": "aa939cef-5321-4c8c-b747-222b9cca5182",
   "metadata": {},
   "outputs": [
    {
     "data": {
      "text/plain": [
       "['I', 'a', 'D', 'S', 'a', 'M', 'L', 'E', 'T', 'y']"
      ]
     },
     "execution_count": 10,
     "metadata": {},
     "output_type": "execute_result"
    }
   ],
   "source": [
    "# Problem 4: Extract First Letter of Each Word\n",
    "# Given a sentence, return a list of first letters of each word.\n",
    "sentence = \"I am Data Science and Machine Learning Enthusiasist Thank you\"\n",
    "[word[0] for word in sentence.split()]"
   ]
  },
  {
   "cell_type": "code",
   "execution_count": 12,
   "id": "9b295aa1-da8c-4c1b-b1fe-5bf885c00139",
   "metadata": {},
   "outputs": [
    {
     "data": {
      "text/plain": [
       "[(1, 'A'), (1, 'B'), (2, 'A'), (2, 'B')]"
      ]
     },
     "execution_count": 12,
     "metadata": {},
     "output_type": "execute_result"
    }
   ],
   "source": [
    "# Problem 5: Cartesian Product (Pairs of Elements)\n",
    "# Given two lists, generate all possible pairs (x, y).\n",
    "a = [1, 2]\n",
    "b = ['A', 'B']\n",
    "[(i,j) for i in a for j in b]"
   ]
  },
  {
   "cell_type": "code",
   "execution_count": 16,
   "id": "3fc290bd-fc51-4202-9500-9de745fade7c",
   "metadata": {},
   "outputs": [
    {
     "data": {
      "text/plain": [
       "' nm s nthng'"
      ]
     },
     "execution_count": 16,
     "metadata": {},
     "output_type": "execute_result"
    }
   ],
   "source": [
    "# Problem 6: Remove Vowels from a String\n",
    "# Given a string, remove all vowels.\n",
    "string = \"i name is nothing\"\n",
    "\"\".join([i for i in string if i not in [\"a\",\"A\",\"e\",\"E\",\"i\",\"I\",\"o\",\"O\",\"u\",\"U\"]])\n"
   ]
  },
  {
   "cell_type": "markdown",
   "id": "ef985c46-2f24-42a3-9cc7-039f28955b0c",
   "metadata": {},
   "source": [
    "#### `2 ways` to traverse the list \n",
    "```bash \n",
    "itemwise\n",
    "indexwise\n",
    "```"
   ]
  },
  {
   "cell_type": "code",
   "execution_count": 18,
   "id": "7ef73410-b232-42a1-b062-1f54ee9e9670",
   "metadata": {},
   "outputs": [
    {
     "name": "stdout",
     "output_type": "stream",
     "text": [
      "1\n",
      "2\n",
      "3\n",
      "34\n",
      "4\n"
     ]
    }
   ],
   "source": [
    "# itemwise \n",
    "L = [1,2,3,34,4]\n",
    "for i in L : \n",
    "    print(i)"
   ]
  },
  {
   "cell_type": "code",
   "execution_count": 19,
   "id": "8ece1f84-a010-47aa-a557-d190295199ac",
   "metadata": {},
   "outputs": [
    {
     "name": "stdout",
     "output_type": "stream",
     "text": [
      "1\n",
      "2\n",
      "3\n",
      "4\n",
      "5\n",
      "6\n"
     ]
    }
   ],
   "source": [
    "# indexwise \n",
    "L = [1,2,3,4,5,6]\n",
    "for i in range(len(L)) : \n",
    "    print(L[i])"
   ]
  },
  {
   "cell_type": "markdown",
   "id": "46c95303-b253-456c-af76-b782cb6810bd",
   "metadata": {},
   "source": [
    "#### `zip() function`"
   ]
  },
  {
   "cell_type": "markdown",
   "id": "6006c4e6-dd35-4b81-910a-48e79f1bc55f",
   "metadata": {},
   "source": [
    "```\n",
    "The zip() function in Python is like a pairing machine — it takes two or more iterables (lists, tuples, strings, etc.) and combines them element-by-element into tuples.\n",
    "\n",
    "1️⃣ Syntax\n",
    "zip(iterable1, iterable2, ...)\n",
    "\n",
    "Returns an iterator of tuples\n",
    "\n",
    "Each tuple contains the i-th element from each iterable\n",
    "\n",
    "Stops at the shortest iterable length\n",
    "```"
   ]
  },
  {
   "cell_type": "code",
   "execution_count": 24,
   "id": "48985428-8bc5-4546-8323-6cd2d0b71357",
   "metadata": {},
   "outputs": [
    {
     "name": "stdout",
     "output_type": "stream",
     "text": [
      "[(1, 'A'), (2, 'B'), (3, 'C'), (4, 'D'), (5, 'E')]\n"
     ]
    }
   ],
   "source": [
    "L1 = [1,2,3,4,5]\n",
    "L2 = [\"A\",\"B\",\"C\",\"D\",\"E\"]\n",
    "L3 = [(l1,l2) for l1,l2 in zip(L1,L2)]\n",
    "print(L3)"
   ]
  },
  {
   "cell_type": "code",
   "execution_count": 26,
   "id": "406b1610-7890-43ee-bbb7-57613092de8d",
   "metadata": {},
   "outputs": [
    {
     "name": "stdout",
     "output_type": "stream",
     "text": [
      "[(1, 'A'), (2, 'B'), (3, 'C'), (4, 'D')]\n"
     ]
    }
   ],
   "source": [
    "# proof for Stops at the shortest iterable length\n",
    "L1 = [1,2,3,4,5] \n",
    "L2 = [\"A\",\"B\",\"C\",\"D\"]\n",
    "L3 = [(l1,l2) for l1,l2 in zip(L1,L2)]\n",
    "print(L3)\n",
    "# in result 5 is not printed"
   ]
  },
  {
   "cell_type": "markdown",
   "id": "2e983865-a860-4ddd-88bb-d4cb06eb0e1c",
   "metadata": {},
   "source": [
    "#### `disadvantages of List`\n",
    "``` bash \n",
    "slow\n",
    "consumes more memory\n",
    "risk\n",
    "```"
   ]
  },
  {
   "cell_type": "markdown",
   "id": "d8d3abd2-74b8-4b34-9958-e41f62ee47a5",
   "metadata": {},
   "source": [
    "#### `Important` : List can contain any object(functions, strings, ....)\n"
   ]
  },
  {
   "cell_type": "code",
   "execution_count": 29,
   "id": "2aaffef9-50fc-476e-a2a6-ef3e31a69f99",
   "metadata": {},
   "outputs": [
    {
     "name": "stdout",
     "output_type": "stream",
     "text": [
      "[1, 2, 'a', 'sadf', <built-in function print>, <bound method Kernel.raw_input of <ipykernel.ipkernel.IPythonKernel object at 0x000001FEC0BB5240>>, <class 'type'>]\n"
     ]
    }
   ],
   "source": [
    "# example \n",
    "L = [1,2,\"a\",\"sadf\",print,input,type]\n",
    "print(L)"
   ]
  },
  {
   "cell_type": "code",
   "execution_count": 31,
   "id": "589ddbec-446c-4d02-9deb-281687782ff1",
   "metadata": {},
   "outputs": [
    {
     "name": "stdout",
     "output_type": "stream",
     "text": [
      "[1, 3, 5, 7, 9] [2, 4, 6, 8, 10]\n"
     ]
    }
   ],
   "source": [
    "L = [1,2,3,4,5,6,7,8,9,10]\n",
    "l1 = [i for i in L if i%2!=0]\n",
    "l2 = [i for i in L if i%2==0]\n",
    "print(l1,l2)"
   ]
  },
  {
   "cell_type": "code",
   "execution_count": 36,
   "id": "6faa727d-81a6-499e-999b-8be652837eba",
   "metadata": {},
   "outputs": [
    {
     "name": "stdin",
     "output_type": "stream",
     "text": [
      "enter the number of elements :  3\n",
      " 1\n",
      " 2\n",
      " 3\n"
     ]
    },
    {
     "name": "stdout",
     "output_type": "stream",
     "text": [
      "[1, 2, 3]\n"
     ]
    }
   ],
   "source": [
    "number = int(input(\"enter the number of elements : \"))\n",
    "L = []\n",
    "for i in range(0,number) : \n",
    "    L.append(int(input()))\n",
    "print(L)"
   ]
  }
 ],
 "metadata": {
  "kernelspec": {
   "display_name": "Python 3 (ipykernel)",
   "language": "python",
   "name": "python3"
  },
  "language_info": {
   "codemirror_mode": {
    "name": "ipython",
    "version": 3
   },
   "file_extension": ".py",
   "mimetype": "text/x-python",
   "name": "python",
   "nbconvert_exporter": "python",
   "pygments_lexer": "ipython3",
   "version": "3.10.10"
  }
 },
 "nbformat": 4,
 "nbformat_minor": 5
}
