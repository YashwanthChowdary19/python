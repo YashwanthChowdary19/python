{
 "cells": [
  {
   "cell_type": "markdown",
   "id": "dc14217f-6a4e-4661-9edf-b198c4135363",
   "metadata": {},
   "source": [
    "# Tuples\n",
    "```bash \n",
    "In Python, a tuple is an ordered, immutable collection of items.\n",
    "\n",
    "Here’s what that means: (characteristics)\n",
    "\n",
    "   Ordered → The elements have a fixed sequence, and their position matters.\n",
    "\n",
    "   Immutable → Once created, you cannot change, add, or remove items in it.\n",
    "\n",
    "   Allows duplicates → You can store the same value multiple times.\n",
    "\n",
    "   Can contain mixed data types → Integers, strings, lists, other tuples, etc.\n",
    "```"
   ]
  },
  {
   "cell_type": "markdown",
   "id": "6fd87de2-7b03-4a9c-b046-7f4c202082cc",
   "metadata": {},
   "source": [
    "### creating a tuple"
   ]
  },
  {
   "cell_type": "code",
   "execution_count": 2,
   "id": "f1fd7981-f168-44c8-b5fd-87c3346a3b5c",
   "metadata": {},
   "outputs": [
    {
     "name": "stdout",
     "output_type": "stream",
     "text": [
      "()\n",
      "<class 'tuple'>\n"
     ]
    }
   ],
   "source": [
    "# empty tuple \n",
    "a = () \n",
    "print(a)\n",
    "print(type(a))"
   ]
  },
  {
   "cell_type": "code",
   "execution_count": 5,
   "id": "b1dd6630-14bd-4159-8fd5-33cff4bad6ff",
   "metadata": {},
   "outputs": [
    {
     "name": "stdout",
     "output_type": "stream",
     "text": [
      "10\n",
      "<class 'int'>\n",
      "(10,)\n",
      "<class 'tuple'>\n"
     ]
    }
   ],
   "source": [
    "# tuple with 1 value \n",
    "a = (10)\n",
    "print(a)\n",
    "print(type(a))\n",
    "# here we can use the 1 value with tuple like above instead of use comma after value \n",
    "a = (10,)\n",
    "print(a)\n",
    "print(type(a))"
   ]
  },
  {
   "cell_type": "code",
   "execution_count": 6,
   "id": "618cd4f1-adac-48ad-97e3-093b8c95ef8c",
   "metadata": {},
   "outputs": [
    {
     "name": "stdout",
     "output_type": "stream",
     "text": [
      "((1, 2), (3, 4), (5, 6))\n",
      "<class 'tuple'>\n"
     ]
    }
   ],
   "source": [
    "# 2D tuple \n",
    "a = ((1,2),(3,4),(5,6))\n",
    "print(a)\n",
    "print(type(a))"
   ]
  },
  {
   "cell_type": "code",
   "execution_count": 8,
   "id": "fa07c2ed-8bb3-4dbb-b99f-a46371010164",
   "metadata": {},
   "outputs": [
    {
     "name": "stdout",
     "output_type": "stream",
     "text": [
      "(((1, 2), (3, 4)), ((5, 6), (7, 8)))\n",
      "<class 'tuple'>\n"
     ]
    }
   ],
   "source": [
    "# 3D tuple \n",
    "a = (((1,2),(3,4)),((5,6),(7,8)))\n",
    "print(a)\n",
    "print(type(a))"
   ]
  },
  {
   "cell_type": "code",
   "execution_count": 9,
   "id": "df70a0e3-20a9-4845-bcbd-1698cc03ec3f",
   "metadata": {},
   "outputs": [
    {
     "name": "stdout",
     "output_type": "stream",
     "text": [
      "('h', 'e', 'l', 'l', 'o', ' ', 'w', 'o', 'r', 'l', 'd')\n",
      "<class 'tuple'>\n"
     ]
    }
   ],
   "source": [
    "# using type conversion \n",
    "a = tuple(\"hello world\")\n",
    "print(a) \n",
    "print(type(a))"
   ]
  },
  {
   "cell_type": "code",
   "execution_count": 15,
   "id": "79e0fa02-3037-4f13-a53b-a8c89765fb2f",
   "metadata": {},
   "outputs": [
    {
     "name": "stdout",
     "output_type": "stream",
     "text": [
      "(1, 2, 3, 4, 5)\n"
     ]
    }
   ],
   "source": [
    "# homogenous tuple\n",
    "a = (1,2,3,4,5,)\n",
    "print(a)"
   ]
  },
  {
   "cell_type": "code",
   "execution_count": 17,
   "id": "04007582-10cb-4c5d-b049-198dd871d14f",
   "metadata": {},
   "outputs": [
    {
     "name": "stdout",
     "output_type": "stream",
     "text": [
      "(1, 'nothing', 'python', 'a', [1, 2, 3, 4])\n"
     ]
    }
   ],
   "source": [
    "# hetrogeneous \n",
    "a = (1,\"nothing\",\"python\",'a',[1,2,3,4])\n",
    "print(a)"
   ]
  },
  {
   "cell_type": "markdown",
   "id": "fefd3ac8-3b73-46f2-b989-fce619a7bf1d",
   "metadata": {},
   "source": [
    "## accessing the tuple \n",
    "``` bash \n",
    "indexing\n",
    "slicing\n",
    "```"
   ]
  },
  {
   "cell_type": "code",
   "execution_count": 25,
   "id": "f9437481-75e7-4523-a989-a9c78e6b09ab",
   "metadata": {},
   "outputs": [
    {
     "name": "stdout",
     "output_type": "stream",
     "text": [
      "2\n",
      "7\n",
      "7\n",
      "4\n"
     ]
    }
   ],
   "source": [
    "# indexing \n",
    "a = (1,2,3,4,5,6,7)\n",
    "# postive indexing\n",
    "print(a[1])\n",
    "print(a[6])\n",
    "# negative indexing \n",
    "print(a[-1])\n",
    "print(a[-4])"
   ]
  },
  {
   "cell_type": "code",
   "execution_count": 31,
   "id": "2fd0bc0b-8d5c-4a06-8091-774087c2e905",
   "metadata": {},
   "outputs": [
    {
     "name": "stdout",
     "output_type": "stream",
     "text": [
      "(2, 3, 4)\n",
      "(1, 3, 5, 7)\n",
      "(4, 5, 6, 7)\n",
      "(7, 6, 5, 4, 3)\n"
     ]
    }
   ],
   "source": [
    "# slicing \n",
    "a = (1,2,3,4,5,6,7)\n",
    "# posivie slicing \n",
    "print(a[1:4])\n",
    "print(a[::2])\n",
    "# negative indexing \n",
    "print(a[-4:])   \n",
    "print(a[-1:-6:-1])\n",
    " # trick [largenumber:smallnumber:then use negative] or [smallnumber:largenumber:then use postive] like above exmaple"
   ]
  },
  {
   "cell_type": "markdown",
   "id": "997df145-0d97-4ae5-ac03-5e3df964beed",
   "metadata": {},
   "source": [
    "## adding tuple "
   ]
  },
  {
   "cell_type": "code",
   "execution_count": null,
   "id": "72d160cd-9d0d-4374-a544-040dfa9759d5",
   "metadata": {},
   "outputs": [],
   "source": [
    "# not possible because it is immutable"
   ]
  },
  {
   "cell_type": "markdown",
   "id": "05742417-3077-46b8-8a7f-662d1914388d",
   "metadata": {},
   "source": [
    "## editing tuple"
   ]
  },
  {
   "cell_type": "code",
   "execution_count": 18,
   "id": "5cbe790d-aec2-41a4-8f19-0c3eae20e3fe",
   "metadata": {},
   "outputs": [
    {
     "ename": "TypeError",
     "evalue": "'tuple' object does not support item assignment",
     "output_type": "error",
     "traceback": [
      "\u001b[1;31m---------------------------------------------------------------------------\u001b[0m",
      "\u001b[1;31mTypeError\u001b[0m                                 Traceback (most recent call last)",
      "Cell \u001b[1;32mIn[18], line 4\u001b[0m\n\u001b[0;32m      1\u001b[0m \u001b[38;5;66;03m# editing values in tuple is not possible because it is immutable \u001b[39;00m\n\u001b[0;32m      2\u001b[0m \u001b[38;5;66;03m# example \u001b[39;00m\n\u001b[0;32m      3\u001b[0m a \u001b[38;5;241m=\u001b[39m(\u001b[38;5;241m1\u001b[39m,\u001b[38;5;241m2\u001b[39m,\u001b[38;5;241m3\u001b[39m,\u001b[38;5;241m4\u001b[39m,\u001b[38;5;241m5\u001b[39m)\n\u001b[1;32m----> 4\u001b[0m \u001b[43ma\u001b[49m\u001b[43m[\u001b[49m\u001b[38;5;241;43m1\u001b[39;49m\u001b[43m]\u001b[49m \u001b[38;5;241m=\u001b[39m \u001b[38;5;241m10\u001b[39m\n\u001b[0;32m      5\u001b[0m \u001b[38;5;28mprint\u001b[39m(a)\n",
      "\u001b[1;31mTypeError\u001b[0m: 'tuple' object does not support item assignment"
     ]
    }
   ],
   "source": [
    "# editing values in tuple is not possible because it is immutable \n",
    "# example \n",
    "a =(1,2,3,4,5)\n",
    "a[1] = 10\n",
    "print(a)"
   ]
  },
  {
   "cell_type": "markdown",
   "id": "d354fce9-e46a-4c0e-a1c2-7e5ae0c2c8fe",
   "metadata": {},
   "source": [
    "## deleting tuple "
   ]
  },
  {
   "cell_type": "code",
   "execution_count": 19,
   "id": "96faeebb-de39-40ff-887c-1bc94a2d058a",
   "metadata": {},
   "outputs": [
    {
     "name": "stdout",
     "output_type": "stream",
     "text": [
      "(1, 2, 3, 4)\n"
     ]
    },
    {
     "ename": "NameError",
     "evalue": "name 'a' is not defined",
     "output_type": "error",
     "traceback": [
      "\u001b[1;31m---------------------------------------------------------------------------\u001b[0m",
      "\u001b[1;31mNameError\u001b[0m                                 Traceback (most recent call last)",
      "Cell \u001b[1;32mIn[19], line 5\u001b[0m\n\u001b[0;32m      3\u001b[0m \u001b[38;5;28mprint\u001b[39m(a) \n\u001b[0;32m      4\u001b[0m \u001b[38;5;28;01mdel\u001b[39;00m a \n\u001b[1;32m----> 5\u001b[0m \u001b[38;5;28mprint\u001b[39m(\u001b[43ma\u001b[49m)\n",
      "\u001b[1;31mNameError\u001b[0m: name 'a' is not defined"
     ]
    }
   ],
   "source": [
    "# you can delete entire tuple at a time \n",
    "a = (1,2,3,4)\n",
    "print(a) \n",
    "del a \n",
    "print(a)"
   ]
  },
  {
   "cell_type": "code",
   "execution_count": 20,
   "id": "95a278da-6128-445e-89a7-f42cc1b05b83",
   "metadata": {},
   "outputs": [
    {
     "ename": "TypeError",
     "evalue": "'tuple' object does not support item deletion",
     "output_type": "error",
     "traceback": [
      "\u001b[1;31m---------------------------------------------------------------------------\u001b[0m",
      "\u001b[1;31mTypeError\u001b[0m                                 Traceback (most recent call last)",
      "Cell \u001b[1;32mIn[20], line 3\u001b[0m\n\u001b[0;32m      1\u001b[0m \u001b[38;5;66;03m# you can't delete the some portion of tuple \u001b[39;00m\n\u001b[0;32m      2\u001b[0m a \u001b[38;5;241m=\u001b[39m (\u001b[38;5;241m1\u001b[39m,\u001b[38;5;241m2\u001b[39m,\u001b[38;5;241m3\u001b[39m,\u001b[38;5;241m4\u001b[39m,\u001b[38;5;241m5\u001b[39m)\n\u001b[1;32m----> 3\u001b[0m \u001b[38;5;28;01mdel\u001b[39;00m a[\u001b[38;5;241m1\u001b[39m:\u001b[38;5;241m3\u001b[39m]\n",
      "\u001b[1;31mTypeError\u001b[0m: 'tuple' object does not support item deletion"
     ]
    }
   ],
   "source": [
    "# you can't delete the some portion of tuple \n",
    "a = (1,2,3,4,5)\n",
    "del a[1:3]"
   ]
  },
  {
   "cell_type": "markdown",
   "id": "7f09ce3a-a1f2-4606-9328-a4709e81d9e5",
   "metadata": {},
   "source": [
    "## functions on tuple"
   ]
  },
  {
   "cell_type": "markdown",
   "id": "8a84fe0c-ca24-472d-a8dd-1ee26cb9fe15",
   "metadata": {},
   "source": [
    "``` bash\n",
    "min/max/sum/len/sorted\n",
    "count/index\n",
    "```"
   ]
  },
  {
   "cell_type": "code",
   "execution_count": 39,
   "id": "975f280f-961b-4b00-b63e-447adef5187d",
   "metadata": {},
   "outputs": [
    {
     "name": "stdout",
     "output_type": "stream",
     "text": [
      "1\n",
      "5\n",
      "15\n",
      "5\n",
      "[5, 4, 3, 2, 1]\n"
     ]
    }
   ],
   "source": [
    "a = (1,2,3,4,5)\n",
    "# min\n",
    "print(min(a))\n",
    "# max\n",
    "print(max(a))\n",
    "# sum\n",
    "print(sum(a))\n",
    "# len\n",
    "print(len(a))\n",
    "# sorted\n",
    "print(sorted(a,reverse=True))"
   ]
  },
  {
   "cell_type": "code",
   "execution_count": 49,
   "id": "74ab7b29-c8de-438f-a7cc-c15e688e7bf4",
   "metadata": {},
   "outputs": [
    {
     "name": "stdout",
     "output_type": "stream",
     "text": [
      "3\n",
      "3\n",
      "0\n"
     ]
    }
   ],
   "source": [
    "# count \n",
    "a = (1,1,1,2,3,34,4,6,5,65,6,6,)\n",
    "print(a.count(1))\n",
    "print(a.count(6))\n",
    "print(a.count(10))"
   ]
  },
  {
   "cell_type": "code",
   "execution_count": 48,
   "id": "9d044e12-cebe-4e93-a842-5bed74126bdb",
   "metadata": {},
   "outputs": [
    {
     "name": "stdout",
     "output_type": "stream",
     "text": [
      "0\n",
      "7\n"
     ]
    },
    {
     "ename": "ValueError",
     "evalue": "tuple.index(x): x not in tuple",
     "output_type": "error",
     "traceback": [
      "\u001b[1;31m---------------------------------------------------------------------------\u001b[0m",
      "\u001b[1;31mValueError\u001b[0m                                Traceback (most recent call last)",
      "Cell \u001b[1;32mIn[48], line 4\u001b[0m\n\u001b[0;32m      2\u001b[0m \u001b[38;5;28mprint\u001b[39m(a\u001b[38;5;241m.\u001b[39mindex(\u001b[38;5;241m1\u001b[39m))\n\u001b[0;32m      3\u001b[0m \u001b[38;5;28mprint\u001b[39m(a\u001b[38;5;241m.\u001b[39mindex(\u001b[38;5;241m6\u001b[39m))\n\u001b[1;32m----> 4\u001b[0m \u001b[38;5;28mprint\u001b[39m(\u001b[43ma\u001b[49m\u001b[38;5;241;43m.\u001b[39;49m\u001b[43mindex\u001b[49m\u001b[43m(\u001b[49m\u001b[38;5;241;43m10\u001b[39;49m\u001b[43m)\u001b[49m)\n",
      "\u001b[1;31mValueError\u001b[0m: tuple.index(x): x not in tuple"
     ]
    }
   ],
   "source": [
    "# index \n",
    "print(a.index(1))\n",
    "print(a.index(6))\n",
    "print(a.index(10))"
   ]
  },
  {
   "cell_type": "code",
   "execution_count": 53,
   "id": "38083c8a-79a8-4b1a-8622-8688c9635220",
   "metadata": {},
   "outputs": [
    {
     "name": "stdout",
     "output_type": "stream",
     "text": [
      "(1, 11)\n",
      "(2, 12)\n",
      "(3, 13)\n",
      "(4, 14)\n"
     ]
    }
   ],
   "source": [
    "t1 = (1,2,3,4)\n",
    "t2 = (11,12,13,14)\n",
    "\n",
    "for i in zip(t1,t2) : \n",
    "    print(i)"
   ]
  },
  {
   "cell_type": "markdown",
   "id": "45f6be91-19c3-4538-9411-8380a5b8779a",
   "metadata": {},
   "source": [
    "## Difference between Lists and tuple \n"
   ]
  },
  {
   "cell_type": "markdown",
   "id": "5285aa97-4df1-4072-a33b-80d8fee71b27",
   "metadata": {},
   "source": [
    "```bash  \n",
    "feature             list               tuple\n",
    "-------------------------------------------------\n",
    "syntax               []                  ()\n",
    "speed                slow                fast\n",
    "memory               uses more           uses less\n",
    "mutable              yes                 no(immutable)\n",
    "error prone          high                low\n",
    "use                  when you want       when you dont want\n",
    "                     make changes in     make changes in\n",
    "                     data later          data later\n",
    "``` "
   ]
  },
  {
   "cell_type": "code",
   "execution_count": 55,
   "id": "9a08d4fe-14fd-4bb7-a177-cf34bb8ff99c",
   "metadata": {},
   "outputs": [
    {
     "name": "stdout",
     "output_type": "stream",
     "text": [
      "<class 'list'>\n",
      "<class 'tuple'>\n"
     ]
    }
   ],
   "source": [
    "# example for syntax \n",
    "L = [1,2,3,4,5]\n",
    "T = (1,2,3,4,5)\n",
    "print(type(L))\n",
    "print(type(T))"
   ]
  },
  {
   "cell_type": "code",
   "execution_count": 56,
   "id": "94d7a485-7bd6-48ed-9171-2453b6c49374",
   "metadata": {},
   "outputs": [
    {
     "name": "stdout",
     "output_type": "stream",
     "text": [
      "LIST time : 0.004454612731933594\n",
      "TUPLE time : 0.0\n"
     ]
    }
   ],
   "source": [
    "# speed \n",
    "import time \n",
    "L = list(range(10000))\n",
    "start = time.time() \n",
    "for i in L : \n",
    "    i*10 \n",
    "print(\"LIST time :\",time.time()-start)\n",
    "\n",
    "T = tuple(range(10000))\n",
    "start = time.time() \n",
    "for i in T : \n",
    "    i*10 \n",
    "print(\"TUPLE time :\",time.time()-start)"
   ]
  },
  {
   "cell_type": "code",
   "execution_count": 57,
   "id": "53314ee5-3fd7-45e5-8080-92125fb6d1e3",
   "metadata": {},
   "outputs": [
    {
     "name": "stdout",
     "output_type": "stream",
     "text": [
      "memory used by LIST 80056\n",
      "memory used by TUPLE 80040\n"
     ]
    }
   ],
   "source": [
    "# memory \n",
    "import sys \n",
    "L = list(range(10000))\n",
    "T = tuple(range(10000))\n",
    "\n",
    "print(\"memory used by LIST\",sys.getsizeof(L))\n",
    "print(\"memory used by TUPLE\",sys.getsizeof(T))"
   ]
  },
  {
   "cell_type": "code",
   "execution_count": 4,
   "id": "d781acbe-155a-4555-a88c-6bed34533e38",
   "metadata": {},
   "outputs": [
    {
     "name": "stdout",
     "output_type": "stream",
     "text": [
      "[1, 2, 3, 5, 'anything']\n",
      "[1, 2, 3, 5, 'anything']\n",
      "(1, 2, 3, 5)\n",
      "(1, 2, 3, 5, 6)\n"
     ]
    }
   ],
   "source": [
    "# error prone in LIST \n",
    "a = [1,2,3,5]\n",
    "b = a \n",
    "b.append(\"anything\")\n",
    "\n",
    "print(a)\n",
    "print(b)\n",
    "# observe here we are addded a element to the 'b' but the changes are happend in a also \n",
    "# because a is mutable which means a and b are has same location\n",
    "# if we don't this we may confused means debugging is difficult \n",
    "\n",
    "# error prone in Tuple \n",
    "a = (1,2,3,5)\n",
    "b = a \n",
    "b = b + (6,)\n",
    "\n",
    "print(a)\n",
    "print(b)\n",
    "\n",
    "# here we are not observing the changes in \"a\" because tuples are immutable it doesn't allows the cahnges"
   ]
  },
  {
   "cell_type": "markdown",
   "id": "ca935eb6-405a-4e3b-9382-f7801bbe2e29",
   "metadata": {},
   "source": [
    "## `Tuple unpacking`"
   ]
  },
  {
   "cell_type": "code",
   "execution_count": 6,
   "id": "7bb1bb7b-7c9d-4c9d-884a-693d4a09eda6",
   "metadata": {},
   "outputs": [
    {
     "name": "stdout",
     "output_type": "stream",
     "text": [
      "1 2 3\n"
     ]
    }
   ],
   "source": [
    "# varibles should be equal to values in tuple\n",
    "a,b,c = (1,2,3)\n",
    "print(a,b,c)"
   ]
  },
  {
   "cell_type": "code",
   "execution_count": 7,
   "id": "9363dd96-b65d-46b5-9035-d9e046383ded",
   "metadata": {},
   "outputs": [
    {
     "ename": "ValueError",
     "evalue": "too many values to unpack (expected 2)",
     "output_type": "error",
     "traceback": [
      "\u001b[1;31m---------------------------------------------------------------------------\u001b[0m",
      "\u001b[1;31mValueError\u001b[0m                                Traceback (most recent call last)",
      "Cell \u001b[1;32mIn[7], line 1\u001b[0m\n\u001b[1;32m----> 1\u001b[0m a,b \u001b[38;5;241m=\u001b[39m (\u001b[38;5;241m1\u001b[39m,\u001b[38;5;241m2\u001b[39m,\u001b[38;5;241m3\u001b[39m)\n\u001b[0;32m      2\u001b[0m \u001b[38;5;28mprint\u001b[39m(a,b)\n",
      "\u001b[1;31mValueError\u001b[0m: too many values to unpack (expected 2)"
     ]
    }
   ],
   "source": [
    "a,b = (1,2,3)\n",
    "print(a,b)"
   ]
  },
  {
   "cell_type": "code",
   "execution_count": 8,
   "id": "3694f0a8-14a0-4bdd-96dc-29b01d107775",
   "metadata": {},
   "outputs": [
    {
     "name": "stdout",
     "output_type": "stream",
     "text": [
      "1 2 [3, 4, 5, 6.7, 8]\n"
     ]
    }
   ],
   "source": [
    "# if you have multiple values but you want to only some values use the below format \n",
    "\n",
    "a,b,*others = (1,2,3,4,5,6.7,8) # now it will not throw an error because remaining all stored in the other variable\n",
    "# dont miss asteric(*)\n",
    "print(a,b,others)"
   ]
  },
  {
   "cell_type": "markdown",
   "id": "ad874a3f-8d3c-448f-95d7-85bf55701443",
   "metadata": {},
   "source": [
    "## `zip function`"
   ]
  },
  {
   "cell_type": "code",
   "execution_count": 12,
   "id": "c2ee3a66-9ad7-44b0-98d8-9417624cdade",
   "metadata": {},
   "outputs": [
    {
     "name": "stdout",
     "output_type": "stream",
     "text": [
      "<zip object at 0x000001C95777F140>\n",
      "[(1, 5), (2, 6), (3, 7), (4, 8)]\n",
      "((1, 5), (2, 6), (3, 7), (4, 8))\n"
     ]
    }
   ],
   "source": [
    "t1 = (1,2,3,4)\n",
    "t2 = (5,6,7,8)\n",
    "print(zip(t1,t2))  # it return an object , later you can convert to tuple or list using type conversion like : \n",
    "print(list(zip(t1,t2))) # list of tuples\n",
    "print(tuple(zip(t1,t2))) # tuple of tuples"
   ]
  }
 ],
 "metadata": {
  "kernelspec": {
   "display_name": "Python 3 (ipykernel)",
   "language": "python",
   "name": "python3"
  },
  "language_info": {
   "codemirror_mode": {
    "name": "ipython",
    "version": 3
   },
   "file_extension": ".py",
   "mimetype": "text/x-python",
   "name": "python",
   "nbconvert_exporter": "python",
   "pygments_lexer": "ipython3",
   "version": "3.10.10"
  }
 },
 "nbformat": 4,
 "nbformat_minor": 5
}
