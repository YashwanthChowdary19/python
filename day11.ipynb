{
 "cells": [
  {
   "cell_type": "markdown",
   "id": "a88754c3-00ce-4c46-a1e6-f958086cd87c",
   "metadata": {},
   "source": [
    "# functions"
   ]
  },
  {
   "cell_type": "markdown",
   "id": "314d48dd-3036-4591-92e7-ca926011d496",
   "metadata": {},
   "source": [
    "```bash \n",
    "In Python, a function is a reusable block of code that performs a specific task.\n",
    "Instead of writing the same code multiple times, you can put it inside a function and call it whenever needed.\n",
    "```"
   ]
  },
  {
   "cell_type": "markdown",
   "id": "9fcbb462-178e-42b9-89ff-f155e13155eb",
   "metadata": {},
   "source": [
    "Functions in Python are not just about wrapping code, but about writing code that is **clean, reusable, and expressive**.\n",
    "\n",
    "### 📌 Philosophy of Python Functions\n",
    "\n",
    "#### 1. Simplicity & Readability\n",
    "- Functions break a program into smaller logical pieces, making code easier to understand.  \n",
    "- *“Readability counts.”*  \n",
    "- A function name like `calculate_salary()` is more meaningful than repeating formulas everywhere.  \n",
    "\n",
    "#### 2. Reusability & Modularity\n",
    "- Instead of rewriting code, we encapsulate logic in functions and call them when needed.  \n",
    "- This reduces redundancy and errors, following the **DRY principle (Don’t Repeat Yourself)**.  \n",
    "\n",
    "#### 3. Abstraction\n",
    "- Functions hide implementation details. You just need to know *what* it does, not *how* it works internally.  \n",
    "- Example: You don’t worry about how `print()` works, you just use it.  \n",
    "\n",
    "#### 4. Maintainability & Testing\n",
    "- Functions make debugging and testing easier.  \n",
    "- If a bug exists in a function, you only need to fix it once, and it’s fixed everywhere it’s used.  \n",
    "\n",
    "#### 5. Composability\n",
    "- Functions can be combined to build complex programs step by step.  \n",
    "- Small, simple functions → combined into larger solutions.  \n",
    "\n",
    "---\n",
    "\n",
    "🔹 **In short:** The philosophy of Python functions is about writing code that is *simple, reusable, modular, and readable* so that both you and others can easily work with it.\n"
   ]
  },
  {
   "cell_type": "code",
   "execution_count": 37,
   "id": "61707d6b-0447-4282-a9ea-005ee9082225",
   "metadata": {},
   "outputs": [],
   "source": [
    "# basic syntax \n",
    "def function_name(parameters_as_input) : \n",
    "    \"\"\"doc string : \n",
    "       input : \n",
    "       output : \n",
    "       created at : \n",
    "       created by :\n",
    "    \"\"\"\n",
    "    # code \n",
    "    pass\n"
   ]
  },
  {
   "cell_type": "code",
   "execution_count": 38,
   "id": "d643b007-9354-48cb-822d-ddcb72a4d74e",
   "metadata": {},
   "outputs": [],
   "source": [
    "# basic exmaple : function declaration \n",
    "def is_even(num) : \n",
    "    \"\"\" \n",
    "    input : a positve integer\n",
    "    output : returns `even` if number is even otherwise `odd`  \n",
    "    created at : 18th Aug 2025 \n",
    "    created by : xyz \"\"\"\n",
    "\n",
    "    if num%2==0 : \n",
    "        return \"even\"\n",
    "    else : \n",
    "        return \"odd\"\n",
    "\n"
   ]
  },
  {
   "cell_type": "code",
   "execution_count": 39,
   "id": "146aee9c-6081-4a7f-9b87-3a13cf865fc0",
   "metadata": {},
   "outputs": [
    {
     "name": "stdout",
     "output_type": "stream",
     "text": [
      "odd\n",
      "even\n",
      "odd\n",
      "even\n",
      "odd\n",
      "even\n",
      "odd\n",
      "even\n",
      "odd\n",
      "even\n"
     ]
    }
   ],
   "source": [
    "# function calling \n",
    "for i in range(1,11) : \n",
    "    x = is_even(i)\n",
    "    print(x)"
   ]
  },
  {
   "cell_type": "markdown",
   "id": "11c63c23-11c4-49ff-9d02-1671e7360d42",
   "metadata": {},
   "source": [
    "## 2 point of Views"
   ]
  },
  {
   "cell_type": "markdown",
   "id": "5bb50d71-4e8b-4697-95d6-ef94631690fa",
   "metadata": {},
   "source": [
    "#### 1) function writer side \n",
    "#### 2) function user side \n",
    "```\n",
    "for example the user entered the wrong input like instead of giving integer he given string but it is not a user mistake.\n",
    "because the code was written by writer is not proper. so be careful when writing the code\n",
    "```"
   ]
  },
  {
   "cell_type": "code",
   "execution_count": 40,
   "id": "da6d834f-fd60-46c0-87b7-a9fad3e93efe",
   "metadata": {},
   "outputs": [],
   "source": [
    "# proper code \n",
    "def is_even(num) : \n",
    "    \"\"\" \n",
    "    input : a positve integer\n",
    "    output : returns `even` if number is even otherwise `odd`  \n",
    "    created at : 18th Aug 2025 \n",
    "    created by : xyz \"\"\"\n",
    "    if type(num)==int : \n",
    "        if num%2==0 : \n",
    "            return \"even\"\n",
    "        else : \n",
    "            return \"odd\"\n",
    "    else : \n",
    "        print(\"enter positive integer only\")\n"
   ]
  },
  {
   "cell_type": "code",
   "execution_count": 41,
   "id": "d928e24b-6733-4b4e-afa9-b8a58d1dbbc6",
   "metadata": {},
   "outputs": [
    {
     "name": "stdout",
     "output_type": "stream",
     "text": [
      "even\n",
      "enter positive integer only\n",
      "None\n"
     ]
    }
   ],
   "source": [
    "# function calling \n",
    "print(is_even(10))\n",
    "print(is_even(\"hello\"))\n"
   ]
  },
  {
   "cell_type": "code",
   "execution_count": 55,
   "id": "abae276d-4c51-4457-bd76-9a6d9d5a2338",
   "metadata": {},
   "outputs": [
    {
     "name": "stdout",
     "output_type": "stream",
     "text": [
      " \n",
      "    input : a positve integer\n",
      "    output : returns `even` if number is even otherwise `odd`  \n",
      "    created at : 18th Aug 2025 \n",
      "    created by : xyz \n"
     ]
    }
   ],
   "source": [
    "# if you want to access the doc string then : \n",
    "print(is_even.__doc__) # here you can access any function documentation not only is_even you can access for built_in functions"
   ]
  },
  {
   "cell_type": "markdown",
   "id": "6a4d78a8-072e-484e-b227-e4295d2fef96",
   "metadata": {},
   "source": [
    "## Parameters vs Arguments"
   ]
  },
  {
   "cell_type": "markdown",
   "id": "c1c852ef-6969-4c05-82a2-32dfcafc05e7",
   "metadata": {},
   "source": [
    "### types of arguments \n",
    "1) default arguments\n",
    "2) positional arguments\n",
    "3) keyword arguments"
   ]
  },
  {
   "cell_type": "markdown",
   "id": "0e46c465-d09f-4e7f-95d3-fe7abe38dcd3",
   "metadata": {},
   "source": [
    "### `default arguments`\n",
    "```\n",
    "Default parameters in Python are function parameters that have a predefined value.\n",
    "If the caller does not provide a value for such a parameter, Python automatically uses the default.\n",
    "```"
   ]
  },
  {
   "cell_type": "code",
   "execution_count": 43,
   "id": "fb326a78-b1f6-4f3a-8db7-00fc85351a71",
   "metadata": {},
   "outputs": [],
   "source": [
    "# example : 1\n",
    "def power_function(base=1,power=1) : # here 1 is default value for base,power \n",
    "    return base**power \n"
   ]
  },
  {
   "cell_type": "code",
   "execution_count": 44,
   "id": "35dee7ee-c643-4e78-8ecd-e49d3473ddb5",
   "metadata": {},
   "outputs": [
    {
     "data": {
      "text/plain": [
       "1"
      ]
     },
     "execution_count": 44,
     "metadata": {},
     "output_type": "execute_result"
    }
   ],
   "source": [
    "power_function() # here caller does not provide a value so it will automatically take 1 as default"
   ]
  },
  {
   "cell_type": "code",
   "execution_count": 45,
   "id": "04af2395-9226-4f0b-890f-5b33a0917cd2",
   "metadata": {},
   "outputs": [
    {
     "data": {
      "text/plain": [
       "2"
      ]
     },
     "execution_count": 45,
     "metadata": {},
     "output_type": "execute_result"
    }
   ],
   "source": [
    "power_function(2) # here base = 2, power value is default"
   ]
  },
  {
   "cell_type": "markdown",
   "id": "34267a6c-1e44-4dc6-8a69-11120d51a9e6",
   "metadata": {},
   "source": [
    "# `positional arguments` \n",
    "```\n",
    "✅ Positional Arguments in Python\n",
    "\n",
    "    A positional argument is an argument that is assigned to parameters based on its position (order) in the function call.\n",
    "\n",
    "    👉 This means the first argument goes to the first parameter, the second goes to the second, and so on.\n",
    "```"
   ]
  },
  {
   "cell_type": "code",
   "execution_count": 46,
   "id": "22041f37-5659-4b9b-a55b-94c81906145a",
   "metadata": {},
   "outputs": [],
   "source": [
    "# example \n",
    "def power_function(base,power) : \n",
    "    return base**power "
   ]
  },
  {
   "cell_type": "code",
   "execution_count": 47,
   "id": "1e68b918-887e-454f-82cc-f29ef9466122",
   "metadata": {},
   "outputs": [
    {
     "data": {
      "text/plain": [
       "1024"
      ]
     },
     "execution_count": 47,
     "metadata": {},
     "output_type": "execute_result"
    }
   ],
   "source": [
    "power_function(2,10) # it automatically 2 is allocated base, 10 is automatically power parameter"
   ]
  },
  {
   "cell_type": "markdown",
   "id": "1b4938ca-ccee-480e-aaa2-02d1bd5f747a",
   "metadata": {},
   "source": [
    "# `keyword arguments` \n",
    "```\n",
    "A keyword argument is when you pass values to a function by explicitly naming the parameter instead of relying on position.\n",
    "\n",
    "👉 This improves clarity and makes order less important.\n",
    "```"
   ]
  },
  {
   "cell_type": "code",
   "execution_count": 48,
   "id": "bac66d6f-10c8-4ccf-a8e5-a594b1124a62",
   "metadata": {},
   "outputs": [
    {
     "data": {
      "text/plain": [
       "32"
      ]
     },
     "execution_count": 48,
     "metadata": {},
     "output_type": "execute_result"
    }
   ],
   "source": [
    "# example \n",
    "power_function(power=5,base=2) "
   ]
  },
  {
   "cell_type": "markdown",
   "id": "f861ae0e-bace-496d-b1f7-bacace9b8bf9",
   "metadata": {},
   "source": [
    "### `*args`"
   ]
  },
  {
   "cell_type": "markdown",
   "id": "5fd0d553-ed33-4fd4-9859-ad3c21a02de7",
   "metadata": {},
   "source": [
    "```\n",
    "✅ *args in Python\n",
    "\n",
    "    In Python, *args allows a function to accept a variable number of positional arguments (not fixed).\n",
    "\n",
    "    args is just a name (convention), you could write *numbers or *values.\n",
    "\n",
    "    Inside the function, it’s treated as a tuple.\n",
    "```"
   ]
  },
  {
   "cell_type": "code",
   "execution_count": 49,
   "id": "1007abe0-4589-4802-801d-b872a8129b35",
   "metadata": {},
   "outputs": [],
   "source": [
    "# example \n",
    "\n",
    "def sum_function(*arguments) : \n",
    "    result = 0\n",
    "    for i in arguments : \n",
    "        result = result+i\n",
    "    return result"
   ]
  },
  {
   "cell_type": "code",
   "execution_count": 50,
   "id": "68aca778-82ec-4e95-a4ef-75916292d635",
   "metadata": {
    "scrolled": true
   },
   "outputs": [
    {
     "data": {
      "text/plain": [
       "45"
      ]
     },
     "execution_count": 50,
     "metadata": {},
     "output_type": "execute_result"
    }
   ],
   "source": [
    "sum_function(1,2,3,4,5,6,7,8,9)\n"
   ]
  },
  {
   "cell_type": "code",
   "execution_count": 51,
   "id": "35284ab9-951c-45df-89f6-290bfe20120c",
   "metadata": {},
   "outputs": [
    {
     "data": {
      "text/plain": [
       "17"
      ]
     },
     "execution_count": 51,
     "metadata": {},
     "output_type": "execute_result"
    }
   ],
   "source": [
    "sum_function(4,3,2,3,5)"
   ]
  },
  {
   "cell_type": "markdown",
   "id": "e832bb22-994b-43f2-809a-620a1e0b6c2f",
   "metadata": {},
   "source": [
    "### `**kwargs`"
   ]
  },
  {
   "cell_type": "markdown",
   "id": "756e08a7-4648-45cc-9237-c6f86042b5ef",
   "metadata": {},
   "source": [
    "```\n",
    "✅ **kwargs in Python\n",
    "\n",
    "    **kwargs allows a function to accept a variable number of keyword arguments (key-value pairs).\n",
    "\n",
    "    Inside the function, it’s stored as a dictionary.\n",
    "\n",
    "    kwargs is just a naming convention → you could write **data or **options.\n",
    "```"
   ]
  },
  {
   "cell_type": "code",
   "execution_count": 63,
   "id": "3d7c7842-12c1-4a62-9f8b-bd9b602eca19",
   "metadata": {},
   "outputs": [],
   "source": [
    "# example \n",
    "def display(**data) : # double star means key-value pair \n",
    "    print(data)\n",
    "    for key,value in data.items() : \n",
    "       print(key,\"->\",value)"
   ]
  },
  {
   "cell_type": "code",
   "execution_count": 64,
   "id": "85723e10-5665-43a4-b66e-e243d198bbf0",
   "metadata": {},
   "outputs": [
    {
     "name": "stdout",
     "output_type": "stream",
     "text": [
      "{'India': 'Delhi', 'Srilanka': 'colombo'}\n",
      "India -> Delhi\n",
      "Srilanka -> colombo\n"
     ]
    }
   ],
   "source": [
    "display(India='Delhi',Srilanka='colombo')"
   ]
  },
  {
   "cell_type": "code",
   "execution_count": null,
   "id": "e996a89d-3cbc-4d7b-b71c-8d3ef25eed6a",
   "metadata": {},
   "outputs": [],
   "source": []
  }
 ],
 "metadata": {
  "kernelspec": {
   "display_name": "Python 3 (ipykernel)",
   "language": "python",
   "name": "python3"
  },
  "language_info": {
   "codemirror_mode": {
    "name": "ipython",
    "version": 3
   },
   "file_extension": ".py",
   "mimetype": "text/x-python",
   "name": "python",
   "nbconvert_exporter": "python",
   "pygments_lexer": "ipython3",
   "version": "3.10.10"
  }
 },
 "nbformat": 4,
 "nbformat_minor": 5
}
