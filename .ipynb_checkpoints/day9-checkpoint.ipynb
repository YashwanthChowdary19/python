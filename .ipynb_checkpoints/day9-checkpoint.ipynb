{
 "cells": [
  {
   "cell_type": "markdown",
   "id": "4b8ae31d-54da-46f6-8cf3-f7d0571440de",
   "metadata": {},
   "source": [
    "# sets parts 2"
   ]
  },
  {
   "cell_type": "markdown",
   "id": "416224da-dbca-46bf-ae74-6c7214269e00",
   "metadata": {},
   "source": [
    "### set functions"
   ]
  },
  {
   "cell_type": "code",
   "execution_count": 6,
   "id": "ebb2d63f-2463-4102-a29a-1f0c4b64d9cd",
   "metadata": {},
   "outputs": [
    {
     "name": "stdout",
     "output_type": "stream",
     "text": [
      "9\n",
      "1\n",
      "23\n",
      "[1, 2, 3, 4, 5, 11, 12, 13, 23]\n",
      "74\n"
     ]
    }
   ],
   "source": [
    "# len/min/max/sorted/sum\n",
    "s1 = {1,2,3,4,5,11,13,23,12}\n",
    "print(len(s1))\n",
    "print(min(s1))\n",
    "print(max(s1))\n",
    "print(sorted(s1))\n",
    "print(sum(s1))"
   ]
  },
  {
   "cell_type": "code",
   "execution_count": 26,
   "id": "e604f100-5ec1-49e3-9571-e8e69859bd7b",
   "metadata": {},
   "outputs": [
    {
     "name": "stdout",
     "output_type": "stream",
     "text": [
      "{1, 2, 3, 4, 5, 6, 7, 8}\n",
      "{1, 2, 3, 4, 5}\n",
      "{1, 2, 3, 4, 5, 6, 7, 8}\n",
      "{4, 5, 6, 7, 8}\n"
     ]
    }
   ],
   "source": [
    "# union / update \n",
    "s1 = {1,2,3,4,5}\n",
    "s2 = {4,5,6,7,8}\n",
    "\n",
    "# union() is similar to s1 | s2\n",
    "print(s1.union(s2))\n",
    "print(s1)\n",
    "# union update function bcz it will add which is not present in both \n",
    "s1.update(s2)\n",
    "print(s1)\n",
    "print(s2)"
   ]
  },
  {
   "cell_type": "code",
   "execution_count": 25,
   "id": "eef8114a-7742-41dd-b1fc-b90c1b59a924",
   "metadata": {},
   "outputs": [
    {
     "name": "stdout",
     "output_type": "stream",
     "text": [
      "{4, 5}\n",
      "{1, 2, 3, 4, 5}\n",
      "{4, 5}\n",
      "{4, 5, 6, 7, 8}\n"
     ]
    }
   ],
   "source": [
    "# intersection / intersection_update \n",
    "s1 = {1,2,3,4,5}\n",
    "s2 = {4,5,6,7,8}\n",
    "\n",
    "# intersection() is similar to s1 & s2\n",
    "print(s1.intersection(s2))\n",
    "print(s1)\n",
    "# intersection_update function bcz it will add which is  present in both\n",
    "s1.intersection_update(s2)\n",
    "print(s1)\n",
    "print(s2)"
   ]
  },
  {
   "cell_type": "code",
   "execution_count": 24,
   "id": "74ced953-8e61-4916-96a5-de5d3a3b0072",
   "metadata": {},
   "outputs": [
    {
     "name": "stdout",
     "output_type": "stream",
     "text": [
      "{1, 2, 3}\n",
      "{1, 2, 3, 4, 5}\n",
      "{1, 2, 3}\n",
      "{4, 5, 6, 7, 8}\n"
     ]
    }
   ],
   "source": [
    "# differnce / difference_update \n",
    "s1 = {1,2,3,4,5}\n",
    "s2 = {4,5,6,7,8}\n",
    "\n",
    "# difference() is similar to s1 - s2\n",
    "print(s1.difference(s2))\n",
    "print(s1)\n",
    "# difference_update function updates the s1 with only which is not present s1\n",
    "s1.difference_update(s2)\n",
    "print(s1)\n",
    "print(s2)"
   ]
  },
  {
   "cell_type": "code",
   "execution_count": 23,
   "id": "b0a6c6f7-5ec2-46ce-9aee-7e3a3a73c29b",
   "metadata": {},
   "outputs": [
    {
     "name": "stdout",
     "output_type": "stream",
     "text": [
      "{1, 2, 3, 6, 7, 8}\n",
      "{1, 2, 3, 4, 5}\n",
      "{1, 2, 3, 6, 7, 8}\n",
      "{4, 5, 6, 7, 8}\n"
     ]
    }
   ],
   "source": [
    "# symmetric_difference / symmetric_difference_update \n",
    "s1 = {1,2,3,4,5}\n",
    "s2 = {4,5,6,7,8}\n",
    "\n",
    "# symmetric_difference() is similar to s1 ^ s2\n",
    "print(s1.symmetric_difference(s2))\n",
    "print(s1)\n",
    "# symmetric_difference_update function updates the s1 with elements which is not in both\n",
    "s1.symmetric_difference_update(s2)\n",
    "print(s1)\n",
    "print(s2)"
   ]
  },
  {
   "cell_type": "code",
   "execution_count": 31,
   "id": "7af76766-6a80-4606-b7e8-267143a8f025",
   "metadata": {},
   "outputs": [
    {
     "name": "stdout",
     "output_type": "stream",
     "text": [
      "False\n",
      "True\n",
      "True\n",
      "False\n",
      "False\n",
      "False\n"
     ]
    }
   ],
   "source": [
    "# issubset() / issuperset()  / isdisjoint()\n",
    "s1 = {1,2,3,4,5}\n",
    "s2 = {4,5}\n",
    "# issubset()\n",
    "print(s1.issubset(s2)) # false bcz s1 is not present in s2 but s2 is present in s1\n",
    "print(s2.issubset(s1)) \n",
    "# issuperset() \n",
    "print(s1.issuperset(s2)) # True bcz s1 is a superset of s2\n",
    "print(s2.issuperset(s1)) \n",
    "# isdisjoint()\n",
    "print(s1.isdisjoint(s2)) # False bcz s2 elements are present in s1 \n",
    "print(s2.isdisjoint(s1)) # vice-versa "
   ]
  },
  {
   "cell_type": "code",
   "execution_count": 32,
   "id": "06894c5f-f7ba-4f76-ba1f-3900e8a26fce",
   "metadata": {},
   "outputs": [
    {
     "name": "stdout",
     "output_type": "stream",
     "text": [
      "{1, 2, 3, 4, 5}\n",
      "{1, 2, 3, 4, 5}\n"
     ]
    }
   ],
   "source": [
    "# copy() function \n",
    "s1 = {1,2,3,4,5}\n",
    "s2 = s1.copy() \n",
    "print(s1)\n",
    "print(s2)"
   ]
  }
 ],
 "metadata": {
  "kernelspec": {
   "display_name": "Python 3 (ipykernel)",
   "language": "python",
   "name": "python3"
  },
  "language_info": {
   "codemirror_mode": {
    "name": "ipython",
    "version": 3
   },
   "file_extension": ".py",
   "mimetype": "text/x-python",
   "name": "python",
   "nbconvert_exporter": "python",
   "pygments_lexer": "ipython3",
   "version": "3.10.10"
  }
 },
 "nbformat": 4,
 "nbformat_minor": 5
}
