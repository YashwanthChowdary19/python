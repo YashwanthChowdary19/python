{
 "cells": [
  {
   "cell_type": "markdown",
   "id": "6cf113f7-8ecb-458f-b0a6-6954cf64ee41",
   "metadata": {},
   "source": [
    "### `List operations` : \n",
    "``` bash \n",
    "arithmetic \n",
    "membership\n",
    "loop\n",
    "```"
   ]
  },
  {
   "cell_type": "code",
   "execution_count": 5,
   "id": "59352dc4-49f8-4128-b47c-89731049c503",
   "metadata": {},
   "outputs": [
    {
     "name": "stdout",
     "output_type": "stream",
     "text": [
      "[1, 2, 3, 4, 5, 6, 7, 8, 9, 10]\n",
      "[1, 2, 3, 4, 5, 1, 2, 3, 4, 5, 1, 2, 3, 4, 5]\n"
     ]
    }
   ],
   "source": [
    "# Arithmetic (+, *)\n",
    "L1 = [1,2,3,4,5]\n",
    "L2 = [6,7,8,9,10]\n",
    "print(L1+L2)\n",
    "print(L1*3)"
   ]
  },
  {
   "cell_type": "code",
   "execution_count": 9,
   "id": "f693854b-bc8d-4e3f-8d32-cab7bf77fb9e",
   "metadata": {},
   "outputs": [
    {
     "name": "stdout",
     "output_type": "stream",
     "text": [
      "True\n",
      "False\n",
      "False\n",
      "True\n"
     ]
    }
   ],
   "source": [
    "# membership \n",
    "L1 = [1,2,3,4,[5,6]]\n",
    "print(4 in L1)\n",
    "print(4 not in L1)\n",
    "print(5 in L1)\n",
    "print([5,6] in L1)"
   ]
  },
  {
   "cell_type": "code",
   "execution_count": 10,
   "id": "13931037-39e0-4245-8bb4-014e32c2974f",
   "metadata": {},
   "outputs": [
    {
     "name": "stdout",
     "output_type": "stream",
     "text": [
      "1\n",
      "2\n",
      "3\n",
      "4\n",
      "[5, 6]\n"
     ]
    }
   ],
   "source": [
    "# loops \n",
    "for i in L1 : \n",
    "    print(i)"
   ]
  },
  {
   "cell_type": "markdown",
   "id": "3b4e33e0-43a9-45ed-a215-8935facdce47",
   "metadata": {},
   "source": [
    "### `list functions` : \n",
    "``` bash \n",
    "min/max/len/sotred\n",
    "count/index\n",
    "sort vs sorted \n",
    "copy/reverse\n",
    "```"
   ]
  },
  {
   "cell_type": "code",
   "execution_count": 11,
   "id": "c90abc02-31c2-4804-a46f-07a67f7501a3",
   "metadata": {},
   "outputs": [
    {
     "name": "stdout",
     "output_type": "stream",
     "text": [
      "1\n"
     ]
    }
   ],
   "source": [
    "# min \n",
    "L1 = [1, 2, 3, 4, 5, 1, 2, 3, 4, 5, 1, 2, 3, 4, 5]\n",
    "print(min(L1))"
   ]
  },
  {
   "cell_type": "code",
   "execution_count": 12,
   "id": "0b0ddf5c-98a6-4a39-b784-80204628971c",
   "metadata": {},
   "outputs": [
    {
     "name": "stdout",
     "output_type": "stream",
     "text": [
      "5\n"
     ]
    }
   ],
   "source": [
    "# max \n",
    "L1 = [1, 2, 3, 4, 5, 1, 2, 3, 4, 5, 1, 2, 3, 4, 5]\n",
    "print(max(L1))"
   ]
  },
  {
   "cell_type": "code",
   "execution_count": 13,
   "id": "d73ec67a-dc7f-4566-9bcc-36f2c03f8550",
   "metadata": {},
   "outputs": [
    {
     "name": "stdout",
     "output_type": "stream",
     "text": [
      "15\n"
     ]
    }
   ],
   "source": [
    "# len \n",
    "L1 = [1, 2, 3, 4, 5, 1, 2, 3, 4, 5, 1, 2, 3, 4, 5]\n",
    "print(len(L1))"
   ]
  },
  {
   "cell_type": "code",
   "execution_count": 14,
   "id": "f83503fb-f211-462d-8877-fb5455f1ff91",
   "metadata": {},
   "outputs": [
    {
     "name": "stdout",
     "output_type": "stream",
     "text": [
      "[1, 1, 1, 2, 2, 2, 3, 3, 3, 4, 4, 4, 5, 5, 5]\n"
     ]
    }
   ],
   "source": [
    "# sorted \n",
    "L1 = [1, 2, 3, 4, 5, 1, 2, 3, 4, 5, 1, 2, 3, 4, 5]\n",
    "print(sorted(L1))"
   ]
  },
  {
   "cell_type": "code",
   "execution_count": 16,
   "id": "f0f47b3b-3d51-4bcb-b644-e685fd5d19ff",
   "metadata": {},
   "outputs": [
    {
     "name": "stdout",
     "output_type": "stream",
     "text": [
      "3\n",
      "0\n"
     ]
    }
   ],
   "source": [
    "# count\n",
    "L1 = [1, 2, 3, 4, 5, 1, 2, 3, 4, 5, 1, 2, 3, 4, 5]\n",
    "print(L1.count(1))\n",
    "print(L1.count(70))"
   ]
  },
  {
   "cell_type": "code",
   "execution_count": 19,
   "id": "a49b4235-1e4f-49fc-9e93-bca95e77416a",
   "metadata": {},
   "outputs": [
    {
     "name": "stdout",
     "output_type": "stream",
     "text": [
      "0\n",
      "4\n"
     ]
    },
    {
     "ename": "ValueError",
     "evalue": "7 is not in list",
     "output_type": "error",
     "traceback": [
      "\u001b[1;31m---------------------------------------------------------------------------\u001b[0m",
      "\u001b[1;31mValueError\u001b[0m                                Traceback (most recent call last)",
      "Cell \u001b[1;32mIn[19], line 5\u001b[0m\n\u001b[0;32m      3\u001b[0m \u001b[38;5;28mprint\u001b[39m(L1\u001b[38;5;241m.\u001b[39mindex(\u001b[38;5;241m1\u001b[39m))\n\u001b[0;32m      4\u001b[0m \u001b[38;5;28mprint\u001b[39m(L1\u001b[38;5;241m.\u001b[39mindex(\u001b[38;5;241m5\u001b[39m))\n\u001b[1;32m----> 5\u001b[0m \u001b[38;5;28mprint\u001b[39m(\u001b[43mL1\u001b[49m\u001b[38;5;241;43m.\u001b[39;49m\u001b[43mindex\u001b[49m\u001b[43m(\u001b[49m\u001b[38;5;241;43m7\u001b[39;49m\u001b[43m)\u001b[49m)\n",
      "\u001b[1;31mValueError\u001b[0m: 7 is not in list"
     ]
    }
   ],
   "source": [
    "# index\n",
    "L1 = [1, 2, 3, 4, 5, 1, 2, 3, 4, 5, 1, 2, 3, 4, 5]\n",
    "print(L1.index(1))\n",
    "print(L1.index(5))\n",
    "print(L1.index(7))"
   ]
  },
  {
   "cell_type": "code",
   "execution_count": 21,
   "id": "364b3627-47d2-4a57-aa36-4801fe2a6328",
   "metadata": {},
   "outputs": [
    {
     "name": "stdout",
     "output_type": "stream",
     "text": [
      "[1, 3, 2, 4, 5, 9, 8, 5]\n",
      "[1, 2, 3, 4, 5, 5, 8, 9]\n",
      "[1, 3, 2, 4, 5, 9, 8, 5]\n",
      "[1, 2, 3, 4, 5, 5, 8, 9]\n"
     ]
    }
   ],
   "source": [
    "# sort vs sorted \n",
    "#sort permanently sorts the list but sorted temporary\n",
    "L1 = [1,3,2,4,5,9,8,5]\n",
    "print(L1)\n",
    "print(sorted(L1))\n",
    "print(L1)\n",
    "L1.sort()\n",
    "print(L1)"
   ]
  },
  {
   "cell_type": "code",
   "execution_count": 22,
   "id": "51eb0258-89b1-496d-9b72-69d06f2f69a9",
   "metadata": {},
   "outputs": [
    {
     "name": "stdout",
     "output_type": "stream",
     "text": [
      "[5, 4, 3, 2, 1]\n"
     ]
    }
   ],
   "source": [
    "# reverse \n",
    "L1 = [1,2,3,4,5] \n",
    "L1.reverse() # permanent reverse\n",
    "print(L1)"
   ]
  },
  {
   "cell_type": "code",
   "execution_count": 23,
   "id": "dfe21981-bbeb-4e2b-a166-ef0d371a3bfc",
   "metadata": {},
   "outputs": [
    {
     "name": "stdout",
     "output_type": "stream",
     "text": [
      "[1, 2, 3, 4, 5]\n"
     ]
    }
   ],
   "source": [
    "# copy \n",
    "L1 = [1,2,3,4,5] \n",
    "L2 = L1.copy() \n",
    "print(L2)"
   ]
  },
  {
   "cell_type": "code",
   "execution_count": 28,
   "id": "80ac6eed-ce20-449b-ac3c-f5c3fe356a6a",
   "metadata": {},
   "outputs": [
    {
     "data": {
      "text/plain": [
       "['apple', 'anjur']"
      ]
     },
     "execution_count": 28,
     "metadata": {},
     "output_type": "execute_result"
    }
   ],
   "source": [
    "basket = [\"apple\",\"guava\",\"cherry\",\"banana\",\"anjur\"]\n",
    "my_fruits = [\"apple\",\"kiwi\",\"graphs\",\"banana\",\"anjur\"]\n",
    "\n",
    "[i for i in my_fruits if i in basket and i.startswith(\"a\")]"
   ]
  },
  {
   "cell_type": "code",
   "execution_count": 29,
   "id": "f90e9cf2-fab3-4726-9543-ed90a166796c",
   "metadata": {},
   "outputs": [
    {
     "data": {
      "text/plain": [
       "[[1, 2, 3], [2, 4, 6], [3, 6, 9]]"
      ]
     },
     "execution_count": 29,
     "metadata": {},
     "output_type": "execute_result"
    }
   ],
   "source": [
    "[[i*j for i in range(1,4)] for j in range(1,4)]"
   ]
  },
  {
   "cell_type": "code",
   "execution_count": 33,
   "id": "3569aef4-74c1-4630-80b3-6cf28ab6e5d9",
   "metadata": {},
   "outputs": [
    {
     "data": {
      "text/plain": [
       "[5, 6, 7, 8, 10, 12, 14, 16, 15, 18, 21, 24, 20, 24, 28, 32]"
      ]
     },
     "execution_count": 33,
     "metadata": {},
     "output_type": "execute_result"
    }
   ],
   "source": [
    "L1 = [1,2,3,4]\n",
    "L2 = [5,6,7,8]\n",
    "[i*j for i in L1 for j in L2]"
   ]
  }
 ],
 "metadata": {
  "kernelspec": {
   "display_name": "Python 3 (ipykernel)",
   "language": "python",
   "name": "python3"
  },
  "language_info": {
   "codemirror_mode": {
    "name": "ipython",
    "version": 3
   },
   "file_extension": ".py",
   "mimetype": "text/x-python",
   "name": "python",
   "nbconvert_exporter": "python",
   "pygments_lexer": "ipython3",
   "version": "3.10.10"
  }
 },
 "nbformat": 4,
 "nbformat_minor": 5
}
