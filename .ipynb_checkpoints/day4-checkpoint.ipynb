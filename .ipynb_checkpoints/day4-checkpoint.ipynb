{
 "cells": [
  {
   "cell_type": "markdown",
   "id": "a3ae138a-f704-48b3-ad76-38107e5d29d5",
   "metadata": {},
   "source": [
    "# strings\n",
    "```bash\n",
    "strings are sequence of characters \n",
    "in python espescially,strings are sequence of unicode characters\n",
    "```"
   ]
  },
  {
   "cell_type": "markdown",
   "id": "7e60f324-ab8f-4507-9491-95fe061e771c",
   "metadata": {},
   "source": [
    "## creating strings "
   ]
  },
  {
   "cell_type": "code",
   "execution_count": 4,
   "id": "a86de57f-e98d-4400-84a9-e2dd314d9ce9",
   "metadata": {},
   "outputs": [
    {
     "name": "stdout",
     "output_type": "stream",
     "text": [
      "hello world\n",
      "hello world\n",
      "hello world\n",
      "hello world \n"
     ]
    }
   ],
   "source": [
    "a = 'hello world' # hello world is a string  using single quotes\n",
    "print(a)\n",
    "a = \"hello world\" # using double quotes\n",
    "print(a)\n",
    "a = '''hello world''' # using single triple quotes actually used for multiline strings  \n",
    "print(a)\n",
    "a = \"\"\"hello world \"\"\"# using double triple quotes actually used for multiline strings  \n",
    "print(a)\n"
   ]
  },
  {
   "cell_type": "markdown",
   "id": "d537b5a8-7e97-4013-82ac-0117fb123b4a",
   "metadata": {},
   "source": [
    "## accessing strings"
   ]
  },
  {
   "cell_type": "code",
   "execution_count": 6,
   "id": "c503b634-171f-4d65-8920-6ebe780bc574",
   "metadata": {},
   "outputs": [
    {
     "name": "stdout",
     "output_type": "stream",
     "text": [
      "h\n",
      "e\n",
      "l\n",
      "s\n"
     ]
    }
   ],
   "source": [
    "# positive indexing : python internally assigns the numbers to the each character of the string starts from zero\n",
    "b = \"hello users\"\n",
    "print(b[0])\n",
    "print(b[1])\n",
    "print(b[2])\n",
    "print(b[7])\n",
    "# note : number assigned to the space also "
   ]
  },
  {
   "cell_type": "code",
   "execution_count": 9,
   "id": "77458c2b-ed2b-4ec5-ac76-38d7f3ce8b81",
   "metadata": {},
   "outputs": [
    {
     "name": "stdout",
     "output_type": "stream",
     "text": [
      "s\n",
      "r\n",
      "e\n",
      "l\n"
     ]
    }
   ],
   "source": [
    "# negative indexing : negative numbers or assigned to the characters of the string -1 from the last character \n",
    "c = \"hello users\"\n",
    "print(c[-1])\n",
    "print(c[-2])\n",
    "print(c[-3])\n",
    "print(c[-8])"
   ]
  },
  {
   "cell_type": "code",
   "execution_count": 15,
   "id": "91abeb2a-2403-46ea-a230-b770e77dc0f7",
   "metadata": {},
   "outputs": [
    {
     "name": "stdout",
     "output_type": "stream",
     "text": [
      "hello\n",
      "llo us\n",
      "lo users\n",
      "hello u\n",
      "hlou\n"
     ]
    }
   ],
   "source": [
    "# accessing the substring of string using the slicing concept \n",
    "d = \"hello users\" \n",
    "# positive indexing \n",
    "print(d[0:5]) # start : end \n",
    "print(d[2:8])\n",
    "print(d[3:])\n",
    "print(d[:7])\n",
    "print(d[0:8:2]) # third paramter is called step size (start : end : step_size)"
   ]
  },
  {
   "cell_type": "code",
   "execution_count": 29,
   "id": "eea5ce35-c86f-4369-a324-7911f7de17c7",
   "metadata": {},
   "outputs": [
    {
     "name": "stdout",
     "output_type": "stream",
     "text": [
      "er\n",
      "o u\n",
      "hello \n",
      "users\n",
      "sresu olleh\n"
     ]
    }
   ],
   "source": [
    "# accessing the substring of string using the slicing concept \n",
    "e = \"hello users\" \n",
    "# negative indexing \n",
    "print(e[-3:-1]) # start : end \n",
    "print(e[-7:-4])\n",
    "print(e[: 6])\n",
    "print(e[-5:])\n",
    "print(e[::-1]) # string reverse"
   ]
  },
  {
   "cell_type": "markdown",
   "id": "602f2b8f-e075-4132-8564-d06b837ded8a",
   "metadata": {},
   "source": [
    "## editing the strings "
   ]
  },
  {
   "cell_type": "code",
   "execution_count": 32,
   "id": "cdbffb07-be85-4c3a-929f-16b920bd233f",
   "metadata": {},
   "outputs": [
    {
     "ename": "TypeError",
     "evalue": "'str' object does not support item assignment",
     "output_type": "error",
     "traceback": [
      "\u001b[1;31m---------------------------------------------------------------------------\u001b[0m",
      "\u001b[1;31mTypeError\u001b[0m                                 Traceback (most recent call last)",
      "Cell \u001b[1;32mIn[32], line 2\u001b[0m\n\u001b[0;32m      1\u001b[0m f \u001b[38;5;241m=\u001b[39m \u001b[38;5;124m\"\u001b[39m\u001b[38;5;124mhello users\u001b[39m\u001b[38;5;124m\"\u001b[39m\n\u001b[1;32m----> 2\u001b[0m \u001b[43mf\u001b[49m\u001b[43m[\u001b[49m\u001b[38;5;241;43m0\u001b[39;49m\u001b[43m]\u001b[49m \u001b[38;5;241m=\u001b[39m \u001b[38;5;124m\"\u001b[39m\u001b[38;5;124mH\u001b[39m\u001b[38;5;124m\"\u001b[39m \u001b[38;5;66;03m# here we are replacing the small 'h' to 'H' \u001b[39;00m\n\u001b[0;32m      3\u001b[0m \u001b[38;5;66;03m# but it is throwing an error because string are immutable means once we created we can't modify \u001b[39;00m\n",
      "\u001b[1;31mTypeError\u001b[0m: 'str' object does not support item assignment"
     ]
    }
   ],
   "source": [
    "f = \"hello users\"\n",
    "f[0] = \"H\" # here we are replacing the small 'h' to 'H' \n",
    "# but it is throwing an error because string are immutable means once we created we can't modify "
   ]
  },
  {
   "cell_type": "markdown",
   "id": "0862f549-ec5a-4ded-84f9-c4beaccabaa5",
   "metadata": {},
   "source": [
    "## deleting the strings"
   ]
  },
  {
   "cell_type": "code",
   "execution_count": 35,
   "id": "17c3e28c-b2b5-4aaf-a38d-a4d17e431682",
   "metadata": {},
   "outputs": [
    {
     "ename": "NameError",
     "evalue": "name 'g' is not defined",
     "output_type": "error",
     "traceback": [
      "\u001b[1;31m---------------------------------------------------------------------------\u001b[0m",
      "\u001b[1;31mNameError\u001b[0m                                 Traceback (most recent call last)",
      "Cell \u001b[1;32mIn[35], line 4\u001b[0m\n\u001b[0;32m      2\u001b[0m \u001b[38;5;66;03m# we can delete the entire string using del keyword \u001b[39;00m\n\u001b[0;32m      3\u001b[0m \u001b[38;5;28;01mdel\u001b[39;00m g\n\u001b[1;32m----> 4\u001b[0m \u001b[38;5;28mprint\u001b[39m(\u001b[43mg\u001b[49m) \u001b[38;5;66;03m# error because we already deleted the g variable\u001b[39;00m\n",
      "\u001b[1;31mNameError\u001b[0m: name 'g' is not defined"
     ]
    }
   ],
   "source": [
    "g = \"hello users\" \n",
    "# we can delete the entire string using del keyword \n",
    "del g\n",
    "print(g) # error because we already deleted the g variable\n"
   ]
  },
  {
   "cell_type": "code",
   "execution_count": 36,
   "id": "5ed4bfc0-9d02-4df4-b35f-3126099b1326",
   "metadata": {},
   "outputs": [
    {
     "ename": "TypeError",
     "evalue": "'str' object does not support item deletion",
     "output_type": "error",
     "traceback": [
      "\u001b[1;31m---------------------------------------------------------------------------\u001b[0m",
      "\u001b[1;31mTypeError\u001b[0m                                 Traceback (most recent call last)",
      "Cell \u001b[1;32mIn[36], line 4\u001b[0m\n\u001b[0;32m      1\u001b[0m \u001b[38;5;66;03m# note : python not allow to delete the substring from string bcz it leads to changes (modifying)\u001b[39;00m\n\u001b[0;32m      2\u001b[0m \u001b[38;5;66;03m# example \u001b[39;00m\n\u001b[0;32m      3\u001b[0m h \u001b[38;5;241m=\u001b[39m \u001b[38;5;124m\"\u001b[39m\u001b[38;5;124mhello users\u001b[39m\u001b[38;5;124m\"\u001b[39m\n\u001b[1;32m----> 4\u001b[0m \u001b[38;5;28;01mdel\u001b[39;00m h[\u001b[38;5;241m5\u001b[39m:]\n",
      "\u001b[1;31mTypeError\u001b[0m: 'str' object does not support item deletion"
     ]
    }
   ],
   "source": [
    "# note : python not allow to delete the substring from string bcz it leads to changes (modifying)\n",
    "# example \n",
    "h = \"hello users\"\n",
    "del h[5:]\n"
   ]
  },
  {
   "cell_type": "markdown",
   "id": "e9ce2227-fa83-44c7-b80a-63dbede3a909",
   "metadata": {},
   "source": [
    "## operations on strings \n",
    "```bash \n",
    "arithmetic operators\n",
    "relational operators \n",
    "logical operators \n",
    "loops on strings \n",
    "membership operations\n",
    "```"
   ]
  },
  {
   "cell_type": "code",
   "execution_count": 38,
   "id": "a732e37f-97b7-43f5-905e-b8f7c53e6b9a",
   "metadata": {},
   "outputs": [
    {
     "name": "stdout",
     "output_type": "stream",
     "text": [
      "hello world\n",
      "hellohellohellohellohello\n"
     ]
    }
   ],
   "source": [
    "# arithmetic operators only (+/*) are valid\n",
    "print(\"hello\"+\" \"+\"world\") # string concatenation : adding two or mare strings\n",
    "\n",
    "print(\"hello\"*5) # string multiplication "
   ]
  },
  {
   "cell_type": "code",
   "execution_count": 43,
   "id": "fa01331b-c25c-4c52-b101-a89cc1554746",
   "metadata": {},
   "outputs": [
    {
     "name": "stdout",
     "output_type": "stream",
     "text": [
      "False\n",
      "True\n",
      "True\n",
      "False\n",
      "True\n"
     ]
    }
   ],
   "source": [
    "# relational operators (all)\n",
    "print(\"hello\"==\"world\")\n",
    "print(\"hello\"!=\"world\")\n",
    "print(\"hello\"<\"world\") # based on ascii values : true because h has less ascii value (compared lexicographically)\n",
    "print(\"hello\">\"world\")\n",
    "print(\"hello\"<=\"world\")\n",
    "print(\"hello\">\"world\")"
   ]
  },
  {
   "cell_type": "code",
   "execution_count": 45,
   "id": "61a43c8a-73e0-4e76-996c-be8c31636081",
   "metadata": {},
   "outputs": [
    {
     "name": "stdout",
     "output_type": "stream",
     "text": [
      "world\n",
      "hello\n",
      "True\n"
     ]
    }
   ],
   "source": [
    "# logical operators (all) \n",
    "print(\"hello\" and \"world\") # answer world because python consider the strings as true for empty strings false  : (true and true) : last true value\n",
    "print(\"hello\" or \"world\") # answer is hello because in or operator if one condition is true then it will not go for other \n",
    "print(not \"\") # consider empty as false so answer is true"
   ]
  },
  {
   "cell_type": "code",
   "execution_count": 46,
   "id": "4bd16b46-ff02-4b69-8b3d-11972e501ebb",
   "metadata": {},
   "outputs": [
    {
     "name": "stdout",
     "output_type": "stream",
     "text": [
      "h\n",
      "e\n",
      "l\n",
      "l\n",
      "o\n",
      " \n",
      "w\n",
      "o\n",
      "r\n",
      "l\n",
      "d\n"
     ]
    }
   ],
   "source": [
    "# loops on strings \n",
    "for i in \"hello world\" : \n",
    "    print(i)"
   ]
  },
  {
   "cell_type": "code",
   "execution_count": 48,
   "id": "c34176e0-336b-4a72-8efc-9f0718536043",
   "metadata": {},
   "outputs": [
    {
     "name": "stdout",
     "output_type": "stream",
     "text": [
      "True\n",
      "True\n"
     ]
    }
   ],
   "source": [
    "# membership operators \n",
    "print(\"hello\" in \"hello world\")\n",
    "print(\"nothing\" not in \"hello world\")"
   ]
  },
  {
   "cell_type": "markdown",
   "id": "d1b50715-fde1-4b33-a4b1-f9b5e5d19a7b",
   "metadata": {},
   "source": [
    "## string functions "
   ]
  },
  {
   "cell_type": "markdown",
   "id": "eb3c0b96-c317-4901-abf9-cfb4f9c08e90",
   "metadata": {},
   "source": [
    "### common functions \n",
    "```bash \n",
    "len\n",
    "min\n",
    "max\n",
    "sorted\n",
    "```"
   ]
  },
  {
   "cell_type": "code",
   "execution_count": 50,
   "id": "6a9c021a-b39a-4cdf-88f6-759e7f72b0f3",
   "metadata": {},
   "outputs": [
    {
     "name": "stdout",
     "output_type": "stream",
     "text": [
      "11\n"
     ]
    }
   ],
   "source": [
    "# len function : is used to calculate the number of characters in a string including whitespaces \n",
    "print(len(\"hello world\"))"
   ]
  },
  {
   "cell_type": "code",
   "execution_count": 51,
   "id": "aa698c90-cf9d-4fb1-9db3-57b05c5bb588",
   "metadata": {},
   "outputs": [
    {
     "data": {
      "text/plain": [
       "' '"
      ]
     },
     "execution_count": 51,
     "metadata": {},
     "output_type": "execute_result"
    }
   ],
   "source": [
    "# min function : is used to find the minimum ascii value character \n",
    "min(\"always python\") # answer is space because space has min ascii value "
   ]
  },
  {
   "cell_type": "code",
   "execution_count": 52,
   "id": "f7941aa0-4cb6-441f-ab1f-1786871931ac",
   "metadata": {},
   "outputs": [
    {
     "data": {
      "text/plain": [
       "'y'"
      ]
     },
     "execution_count": 52,
     "metadata": {},
     "output_type": "execute_result"
    }
   ],
   "source": [
    "# max function : : is used to find the maximun ascii value character\n",
    "max(\"yashwanth\")"
   ]
  },
  {
   "cell_type": "code",
   "execution_count": 57,
   "id": "8cc50c8d-bc54-4212-a1cd-cd96ccf80a52",
   "metadata": {},
   "outputs": [
    {
     "name": "stdout",
     "output_type": "stream",
     "text": [
      "[' ', 'd', 'e', 'h', 'l', 'l', 'l', 'o', 'o', 'r', 'w']\n",
      "['w', 'r', 'o', 'o', 'l', 'l', 'l', 'h', 'e', 'd', ' ']\n"
     ]
    }
   ],
   "source": [
    "# sorted function : is used to sort the characters according to ascii value but it returns as a list\n",
    "print(sorted(\"hello world\"))\n",
    "# for reverse \n",
    "print(sorted(\"hello world\",reverse=True))"
   ]
  },
  {
   "cell_type": "markdown",
   "id": "1b6e6087-6a7a-4f31-a149-2e0a453b356c",
   "metadata": {},
   "source": [
    "# String functions "
   ]
  },
  {
   "cell_type": "markdown",
   "id": "b64c0d9b-bf7b-4b80-8c6f-4d34f3ad21f3",
   "metadata": {},
   "source": [
    "### capitialize / upper / lower / title / swapcase"
   ]
  },
  {
   "cell_type": "code",
   "execution_count": 64,
   "id": "0587ce18-7705-4ac2-bceb-7a6cdd0714f4",
   "metadata": {},
   "outputs": [
    {
     "name": "stdout",
     "output_type": "stream",
     "text": [
      "Hello world\n",
      "HELLO WORLD\n",
      "hello world\n",
      "Hello World\n",
      "HELLO world\n"
     ]
    }
   ],
   "source": [
    " \n",
    "print(\"hello world\".capitalize())# return first letter capital\n",
    "print(\"hello world\".upper()) # returns all characters in capital\n",
    "print(\"Hello World\".lower()) # returns all characters in small\n",
    "print(\"hello world\".title()) # return the string as starting letter capital of each word\n",
    "print(\"hello WORLD\".swapcase()) # convert upper to lower and vice-versa"
   ]
  },
  {
   "cell_type": "markdown",
   "id": "bc15df42-641b-4cfe-896b-744b3733704a",
   "metadata": {},
   "source": [
    "### count / find / index "
   ]
  },
  {
   "cell_type": "code",
   "execution_count": 75,
   "id": "0195bb34-319f-410b-aa99-cb09886faa56",
   "metadata": {},
   "outputs": [
    {
     "name": "stdout",
     "output_type": "stream",
     "text": [
      "3\n",
      "1\n",
      "6\n",
      "-1\n",
      "6\n"
     ]
    },
    {
     "ename": "ValueError",
     "evalue": "substring not found",
     "output_type": "error",
     "traceback": [
      "\u001b[1;31m---------------------------------------------------------------------------\u001b[0m",
      "\u001b[1;31mValueError\u001b[0m                                Traceback (most recent call last)",
      "Cell \u001b[1;32mIn[75], line 6\u001b[0m\n\u001b[0;32m      4\u001b[0m \u001b[38;5;28mprint\u001b[39m(\u001b[38;5;124m\"\u001b[39m\u001b[38;5;124mhello world\u001b[39m\u001b[38;5;124m\"\u001b[39m\u001b[38;5;241m.\u001b[39mfind(\u001b[38;5;124m\"\u001b[39m\u001b[38;5;124mnoth\u001b[39m\u001b[38;5;124m\"\u001b[39m)) \n\u001b[0;32m      5\u001b[0m \u001b[38;5;28mprint\u001b[39m(\u001b[38;5;124m\"\u001b[39m\u001b[38;5;124mhello world\u001b[39m\u001b[38;5;124m\"\u001b[39m\u001b[38;5;241m.\u001b[39mindex(\u001b[38;5;124m\"\u001b[39m\u001b[38;5;124mworld\u001b[39m\u001b[38;5;124m\"\u001b[39m)) \u001b[38;5;66;03m# similar to find but if the substring is not present it will through an error\u001b[39;00m\n\u001b[1;32m----> 6\u001b[0m \u001b[38;5;28mprint\u001b[39m(\u001b[38;5;124;43m\"\u001b[39;49m\u001b[38;5;124;43mhello world\u001b[39;49m\u001b[38;5;124;43m\"\u001b[39;49m\u001b[38;5;241;43m.\u001b[39;49m\u001b[43mindex\u001b[49m\u001b[43m(\u001b[49m\u001b[38;5;124;43m\"\u001b[39;49m\u001b[38;5;124;43mnoth\u001b[39;49m\u001b[38;5;124;43m\"\u001b[39;49m\u001b[43m)\u001b[49m)\n",
      "\u001b[1;31mValueError\u001b[0m: substring not found"
     ]
    }
   ],
   "source": [
    "print(\"hello world\".count(\"l\")) # count is used to find the frequency of the charcters\n",
    "print(\"hello world\".count(\"ll\"))\n",
    "print(\"hello world\".find(\"world\")) # return the starting index of substring if it is present otherwise -1\n",
    "print(\"hello world\".find(\"noth\")) \n",
    "print(\"hello world\".index(\"world\")) # similar to find but if the substring is not present it will through an error\n",
    "print(\"hello world\".index(\"noth\"))"
   ]
  },
  {
   "cell_type": "markdown",
   "id": "714c24e8-9dd8-4f7e-9c59-a6ac06c4551f",
   "metadata": {},
   "source": [
    "### isaplha / isalnum / isdigit / isidentifier "
   ]
  },
  {
   "cell_type": "code",
   "execution_count": 87,
   "id": "3d04f206-e2c2-42fb-ba92-cc6c9dad26eb",
   "metadata": {},
   "outputs": [
    {
     "name": "stdout",
     "output_type": "stream",
     "text": [
      "False\n",
      "True\n",
      "True\n",
      "True\n",
      "True\n",
      "False\n",
      "False\n",
      "True\n",
      "True\n",
      "False\n",
      "True\n",
      "False\n"
     ]
    }
   ],
   "source": [
    "#  isalpha : return true if string contains only alphabets otherwise false\n",
    "print(\"name1234\".isalpha())\n",
    "print(\"name\".isalpha())\n",
    "# isalnum : return true if string contains alphabets or numbers otherwise false\n",
    "print(\"name123\".isalnum())\n",
    "print(\"123\".isalnum())\n",
    "print(\"name\".isalnum())\n",
    "print(\"@@@\".isalnum())\n",
    "# isdigit : return true if string contains only numbers otherwise false\n",
    "print(\"name123\".isdigit())\n",
    "print(\"123\".isdigit())\n",
    "# isidentifier : return true if string is a identifier ortherwise false\n",
    "print(\"name123\".isidentifier())\n",
    "print(\"123\".isidentifier())\n",
    "print(\"user_name\".isidentifier())\n",
    "print(\"1user_name\".isidentifier())"
   ]
  },
  {
   "cell_type": "markdown",
   "id": "3b7ce30d-7f04-4f35-b640-578a0ca73770",
   "metadata": {},
   "source": [
    "### split / join "
   ]
  },
  {
   "cell_type": "code",
   "execution_count": 94,
   "id": "ff5b4ecf-ebe9-46ae-aa1c-2f3d1a8d6a22",
   "metadata": {},
   "outputs": [
    {
     "name": "stdout",
     "output_type": "stream",
     "text": [
      "['my', 'name', 'is', 'name', 'bro']\n",
      "['my n', 'me is n', 'me bro']\n",
      "['my ', ' is ', ' bro']\n",
      "my name is name bro\n",
      "my-name-is-name-bro\n"
     ]
    }
   ],
   "source": [
    "# split : is used to split the string , by default it will split the string where the space is present and return as a string \n",
    "print(\"my name is name bro\".split())\n",
    "print(\"my name is name bro\".split(\"a\"))\n",
    "print(\"my name is name bro\".split(\"name\"))\n",
    "# join : is used to combine the list of strings using any character \n",
    "print(\" \".join(['my', 'name', 'is', 'name', 'bro']))\n",
    "print(\"-\".join(['my', 'name', 'is', 'name', 'bro']))"
   ]
  },
  {
   "cell_type": "markdown",
   "id": "08b953d9-8137-4ccc-a3a2-be6f4f8b3d38",
   "metadata": {},
   "source": [
    "### strip "
   ]
  },
  {
   "cell_type": "code",
   "execution_count": 99,
   "id": "e615db7a-a490-46eb-be9f-e153d0a5f81b",
   "metadata": {},
   "outputs": [
    {
     "data": {
      "text/plain": [
       "'my name is nothing'"
      ]
     },
     "execution_count": 99,
     "metadata": {},
     "output_type": "execute_result"
    }
   ],
   "source": [
    "# strip  : is used to remove the extra spaces start and end in the string \n",
    "\"         my name is nothing                         \".strip()"
   ]
  },
  {
   "cell_type": "markdown",
   "id": "397f0515-4dbd-4ae4-849c-ed903d5490f5",
   "metadata": {},
   "source": [
    "### replace \n"
   ]
  },
  {
   "cell_type": "code",
   "execution_count": 100,
   "id": "6d7ed407-48e1-464a-a9b8-6575aa123575",
   "metadata": {},
   "outputs": [
    {
     "data": {
      "text/plain": [
       "'my name is xyz'"
      ]
     },
     "execution_count": 100,
     "metadata": {},
     "output_type": "execute_result"
    }
   ],
   "source": [
    "# replace : replace function is used to replace the substring in the string \n",
    "\"my name is nothing\".replace(\"nothing\",\"xyz\")"
   ]
  },
  {
   "cell_type": "markdown",
   "id": "0894c54b-38c2-4ac3-aea6-7c40cc711cad",
   "metadata": {},
   "source": [
    "### endswith , startswith"
   ]
  },
  {
   "cell_type": "code",
   "execution_count": 103,
   "id": "9414b67c-b1a2-431a-bbd5-852661923fea",
   "metadata": {},
   "outputs": [
    {
     "name": "stdout",
     "output_type": "stream",
     "text": [
      "True\n",
      "True\n"
     ]
    }
   ],
   "source": [
    "# endswith : used to verify whether the string is endswith the substring \n",
    "print(\"my name is nothing\".endswith(\"ing\"))\n",
    "# startswith : used to verify whether the string is startswith the substring \n",
    "print(\"my name is nothing\".startswith(\"my\"))"
   ]
  }
 ],
 "metadata": {
  "kernelspec": {
   "display_name": "Python 3 (ipykernel)",
   "language": "python",
   "name": "python3"
  },
  "language_info": {
   "codemirror_mode": {
    "name": "ipython",
    "version": 3
   },
   "file_extension": ".py",
   "mimetype": "text/x-python",
   "name": "python",
   "nbconvert_exporter": "python",
   "pygments_lexer": "ipython3",
   "version": "3.10.10"
  }
 },
 "nbformat": 4,
 "nbformat_minor": 5
}
