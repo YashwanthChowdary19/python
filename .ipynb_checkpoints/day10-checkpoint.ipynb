{
 "cells": [
  {
   "cell_type": "markdown",
   "id": "7104631d-516b-400d-a4a3-7dfaf9b68e65",
   "metadata": {},
   "source": [
    "# `Dictionaries`"
   ]
  },
  {
   "cell_type": "markdown",
   "id": "991fbc63-a760-4561-89ba-35e98b34165e",
   "metadata": {},
   "source": [
    "``` bash \n",
    "A dictionary in Python is an unordered, mutable, and indexed collection of items,\n",
    "where each item is a pair consisting of a key and its associated value.\n",
    " ```"
   ]
  },
  {
   "cell_type": "markdown",
   "id": "785d1ce4-5c49-4fc6-a6b2-db8a28300447",
   "metadata": {},
   "source": [
    "## `key features`"
   ]
  },
  {
   "cell_type": "markdown",
   "id": "98f0e46a-22ae-447c-a86b-eb4ed2320110",
   "metadata": {},
   "source": [
    "```bash \n",
    "Key Features of Dictionaries:\n",
    "\n",
    "    Key–Value Pair Structure → {key: value}\n",
    "\n",
    "    Keys must be unique (cannot have duplicate keys).\n",
    "\n",
    "    Keys must be immutable (string, number, or tuple), but values can be any data type.\n",
    "\n",
    "    Values can be duplicated and of any type (string, list, dict, etc.).\n",
    "\n",
    "    Mutable → You can add, update, or remove items.\n",
    "\n",
    "    Unordered (before Python 3.7, order was not guaranteed; from Python 3.7+, insertion order is preserved).\n",
    "```"
   ]
  },
  {
   "cell_type": "markdown",
   "id": "e4376987-8033-4d48-ade5-ccede010afff",
   "metadata": {},
   "source": [
    "## `creating  dictionary `"
   ]
  },
  {
   "cell_type": "code",
   "execution_count": 1,
   "id": "3e86354e-cda1-4ce4-b1a4-36a821ab8580",
   "metadata": {},
   "outputs": [
    {
     "name": "stdout",
     "output_type": "stream",
     "text": [
      "{}\n",
      "<class 'dict'>\n"
     ]
    }
   ],
   "source": [
    "# empty dictionary \n",
    "d = {} \n",
    "print(d)\n",
    "print(type(d))"
   ]
  },
  {
   "cell_type": "code",
   "execution_count": 4,
   "id": "e8e5f6b8-677b-45be-b316-b533a022ea96",
   "metadata": {},
   "outputs": [
    {
     "name": "stdout",
     "output_type": "stream",
     "text": [
      "{'name': 'nothing', 'college': 'you dont want', (1, 2, 3): 1000}\n",
      "<class 'dict'>\n"
     ]
    }
   ],
   "source": [
    "# 1D dict and hetrogeneous dict\n",
    "d = {\"name\":\"nothing\",\"college\":\"you dont want\",(1,2,3):1000} # you can give the tuple as keys bcz immutable\n",
    "print(d)\n",
    "print(type(d))"
   ]
  },
  {
   "cell_type": "code",
   "execution_count": 6,
   "id": "4989ec15-60b8-4fe3-a3d8-cea8cf89db68",
   "metadata": {},
   "outputs": [
    {
     "name": "stdout",
     "output_type": "stream",
     "text": [
      "{'name': 'xyz', 'college': 'EWIT', 'city': 'Ananthapur', 'subjects': {'telugu': 100, 'hindi': 100}}\n",
      "<class 'dict'>\n"
     ]
    }
   ],
   "source": [
    "# 2D dict \n",
    "d2 = {\"name\":\"xyz\", \n",
    "     \"college\":\"EWIT\", \n",
    "     \"city\":\"Ananthapur\", \n",
    "     \"subjects\": \n",
    "     {\"telugu\":100, \n",
    "     \"hindi\" :100 \n",
    "     }\n",
    "     }\n",
    "print(d2)\n",
    "print(type(d2))\n"
   ]
  },
  {
   "cell_type": "code",
   "execution_count": 7,
   "id": "e7dd915e-8d1a-476e-93dd-31507290f39f",
   "metadata": {},
   "outputs": [
    {
     "name": "stdout",
     "output_type": "stream",
     "text": [
      "{'name': 'xyz', 'college': 'EWIT', 'city': 'Ananthapur'}\n",
      "<class 'dict'>\n"
     ]
    }
   ],
   "source": [
    "# homogeneous dict : means all keys and values are same datatype\n",
    "d = {'name': 'xyz', 'college': 'EWIT', 'city': 'Ananthapur'}\n",
    "print(d)\n",
    "print(type(d))"
   ]
  },
  {
   "cell_type": "code",
   "execution_count": 8,
   "id": "3106fa67-1300-4693-ab1b-4c0f43e925a8",
   "metadata": {},
   "outputs": [
    {
     "name": "stdout",
     "output_type": "stream",
     "text": [
      "{'name': 'xyz', 'college': 'EWIT'}\n",
      "<class 'dict'>\n"
     ]
    }
   ],
   "source": [
    "# using type conversion \n",
    "d = dict([(\"name\",\"xyz\"),(\"college\",\"EWIT\")])\n",
    "print(d)\n",
    "print(type(d))"
   ]
  },
  {
   "cell_type": "markdown",
   "id": "be656dc7-f9ca-40aa-8210-73a87d7ddebb",
   "metadata": {},
   "source": [
    "## `Accessing Dictionary values`"
   ]
  },
  {
   "cell_type": "code",
   "execution_count": 21,
   "id": "b2e75576-abae-491b-b93d-773924eb8b5f",
   "metadata": {},
   "outputs": [
    {
     "name": "stdout",
     "output_type": "stream",
     "text": [
      "xyz\n",
      "100\n"
     ]
    }
   ],
   "source": [
    "# here we access dict values using keys not indexing\n",
    "d2 = {\"name\":\"xyz\", \n",
    "     \"college\":\"EWIT\", \n",
    "     \"city\":\"Ananthapur\", \n",
    "     \"subjects\": \n",
    "     {\"telugu\":100, \n",
    "     \"hindi\" :200}\n",
    "     }\n",
    "print(d2[\"name\"])\n",
    "print(d2[\"subjects\"][\"telugu\"])"
   ]
  },
  {
   "cell_type": "code",
   "execution_count": 30,
   "id": "53aee9a2-cbca-4209-8519-2a5ca3c5869b",
   "metadata": {},
   "outputs": [],
   "source": []
  }
 ],
 "metadata": {
  "kernelspec": {
   "display_name": "Python 3 (ipykernel)",
   "language": "python",
   "name": "python3"
  },
  "language_info": {
   "codemirror_mode": {
    "name": "ipython",
    "version": 3
   },
   "file_extension": ".py",
   "mimetype": "text/x-python",
   "name": "python",
   "nbconvert_exporter": "python",
   "pygments_lexer": "ipython3",
   "version": "3.10.10"
  }
 },
 "nbformat": 4,
 "nbformat_minor": 5
}
