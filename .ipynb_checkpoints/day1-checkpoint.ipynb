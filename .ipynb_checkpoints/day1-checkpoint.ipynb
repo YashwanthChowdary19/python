{
 "cells": [
  {
   "cell_type": "markdown",
   "id": "1ded336a-354a-46e7-a877-e9c4e56477ad",
   "metadata": {},
   "source": [
    "# print function \n",
    "The print() function in Python is used to display output to the console (screen). \n",
    "It’s one of the most commonly used built-in functions for debugging and showing results."
   ]
  },
  {
   "cell_type": "code",
   "execution_count": 2,
   "id": "c261e0c1-a838-4590-8a99-bbec9ca8b3ea",
   "metadata": {},
   "outputs": [
    {
     "name": "stdout",
     "output_type": "stream",
     "text": [
      "hello world!\n"
     ]
    }
   ],
   "source": [
    "print(\"hello world!\")"
   ]
  },
  {
   "cell_type": "code",
   "execution_count": 3,
   "id": "6609d598-5705-4b7c-a6b6-2aa88333e7cf",
   "metadata": {},
   "outputs": [
    {
     "name": "stdout",
     "output_type": "stream",
     "text": [
      "10\n"
     ]
    }
   ],
   "source": [
    "print(10)"
   ]
  },
  {
   "cell_type": "code",
   "execution_count": 4,
   "id": "5fd76e67-f994-4f4c-99b2-c819693dba61",
   "metadata": {},
   "outputs": [
    {
     "data": {
      "text/plain": [
       "\u001b[1;31mDocstring:\u001b[0m\n",
       "print(value, ..., sep=' ', end='\\n', file=sys.stdout, flush=False)\n",
       "\n",
       "Prints the values to a stream, or to sys.stdout by default.\n",
       "Optional keyword arguments:\n",
       "file:  a file-like object (stream); defaults to the current sys.stdout.\n",
       "sep:   string inserted between values, default a space.\n",
       "end:   string appended after the last value, default a newline.\n",
       "flush: whether to forcibly flush the stream.\n",
       "\u001b[1;31mType:\u001b[0m      builtin_function_or_method"
      ]
     },
     "metadata": {},
     "output_type": "display_data"
    }
   ],
   "source": [
    "# if you want to learn about and built in functions or keywords ,etc use ?\n",
    "print?"
   ]
  },
  {
   "cell_type": "code",
   "execution_count": 6,
   "id": "62aa7491-c9db-41c1-927d-2f7697002fac",
   "metadata": {},
   "outputs": [
    {
     "name": "stdout",
     "output_type": "stream",
     "text": [
      "Python | Java | C | C++\n"
     ]
    }
   ],
   "source": [
    "# sep \n",
    "print(\"Python\",\"Java\",\"C\",\"C++\",sep='|')"
   ]
  },
  {
   "cell_type": "code",
   "execution_count": 7,
   "id": "7b3c49ff-826f-4c5a-8c0f-c094b5cfd7f2",
   "metadata": {},
   "outputs": [
    {
     "name": "stdout",
     "output_type": "stream",
     "text": [
      "2314.32432\n"
     ]
    }
   ],
   "source": [
    "print(2314.32432)"
   ]
  },
  {
   "cell_type": "markdown",
   "id": "daaf6397-d699-4aec-bc17-67fe4eee31ad",
   "metadata": {},
   "source": [
    "# datatypes \n",
    "data types define the type of data a variable can hold. Each data type tells Python how the data should be stored, used, and manipulated."
   ]
  },
  {
   "cell_type": "code",
   "execution_count": 24,
   "id": "392c859c-0efa-421a-b51a-9c01f2ba32bc",
   "metadata": {},
   "outputs": [
    {
     "name": "stdout",
     "output_type": "stream",
     "text": [
      "inf\n",
      "<class 'int'>\n"
     ]
    }
   ],
   "source": [
    "# integer (int) \n",
    "a = 10\n",
    "infinity = 1e309 # this is the value for infinity\n",
    "print(infinity)\n",
    "print(type(a))"
   ]
  },
  {
   "cell_type": "code",
   "execution_count": 25,
   "id": "0c0043c3-9049-4797-b20e-744d16a93361",
   "metadata": {},
   "outputs": [
    {
     "name": "stdout",
     "output_type": "stream",
     "text": [
      "10.43754\n",
      "inf\n",
      "<class 'float'>\n"
     ]
    }
   ],
   "source": [
    "# Double or float : used to store the decimal values\n",
    "a = 10.43754\n",
    "infinity = 1.7e309\n",
    "print(a)\n",
    "print(infinity)\n",
    "print(type(a))"
   ]
  },
  {
   "cell_type": "code",
   "execution_count": 26,
   "id": "a1ed1628-8e2a-4035-8ece-09680538f6ad",
   "metadata": {},
   "outputs": [
    {
     "name": "stdout",
     "output_type": "stream",
     "text": [
      "True\n",
      "False\n",
      "<class 'bool'>\n"
     ]
    }
   ],
   "source": [
    "# boolean (bool) : only two values (True | False)\n",
    "print(True) \n",
    "print(False)\n",
    "print(type(True))\n",
    "# bool values are not string so don't use quotes and values are case senstity(means : there is difference bw capital and small letters)"
   ]
  },
  {
   "cell_type": "code",
   "execution_count": 27,
   "id": "3d836f4f-45b6-49e4-b14b-48e190b697a4",
   "metadata": {},
   "outputs": [
    {
     "name": "stdout",
     "output_type": "stream",
     "text": [
      "(10+12j)\n",
      "10.0\n",
      "12.0\n",
      "<class 'complex'>\n"
     ]
    }
   ],
   "source": [
    "# complex : (real_number + imaginary_number j)\n",
    "a = 10+12j\n",
    "print(a)\n",
    "print(a.real)\n",
    "print(a.imag)\n",
    "print(type(a))"
   ]
  },
  {
   "cell_type": "code",
   "execution_count": 28,
   "id": "79e429c3-c134-45a9-8aaa-3e864a7a5117",
   "metadata": {},
   "outputs": [
    {
     "name": "stdout",
     "output_type": "stream",
     "text": [
      "I am started learning python today\n",
      "ok bye..\n",
      "<class 'str'>\n"
     ]
    }
   ],
   "source": [
    "# strings : sequence of words in quotes\n",
    "a  = \"I am started learning python today\"\n",
    "print(a)\n",
    "b = \"ok bye..\"\n",
    "print(b)\n",
    "print(type(a))"
   ]
  },
  {
   "cell_type": "code",
   "execution_count": 30,
   "id": "2c8da367-ff25-4151-823e-8c2558c8021c",
   "metadata": {},
   "outputs": [
    {
     "name": "stdout",
     "output_type": "stream",
     "text": [
      "[10, 34.34354, 'nothing', 'A']\n",
      "<class 'list'>\n"
     ]
    }
   ],
   "source": [
    "# list : collection of different data type values in square brackets each value separated by comma \n",
    "py_list = [10, 34.34354, \"nothing\", \"A\"]\n",
    "print(py_list)\n",
    "print(type(py_list))"
   ]
  },
  {
   "cell_type": "code",
   "execution_count": 31,
   "id": "51fd91cc-574a-4b32-a0dd-cccdc41c2efd",
   "metadata": {},
   "outputs": [
    {
     "name": "stdout",
     "output_type": "stream",
     "text": [
      "(10, 34.34354, 'nothing', 'A')\n",
      "<class 'tuple'>\n"
     ]
    }
   ],
   "source": [
    "# tuple : collection of different data type values in paranthesis each value separated by comma \n",
    "py_tuple = (10, 34.34354, \"nothing\", \"A\")\n",
    "print(py_tuple)\n",
    "print(type(py_tuple))"
   ]
  },
  {
   "cell_type": "code",
   "execution_count": 32,
   "id": "36aca76f-1c02-4dc2-b92e-a01dfee29593",
   "metadata": {},
   "outputs": [
    {
     "name": "stdout",
     "output_type": "stream",
     "text": [
      "{'A', 10, 34.34354, 'nothing'}\n",
      "<class 'set'>\n"
     ]
    }
   ],
   "source": [
    "# set : collection of different data type values in curly brackets each value separated by comma \n",
    "# sets are used to store the unique values \n",
    "py_set = {10, 34.34354, \"nothing\", \"A\"}\n",
    "print(py_set)\n",
    "print(type(py_set))"
   ]
  },
  {
   "cell_type": "code",
   "execution_count": 36,
   "id": "cfa0f289-bf33-4091-b65f-3398e4366e26",
   "metadata": {},
   "outputs": [
    {
     "name": "stdout",
     "output_type": "stream",
     "text": [
      "{'name': 'nothing', 'age': 20, 'city': 'banglore'}\n",
      "nothing\n",
      "20\n",
      "<class 'dict'>\n"
     ]
    }
   ],
   "source": [
    "# dictionary (dict) : stores the values as key value pairs in curly brackets like {key1:value1, key2:value2,....}\n",
    "a = {\"name\":\"nothing\", \"age\":20, \"city\":\"banglore\"}\n",
    "print(a)\n",
    "print(a[\"name\"])\n",
    "print(a[\"age\"])\n",
    "print(type(a))"
   ]
  },
  {
   "cell_type": "markdown",
   "id": "f9319118-13d4-4f46-8f5b-0af5c8e5b9b3",
   "metadata": {},
   "source": [
    "# variables\n",
    "a variable is a name that refers to a value stored in memory. You use variables to store data that your program can manipulate later.\n",
    "\n",
    "🛠️ Rules for Naming Variables\n",
    "✅ Valid:\n",
    "\n",
    "Must start with a letter or underscore (_)\n",
    "\n",
    "Can contain letters, numbers, and underscores\n",
    "\n",
    "Case-sensitive (Name ≠ name)\n",
    "\n",
    "❌ Invalid:\n",
    "\n",
    "Cannot start with a number (1age = 25 ❌)\n",
    "\n",
    "Cannot use special characters (@, $, %, etc.)\n",
    "\n",
    "Cannot use Python keywords (if, while, class, etc.)"
   ]
  },
  {
   "cell_type": "code",
   "execution_count": null,
   "id": "953d0fbe-6aba-4554-a041-3da3e2394e9d",
   "metadata": {},
   "outputs": [],
   "source": [
    "a = 10 # a is variable \n",
    "name = \"nothing\" # name is a variable\n",
    "variable1 = \"any thing\" # variable1 is a variable"
   ]
  },
  {
   "cell_type": "markdown",
   "id": "3badf829-a81d-4b67-8493-f660176c287f",
   "metadata": {},
   "source": [
    "# keywords \n",
    "Keywords are reserved words in Python.\n",
    "They have special meanings and cannot be used as variable names, function names, or identifiers.\n",
    "list  : \n",
    "\n",
    "False      await      else       import     pass\n",
    "None       break      except     in         raise\n",
    "True       class      finally    is         return\n",
    "and        continue   for        lambda     try\n",
    "as         def        from       nonlocal   while\n",
    "assert     del        global     not        with\n",
    "async      elif       if         or         yield\n"
   ]
  },
  {
   "cell_type": "markdown",
   "id": "48d037fd-7a7e-480f-993e-ae9b9f6cccc1",
   "metadata": {},
   "source": [
    "# identifiers\n",
    "In Python, an identifier is the name used to identify:variables, functions, classes, modules, objects, etc."
   ]
  },
  {
   "cell_type": "code",
   "execution_count": 38,
   "id": "98f6f123-d66c-4bd2-a0d3-38d92cf018cd",
   "metadata": {},
   "outputs": [],
   "source": [
    "name = \"nothing\"           # variable\n",
    "def greet():            # function\n",
    "    pass\n",
    "\n",
    "class Student:          # class\n",
    "    pass\n",
    "# name, greet, Student are identifiers"
   ]
  },
  {
   "cell_type": "markdown",
   "id": "3f3f7b58-9d89-44e7-a23d-2f95e94c0e46",
   "metadata": {},
   "source": [
    "# type function \n",
    "type function is used to check the datatype of a variable or value\n"
   ]
  },
  {
   "cell_type": "code",
   "execution_count": 41,
   "id": "54f7a14a-756e-47ab-a618-71f981abbd4a",
   "metadata": {},
   "outputs": [
    {
     "name": "stdout",
     "output_type": "stream",
     "text": [
      "<class 'int'>\n",
      "<class 'float'>\n"
     ]
    }
   ],
   "source": [
    "a = 10 \n",
    "print(type(a))\n",
    "print(type(34.3432))"
   ]
  },
  {
   "cell_type": "markdown",
   "id": "6d4d61bf-86a0-4efe-a88b-9564b89f38bc",
   "metadata": {},
   "source": [
    "# static vs dynamic typing"
   ]
  },
  {
   "cell_type": "code",
   "execution_count": null,
   "id": "f005d2df-c934-4ca8-a23a-10d90f895e99",
   "metadata": {},
   "outputs": [],
   "source": [
    "# static typing used in java,c,c++\n",
    "# here we need to specify the data type with the variable\n",
    "int a = 10\n"
   ]
  },
  {
   "cell_type": "code",
   "execution_count": 42,
   "id": "7375194f-0059-468b-ba24-26f67356da2f",
   "metadata": {},
   "outputs": [],
   "source": [
    "# dynamic typing used in python\n",
    "# here we need not to specify the data type with the variable. the interpretor automatically identifies the datatype based on value\n",
    "a = 10"
   ]
  },
  {
   "cell_type": "markdown",
   "id": "181a0ab5-8663-4307-b73d-f3b65682d166",
   "metadata": {},
   "source": [
    "# input\n",
    "input function is used to take the input from the users\n"
   ]
  },
  {
   "cell_type": "code",
   "execution_count": 43,
   "id": "1f1f5f67-2790-49c2-ac8e-9c7536de5f78",
   "metadata": {},
   "outputs": [
    {
     "name": "stdin",
     "output_type": "stream",
     "text": [
      "enter the first value :  10\n",
      "enter the second value :  20\n"
     ]
    },
    {
     "name": "stdout",
     "output_type": "stream",
     "text": [
      "1020\n"
     ]
    }
   ],
   "source": [
    "# problem : take the two input values from the user and add it \n",
    "a = input(\"enter the first value : \")\n",
    "b = input(\"enter the second value : \")\n",
    "print(a+b)\n",
    "# note : input function always takes the input as string"
   ]
  },
  {
   "cell_type": "code",
   "execution_count": 44,
   "id": "6ce022f6-5935-47fb-9d49-3ae5b9076a88",
   "metadata": {},
   "outputs": [
    {
     "name": "stdin",
     "output_type": "stream",
     "text": [
      "enter the first value :  10\n",
      "enter the second value :  20\n"
     ]
    },
    {
     "name": "stdout",
     "output_type": "stream",
     "text": [
      "30\n"
     ]
    }
   ],
   "source": [
    "a = int(input(\"enter the first value : \"))\n",
    "b = int(input(\"enter the second value : \"))\n",
    "print(a+b)"
   ]
  },
  {
   "cell_type": "markdown",
   "id": "15d1c838-41c6-46c2-a30a-99303e506629",
   "metadata": {},
   "source": [
    "# type conversion (implicit and explicit convertion)\n",
    "\n",
    "used to convert one datatype to another "
   ]
  },
  {
   "cell_type": "code",
   "execution_count": 47,
   "id": "1f805d68-765d-4076-a9aa-c7fdfa8952f7",
   "metadata": {},
   "outputs": [
    {
     "name": "stdout",
     "output_type": "stream",
     "text": [
      "40.435\n"
     ]
    }
   ],
   "source": [
    "# implicit \n",
    "a = 10 # int\n",
    "b = 30.435 # float\n",
    "print(a+b) # result internally converted to float\n"
   ]
  },
  {
   "cell_type": "code",
   "execution_count": 48,
   "id": "e5117c97-e1fd-4c50-b5da-82fcd25e3077",
   "metadata": {},
   "outputs": [
    {
     "ename": "TypeError",
     "evalue": "unsupported operand type(s) for +: 'int' and 'str'",
     "output_type": "error",
     "traceback": [
      "\u001b[1;31m---------------------------------------------------------------------------\u001b[0m",
      "\u001b[1;31mTypeError\u001b[0m                                 Traceback (most recent call last)",
      "Cell \u001b[1;32mIn[48], line 2\u001b[0m\n\u001b[0;32m      1\u001b[0m c \u001b[38;5;241m=\u001b[39m \u001b[38;5;124m\"\u001b[39m\u001b[38;5;124mnothing\u001b[39m\u001b[38;5;124m\"\u001b[39m\n\u001b[1;32m----> 2\u001b[0m \u001b[38;5;28mprint\u001b[39m(\u001b[43ma\u001b[49m\u001b[38;5;241;43m+\u001b[39;49m\u001b[43mc\u001b[49m) \u001b[38;5;66;03m# strings and int/float/etc cannot be converted\u001b[39;00m\n",
      "\u001b[1;31mTypeError\u001b[0m: unsupported operand type(s) for +: 'int' and 'str'"
     ]
    }
   ],
   "source": [
    "c = \"nothing\"\n",
    "print(a+c) # strings to int/float/etc cannot be converted"
   ]
  },
  {
   "cell_type": "code",
   "execution_count": 50,
   "id": "3da21fcc-01c4-4fb6-be7a-34cc5830b243",
   "metadata": {},
   "outputs": [
    {
     "name": "stdout",
     "output_type": "stream",
     "text": [
      "40\n"
     ]
    }
   ],
   "source": [
    "# explicit \n",
    "a = \"10\"\n",
    "b = 30 \n",
    "result = int(a)+b # here string 10 is explicitly converted to int by using int function\n",
    "print(result)\n",
    "# other functions : flaot(), str(), bool(), list(), set(), tuple(), dict(), etc"
   ]
  },
  {
   "cell_type": "markdown",
   "id": "747e5354-3ad4-4de9-a9ba-43cbd294442b",
   "metadata": {},
   "source": [
    "# literals\n",
    "Python, literals are the actual values or data you write directly in your code.\n",
    "They are fixed values assigned to variables — not computed or evaluated."
   ]
  },
  {
   "cell_type": "code",
   "execution_count": 52,
   "id": "54cc6b4d-671b-4bd5-a370-675f0d4d2fbb",
   "metadata": {},
   "outputs": [],
   "source": [
    "name = \"nothing\" # nothing is a literal\n",
    "value = 10 # 10 is a literal"
   ]
  },
  {
   "cell_type": "markdown",
   "id": "08d43d25-8de3-4d3e-baf8-9293e26ce2bc",
   "metadata": {},
   "source": [
    "# None literal"
   ]
  },
  {
   "cell_type": "code",
   "execution_count": 51,
   "id": "009207e9-2ac7-4b2e-ba5c-7a6cce2debbe",
   "metadata": {},
   "outputs": [],
   "source": [
    "value = None # None also literal"
   ]
  }
 ],
 "metadata": {
  "kernelspec": {
   "display_name": "Python 3 (ipykernel)",
   "language": "python",
   "name": "python3"
  },
  "language_info": {
   "codemirror_mode": {
    "name": "ipython",
    "version": 3
   },
   "file_extension": ".py",
   "mimetype": "text/x-python",
   "name": "python",
   "nbconvert_exporter": "python",
   "pygments_lexer": "ipython3",
   "version": "3.10.10"
  }
 },
 "nbformat": 4,
 "nbformat_minor": 5
}
