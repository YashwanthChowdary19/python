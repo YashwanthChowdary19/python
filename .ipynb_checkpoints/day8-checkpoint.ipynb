{
 "cells": [
  {
   "cell_type": "markdown",
   "id": "2f4514cd-71c4-4976-9707-06206acd709f",
   "metadata": {},
   "source": [
    "# Sets"
   ]
  },
  {
   "cell_type": "markdown",
   "id": "2a1786ae-4d74-44ff-9881-b4c904f12a9f",
   "metadata": {},
   "source": [
    "```bash \n",
    "In Python, a set is an unordered collection of unique elements.\n",
    "\n",
    "It’s similar to a mathematical set:\n",
    "\n",
    "   No duplicates (each element is unique)\n",
    "\n",
    "   Unordered (items don’t have a fixed position or index)\n",
    "\n",
    "   Mutable (you can add or remove elements)\n",
    "\n",
    "   Supports set operations like union, intersection, difference\n",
    "\n",
    "   `important` : it doesnot allows to mutable items in set even though sets are mutable\n",
    "```"
   ]
  },
  {
   "cell_type": "markdown",
   "id": "7fd718f6-1a93-4b48-a11e-00fe32314081",
   "metadata": {},
   "source": [
    "## creating a set "
   ]
  },
  {
   "cell_type": "code",
   "execution_count": 1,
   "id": "757191f8-51cc-4cbf-85a0-b33b615205b1",
   "metadata": {},
   "outputs": [
    {
     "name": "stdout",
     "output_type": "stream",
     "text": [
      "<class 'dict'>\n",
      "<class 'set'>\n"
     ]
    }
   ],
   "source": [
    "# empty set \n",
    "s = {} \n",
    "print(type(s))\n",
    "s = set() # we need to write a code for empty set because when you give {} brackets python things it is a dictionary\n",
    "print(type(s))"
   ]
  },
  {
   "cell_type": "code",
   "execution_count": 2,
   "id": "e89cba81-1248-4e1a-948f-1ea8f452dc53",
   "metadata": {},
   "outputs": [
    {
     "name": "stdout",
     "output_type": "stream",
     "text": [
      "{1, 2, 3, 4, 5}\n",
      "<class 'set'>\n"
     ]
    }
   ],
   "source": [
    "# 1D set \n",
    "s = {1,2,3,4,5}\n",
    "print(s)\n",
    "print(type(s))"
   ]
  },
  {
   "cell_type": "code",
   "execution_count": 4,
   "id": "7db9c64e-1e62-4510-a3a4-b76ca4c23fc6",
   "metadata": {},
   "outputs": [
    {
     "ename": "TypeError",
     "evalue": "unhashable type: 'set'",
     "output_type": "error",
     "traceback": [
      "\u001b[1;31m---------------------------------------------------------------------------\u001b[0m",
      "\u001b[1;31mTypeError\u001b[0m                                 Traceback (most recent call last)",
      "Cell \u001b[1;32mIn[4], line 3\u001b[0m\n\u001b[0;32m      1\u001b[0m \u001b[38;5;66;03m# 2D set not possible \u001b[39;00m\n\u001b[0;32m      2\u001b[0m \u001b[38;5;66;03m# example \u001b[39;00m\n\u001b[1;32m----> 3\u001b[0m s \u001b[38;5;241m=\u001b[39m {\u001b[38;5;241m1\u001b[39m,\u001b[38;5;241m2\u001b[39m,\u001b[38;5;241m3\u001b[39m,{\u001b[38;5;241m4\u001b[39m,\u001b[38;5;241m5\u001b[39m,\u001b[38;5;241m6\u001b[39m}}\n\u001b[0;32m      4\u001b[0m \u001b[38;5;28mprint\u001b[39m(s)\n\u001b[0;32m      5\u001b[0m \u001b[38;5;66;03m# because it doesnot allows any mutable datatypes : read above clearly in definition\u001b[39;00m\n",
      "\u001b[1;31mTypeError\u001b[0m: unhashable type: 'set'"
     ]
    }
   ],
   "source": [
    "# 2D set not possible \n",
    "# example \n",
    "s = {1,2,3,{4,5,6}}\n",
    "print(s)\n",
    "# because it doesnot allows any mutable datatypes : read above clearly in definition"
   ]
  },
  {
   "cell_type": "code",
   "execution_count": 5,
   "id": "0d434897-c1cc-4540-9c31-4599d634dd3b",
   "metadata": {},
   "outputs": [
    {
     "name": "stdout",
     "output_type": "stream",
     "text": [
      "{1, 2, 3, (4, 5, 6)}\n",
      "<class 'set'>\n"
     ]
    }
   ],
   "source": [
    "# example 2 \n",
    "s = {1,2,3,(4,5,6)} # tuples are allowed because tuples are immutable\n",
    "print(s)\n",
    "print(type(s))"
   ]
  },
  {
   "cell_type": "code",
   "execution_count": 6,
   "id": "17f51d3f-e334-4b73-918e-5cbfe5da4374",
   "metadata": {},
   "outputs": [
    {
     "name": "stdout",
     "output_type": "stream",
     "text": [
      "{1, 2, 3, 4, 5}\n"
     ]
    }
   ],
   "source": [
    "# homogeneous values \n",
    "s = {1,2,3,4,5} # only integer values \n",
    "print(s)"
   ]
  },
  {
   "cell_type": "code",
   "execution_count": 7,
   "id": "d2cd9464-185d-4976-b890-aa0ca19712d9",
   "metadata": {},
   "outputs": [
    {
     "name": "stdout",
     "output_type": "stream",
     "text": [
      "{1, 2, 3, (4, 5, 6), 'hello'}\n"
     ]
    }
   ],
   "source": [
    "# hetrogeneous values \n",
    "s = {1,2,3,\"hello\",(4,5,6)}\n",
    "print(s)"
   ]
  },
  {
   "cell_type": "code",
   "execution_count": 8,
   "id": "7019aec8-ddc6-490c-92ed-d1dc460c2925",
   "metadata": {},
   "outputs": [
    {
     "name": "stdout",
     "output_type": "stream",
     "text": [
      "{1, 2, 3, 4}\n"
     ]
    }
   ],
   "source": [
    "# no duplicate values \n",
    "s = {1,2,3,4,1,2,3,4}\n",
    "print(s)"
   ]
  },
  {
   "cell_type": "markdown",
   "id": "059ecf17-a517-4fc9-bf62-3452f7c9c4fc",
   "metadata": {},
   "source": [
    "## accessing values in sets : not possible "
   ]
  },
  {
   "cell_type": "markdown",
   "id": "8cbeab04-1610-4b28-8965-7419de6ac625",
   "metadata": {},
   "source": [
    "```bash \n",
    "reason : because sets are unordered so values have no fixed positions bcz it stores the values using `hashing` \n",
    "\n",
    "you cannot access the set values using both indexing and slicing \n",
    "```"
   ]
  },
  {
   "cell_type": "code",
   "execution_count": 9,
   "id": "31d41684-ad93-42d8-9130-bcf6a66c3190",
   "metadata": {},
   "outputs": [
    {
     "ename": "TypeError",
     "evalue": "'set' object is not subscriptable",
     "output_type": "error",
     "traceback": [
      "\u001b[1;31m---------------------------------------------------------------------------\u001b[0m",
      "\u001b[1;31mTypeError\u001b[0m                                 Traceback (most recent call last)",
      "Cell \u001b[1;32mIn[9], line 3\u001b[0m\n\u001b[0;32m      1\u001b[0m \u001b[38;5;66;03m# example \u001b[39;00m\n\u001b[0;32m      2\u001b[0m s \u001b[38;5;241m=\u001b[39m {\u001b[38;5;241m1\u001b[39m,\u001b[38;5;241m2\u001b[39m,\u001b[38;5;241m3\u001b[39m,\u001b[38;5;241m4\u001b[39m,\u001b[38;5;241m5\u001b[39m}\n\u001b[1;32m----> 3\u001b[0m \u001b[38;5;28mprint\u001b[39m(\u001b[43ms\u001b[49m\u001b[43m[\u001b[49m\u001b[38;5;241;43m0\u001b[39;49m\u001b[43m]\u001b[49m)\n",
      "\u001b[1;31mTypeError\u001b[0m: 'set' object is not subscriptable"
     ]
    }
   ],
   "source": [
    "# example : postive indexing\n",
    "s = {1,2,3,4,5}\n",
    "print(s[0])\n"
   ]
  },
  {
   "cell_type": "code",
   "execution_count": 10,
   "id": "ec476ae0-b38e-42d9-8883-4787d90c1e62",
   "metadata": {},
   "outputs": [
    {
     "ename": "TypeError",
     "evalue": "'set' object is not subscriptable",
     "output_type": "error",
     "traceback": [
      "\u001b[1;31m---------------------------------------------------------------------------\u001b[0m",
      "\u001b[1;31mTypeError\u001b[0m                                 Traceback (most recent call last)",
      "Cell \u001b[1;32mIn[10], line 3\u001b[0m\n\u001b[0;32m      1\u001b[0m \u001b[38;5;66;03m# example : negative indexing\u001b[39;00m\n\u001b[0;32m      2\u001b[0m s \u001b[38;5;241m=\u001b[39m {\u001b[38;5;241m1\u001b[39m,\u001b[38;5;241m2\u001b[39m,\u001b[38;5;241m3\u001b[39m,\u001b[38;5;241m4\u001b[39m,\u001b[38;5;241m5\u001b[39m}\n\u001b[1;32m----> 3\u001b[0m \u001b[38;5;28mprint\u001b[39m(\u001b[43ms\u001b[49m\u001b[43m[\u001b[49m\u001b[38;5;241;43m-\u001b[39;49m\u001b[38;5;241;43m1\u001b[39;49m\u001b[43m]\u001b[49m)\n",
      "\u001b[1;31mTypeError\u001b[0m: 'set' object is not subscriptable"
     ]
    }
   ],
   "source": [
    "# example : negative indexing\n",
    "s = {1,2,3,4,5}\n",
    "print(s[-1])"
   ]
  },
  {
   "cell_type": "code",
   "execution_count": 11,
   "id": "a82877e3-7052-4155-a309-ebca2dcd247a",
   "metadata": {},
   "outputs": [
    {
     "ename": "TypeError",
     "evalue": "'set' object is not subscriptable",
     "output_type": "error",
     "traceback": [
      "\u001b[1;31m---------------------------------------------------------------------------\u001b[0m",
      "\u001b[1;31mTypeError\u001b[0m                                 Traceback (most recent call last)",
      "Cell \u001b[1;32mIn[11], line 3\u001b[0m\n\u001b[0;32m      1\u001b[0m \u001b[38;5;66;03m# example : slicing\u001b[39;00m\n\u001b[0;32m      2\u001b[0m s \u001b[38;5;241m=\u001b[39m {\u001b[38;5;241m1\u001b[39m,\u001b[38;5;241m2\u001b[39m,\u001b[38;5;241m3\u001b[39m,\u001b[38;5;241m4\u001b[39m,\u001b[38;5;241m5\u001b[39m}\n\u001b[1;32m----> 3\u001b[0m \u001b[38;5;28mprint\u001b[39m(\u001b[43ms\u001b[49m\u001b[43m[\u001b[49m\u001b[38;5;241;43m0\u001b[39;49m\u001b[43m:\u001b[49m\u001b[38;5;241;43m4\u001b[39;49m\u001b[43m]\u001b[49m)\n",
      "\u001b[1;31mTypeError\u001b[0m: 'set' object is not subscriptable"
     ]
    }
   ],
   "source": [
    "# example : slicing\n",
    "s = {1,2,3,4,5}\n",
    "print(s[0:4])"
   ]
  },
  {
   "cell_type": "markdown",
   "id": "404f3609-6687-4a8c-9ca0-e0660683db79",
   "metadata": {},
   "source": [
    "## editing values in sets : not possible "
   ]
  },
  {
   "cell_type": "markdown",
   "id": "684ed6cf-16f9-476c-9394-6767193d84bb",
   "metadata": {},
   "source": [
    "```bash \n",
    "reason : because sets are unordered so values have no fixed positions bcz it stores the values using `hashing` \n",
    "```"
   ]
  },
  {
   "cell_type": "code",
   "execution_count": 12,
   "id": "3e261d80-878f-4157-ad9d-e8d28cc4b039",
   "metadata": {},
   "outputs": [
    {
     "ename": "TypeError",
     "evalue": "'set' object does not support item assignment",
     "output_type": "error",
     "traceback": [
      "\u001b[1;31m---------------------------------------------------------------------------\u001b[0m",
      "\u001b[1;31mTypeError\u001b[0m                                 Traceback (most recent call last)",
      "Cell \u001b[1;32mIn[12], line 3\u001b[0m\n\u001b[0;32m      1\u001b[0m \u001b[38;5;66;03m# exmaple \u001b[39;00m\n\u001b[0;32m      2\u001b[0m s \u001b[38;5;241m=\u001b[39m {\u001b[38;5;241m1\u001b[39m,\u001b[38;5;241m2\u001b[39m,\u001b[38;5;241m3\u001b[39m,\u001b[38;5;241m4\u001b[39m,\u001b[38;5;241m5\u001b[39m}\n\u001b[1;32m----> 3\u001b[0m \u001b[43ms\u001b[49m\u001b[43m[\u001b[49m\u001b[38;5;241;43m0\u001b[39;49m\u001b[43m]\u001b[49m \u001b[38;5;241m=\u001b[39m \u001b[38;5;241m100\u001b[39m\n\u001b[0;32m      4\u001b[0m \u001b[38;5;28mprint\u001b[39m(s)\n",
      "\u001b[1;31mTypeError\u001b[0m: 'set' object does not support item assignment"
     ]
    }
   ],
   "source": [
    "# exmaple \n",
    "s = {1,2,3,4,5}\n",
    "s[0] = 100\n",
    "print(s)"
   ]
  },
  {
   "cell_type": "markdown",
   "id": "c90bac4f-f20a-4fff-9271-11980a7ef969",
   "metadata": {},
   "source": [
    "## adding values in sets :  possible using builtin functions"
   ]
  },
  {
   "cell_type": "markdown",
   "id": "2be64892-fe74-4549-b95e-c1922cd42354",
   "metadata": {},
   "source": [
    "`add() function`"
   ]
  },
  {
   "cell_type": "code",
   "execution_count": 14,
   "id": "9597a257-2d25-4ab7-8a47-2894abdf3d64",
   "metadata": {},
   "outputs": [
    {
     "name": "stdout",
     "output_type": "stream",
     "text": [
      "{1, 2, 3, 4, 5, 6}\n"
     ]
    }
   ],
   "source": [
    "# example : add single value at a time\n",
    "s = {1,2,3,4,5}\n",
    "s.add(6)\n",
    "print(s)"
   ]
  },
  {
   "cell_type": "markdown",
   "id": "8ea293cc-6bba-431b-acc9-a498034048fb",
   "metadata": {},
   "source": [
    "`update() function`"
   ]
  },
  {
   "cell_type": "code",
   "execution_count": 16,
   "id": "fdb86516-1637-4bf0-8bf7-d60b2c17385b",
   "metadata": {},
   "outputs": [
    {
     "name": "stdout",
     "output_type": "stream",
     "text": [
      "{1, 2, 3, 4, 5, 6, 7, (1, 2, 3)}\n"
     ]
    }
   ],
   "source": [
    "# example : add mulitple values at a time\n",
    "s = {1,2,3,4,5}\n",
    "s.update([6,7,(1,2,3)])\n",
    "print(s)"
   ]
  },
  {
   "cell_type": "markdown",
   "id": "b16565d6-22e4-4e2c-9b69-89ec24556bca",
   "metadata": {},
   "source": [
    "## deleting values in sets :  possible using builtin functions"
   ]
  },
  {
   "cell_type": "markdown",
   "id": "cc5dd177-5846-457f-a6ab-da51df082835",
   "metadata": {},
   "source": [
    "`del keyword`"
   ]
  },
  {
   "cell_type": "code",
   "execution_count": 18,
   "id": "725100e5-ac13-4e02-95f1-6add25300ed2",
   "metadata": {},
   "outputs": [
    {
     "name": "stdout",
     "output_type": "stream",
     "text": [
      "{1, 2, 3, 4}\n"
     ]
    },
    {
     "ename": "NameError",
     "evalue": "name 's' is not defined",
     "output_type": "error",
     "traceback": [
      "\u001b[1;31m---------------------------------------------------------------------------\u001b[0m",
      "\u001b[1;31mNameError\u001b[0m                                 Traceback (most recent call last)",
      "Cell \u001b[1;32mIn[18], line 4\u001b[0m\n\u001b[0;32m      2\u001b[0m \u001b[38;5;28mprint\u001b[39m(s)\n\u001b[0;32m      3\u001b[0m \u001b[38;5;28;01mdel\u001b[39;00m s \n\u001b[1;32m----> 4\u001b[0m \u001b[38;5;28mprint\u001b[39m(\u001b[43ms\u001b[49m)\n",
      "\u001b[1;31mNameError\u001b[0m: name 's' is not defined"
     ]
    }
   ],
   "source": [
    "s = {1,2,3,4}\n",
    "print(s)\n",
    "del s \n",
    "print(s)"
   ]
  },
  {
   "cell_type": "markdown",
   "id": "ec428bf8-8d23-44aa-acc9-e14590a8e5c9",
   "metadata": {},
   "source": [
    "`discard() function`"
   ]
  },
  {
   "cell_type": "code",
   "execution_count": 20,
   "id": "70a963bf-70f9-4435-81b3-9d8c5491d480",
   "metadata": {},
   "outputs": [
    {
     "name": "stdout",
     "output_type": "stream",
     "text": [
      "{1, 2, 3, 4}\n",
      "{1, 2, 3, 4}\n"
     ]
    }
   ],
   "source": [
    "s = {1,2,3,4,5}\n",
    "s.discard(5)\n",
    "print(s)\n",
    "s.discard(10)\n",
    "print(s) # it will not throw any error but the remove throws the error"
   ]
  },
  {
   "cell_type": "markdown",
   "id": "621c5126-e301-45e9-995a-37857dd0d517",
   "metadata": {},
   "source": [
    "`remove() function`"
   ]
  },
  {
   "cell_type": "code",
   "execution_count": null,
   "id": "cdf1a4b3-a8b8-40cb-8917-df3f9030a176",
   "metadata": {},
   "outputs": [],
   "source": [
    "s = {1,2,3,4,5}\n",
    "s.remove(5)\n",
    "print(s)\n",
    "s.remove(10)\n",
    "print(s) "
   ]
  },
  {
   "cell_type": "markdown",
   "id": "3ef0c413-4186-467e-9fb1-345497230426",
   "metadata": {},
   "source": [
    "`pop() function` : it will delete any element not always last"
   ]
  },
  {
   "cell_type": "code",
   "execution_count": 21,
   "id": "d47b7eac-043b-47bf-8359-0b3e524ab097",
   "metadata": {},
   "outputs": [
    {
     "name": "stdout",
     "output_type": "stream",
     "text": [
      "{2, 3, 4, 5}\n",
      "{3, 4, 5}\n"
     ]
    }
   ],
   "source": [
    "s = {1,2,3,4,5}\n",
    "s.pop()\n",
    "print(s)\n",
    "s.pop()\n",
    "print(s) "
   ]
  },
  {
   "cell_type": "markdown",
   "id": "ca261f5e-7475-4945-8dd2-fce852122a3e",
   "metadata": {},
   "source": [
    "`clear() function` : it will clear all the values and makes the set empty "
   ]
  },
  {
   "cell_type": "code",
   "execution_count": 22,
   "id": "c69b85f5-1898-4cfb-ba9f-384959f406ed",
   "metadata": {},
   "outputs": [
    {
     "name": "stdout",
     "output_type": "stream",
     "text": [
      "set()\n"
     ]
    }
   ],
   "source": [
    "s = {1,2,3,4,5}\n",
    "s.clear()\n",
    "print(s)"
   ]
  },
  {
   "cell_type": "markdown",
   "id": "bcd7b044-e70d-4763-a64b-397ea1e282e6",
   "metadata": {},
   "source": [
    "## set operations \n",
    "``` bash \n",
    "    union (|)\n",
    "    intersection (&)\n",
    "    difference (-)\n",
    "    symmetric difference (^)\n",
    "    membership (in | not in)\n",
    "    loops\n",
    "```"
   ]
  },
  {
   "cell_type": "code",
   "execution_count": 28,
   "id": "ea360b75-4e95-411b-b0d5-90defbaaef4c",
   "metadata": {},
   "outputs": [
    {
     "data": {
      "text/plain": [
       "{1, 2, 3, 4, 5, 6, 7, 8}"
      ]
     },
     "execution_count": 28,
     "metadata": {},
     "output_type": "execute_result"
    }
   ],
   "source": [
    "# union : return all the values at once, no duplicates \n",
    "s1 = {1,2,3,4,5}\n",
    "s2 = {4,5,6,7,8}\n",
    "\n",
    "s1 | s2\n"
   ]
  },
  {
   "cell_type": "code",
   "execution_count": 24,
   "id": "5e61bb6b-1dfb-479e-aa55-70b1b4f108bf",
   "metadata": {},
   "outputs": [
    {
     "data": {
      "text/plain": [
       "{4, 5}"
      ]
     },
     "execution_count": 24,
     "metadata": {},
     "output_type": "execute_result"
    }
   ],
   "source": [
    "# intersection : return only same values in both\n",
    "s1 = {1,2,3,4,5}\n",
    "s2 = {4,5,6,7,8}\n",
    "\n",
    "s1 & s2\n"
   ]
  },
  {
   "cell_type": "code",
   "execution_count": 27,
   "id": "6edf3f18-b919-42b7-ba29-a032fc0ff21d",
   "metadata": {},
   "outputs": [
    {
     "name": "stdout",
     "output_type": "stream",
     "text": [
      "{1, 2, 3}\n",
      "{8, 6, 7}\n"
     ]
    }
   ],
   "source": [
    "# difference : return only first set values which is not present in second set\n",
    "s1 = {1,2,3,4,5}\n",
    "s2 = {4,5,6,7,8}\n",
    "\n",
    "print(s1 - s2) \n",
    "print(s2 - s1)"
   ]
  },
  {
   "cell_type": "code",
   "execution_count": 29,
   "id": "951c471a-2079-4802-86cb-f3e8fcc1f4ab",
   "metadata": {},
   "outputs": [
    {
     "name": "stdout",
     "output_type": "stream",
     "text": [
      "{1, 2, 3, 6, 7, 8}\n"
     ]
    }
   ],
   "source": [
    "# symmetric difference : return values which are not present in both\n",
    "s1 = {1,2,3,4,5}\n",
    "s2 = {4,5,6,7,8}\n",
    "\n",
    "print(s1 ^ s2)"
   ]
  },
  {
   "cell_type": "code",
   "execution_count": 31,
   "id": "4434cc1c-ac7e-4bfe-afa8-81fb8e5cd737",
   "metadata": {},
   "outputs": [
    {
     "name": "stdout",
     "output_type": "stream",
     "text": [
      "True\n",
      "True\n"
     ]
    }
   ],
   "source": [
    "# membership \n",
    "print(1 in s1)\n",
    "print(1 not in s2)\n"
   ]
  },
  {
   "cell_type": "code",
   "execution_count": 35,
   "id": "c02b6c80-01bf-4a3b-85c3-6a59006dfe22",
   "metadata": {},
   "outputs": [
    {
     "name": "stdout",
     "output_type": "stream",
     "text": [
      "1\n",
      "2\n",
      "3\n",
      "4\n",
      "5\n"
     ]
    }
   ],
   "source": [
    "# loops \n",
    "for i in s1 : \n",
    "    print(i)"
   ]
  }
 ],
 "metadata": {
  "kernelspec": {
   "display_name": "Python 3 (ipykernel)",
   "language": "python",
   "name": "python3"
  },
  "language_info": {
   "codemirror_mode": {
    "name": "ipython",
    "version": 3
   },
   "file_extension": ".py",
   "mimetype": "text/x-python",
   "name": "python",
   "nbconvert_exporter": "python",
   "pygments_lexer": "ipython3",
   "version": "3.10.10"
  }
 },
 "nbformat": 4,
 "nbformat_minor": 5
}
