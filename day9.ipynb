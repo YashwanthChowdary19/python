{
 "cells": [
  {
   "cell_type": "markdown",
   "id": "4b8ae31d-54da-46f6-8cf3-f7d0571440de",
   "metadata": {},
   "source": [
    "# sets parts 2"
   ]
  },
  {
   "cell_type": "markdown",
   "id": "416224da-dbca-46bf-ae74-6c7214269e00",
   "metadata": {},
   "source": [
    "### set functions"
   ]
  },
  {
   "cell_type": "code",
   "execution_count": 6,
   "id": "ebb2d63f-2463-4102-a29a-1f0c4b64d9cd",
   "metadata": {},
   "outputs": [
    {
     "name": "stdout",
     "output_type": "stream",
     "text": [
      "9\n",
      "1\n",
      "23\n",
      "[1, 2, 3, 4, 5, 11, 12, 13, 23]\n",
      "74\n"
     ]
    }
   ],
   "source": [
    "# len/min/max/sorted/sum\n",
    "s1 = {1,2,3,4,5,11,13,23,12}\n",
    "print(len(s1))\n",
    "print(min(s1))\n",
    "print(max(s1))\n",
    "print(sorted(s1))\n",
    "print(sum(s1))"
   ]
  },
  {
   "cell_type": "code",
   "execution_count": 26,
   "id": "e604f100-5ec1-49e3-9571-e8e69859bd7b",
   "metadata": {},
   "outputs": [
    {
     "name": "stdout",
     "output_type": "stream",
     "text": [
      "{1, 2, 3, 4, 5, 6, 7, 8}\n",
      "{1, 2, 3, 4, 5}\n",
      "{1, 2, 3, 4, 5, 6, 7, 8}\n",
      "{4, 5, 6, 7, 8}\n"
     ]
    }
   ],
   "source": [
    "# union / update \n",
    "s1 = {1,2,3,4,5}\n",
    "s2 = {4,5,6,7,8}\n",
    "\n",
    "# union() is similar to s1 | s2\n",
    "print(s1.union(s2))\n",
    "print(s1)\n",
    "# union update function bcz it will add which is not present in both \n",
    "s1.update(s2)\n",
    "print(s1)\n",
    "print(s2)"
   ]
  },
  {
   "cell_type": "code",
   "execution_count": 25,
   "id": "eef8114a-7742-41dd-b1fc-b90c1b59a924",
   "metadata": {},
   "outputs": [
    {
     "name": "stdout",
     "output_type": "stream",
     "text": [
      "{4, 5}\n",
      "{1, 2, 3, 4, 5}\n",
      "{4, 5}\n",
      "{4, 5, 6, 7, 8}\n"
     ]
    }
   ],
   "source": [
    "# intersection / intersection_update \n",
    "s1 = {1,2,3,4,5}\n",
    "s2 = {4,5,6,7,8}\n",
    "\n",
    "# intersection() is similar to s1 & s2\n",
    "print(s1.intersection(s2))\n",
    "print(s1)\n",
    "# intersection_update function bcz it will add which is  present in both\n",
    "s1.intersection_update(s2)\n",
    "print(s1)\n",
    "print(s2)"
   ]
  },
  {
   "cell_type": "code",
   "execution_count": 24,
   "id": "74ced953-8e61-4916-96a5-de5d3a3b0072",
   "metadata": {},
   "outputs": [
    {
     "name": "stdout",
     "output_type": "stream",
     "text": [
      "{1, 2, 3}\n",
      "{1, 2, 3, 4, 5}\n",
      "{1, 2, 3}\n",
      "{4, 5, 6, 7, 8}\n"
     ]
    }
   ],
   "source": [
    "# differnce / difference_update \n",
    "s1 = {1,2,3,4,5}\n",
    "s2 = {4,5,6,7,8}\n",
    "\n",
    "# difference() is similar to s1 - s2\n",
    "print(s1.difference(s2))\n",
    "print(s1)\n",
    "# difference_update function updates the s1 with only which is not present s1\n",
    "s1.difference_update(s2)\n",
    "print(s1)\n",
    "print(s2)"
   ]
  },
  {
   "cell_type": "code",
   "execution_count": 23,
   "id": "b0a6c6f7-5ec2-46ce-9aee-7e3a3a73c29b",
   "metadata": {},
   "outputs": [
    {
     "name": "stdout",
     "output_type": "stream",
     "text": [
      "{1, 2, 3, 6, 7, 8}\n",
      "{1, 2, 3, 4, 5}\n",
      "{1, 2, 3, 6, 7, 8}\n",
      "{4, 5, 6, 7, 8}\n"
     ]
    }
   ],
   "source": [
    "# symmetric_difference / symmetric_difference_update \n",
    "s1 = {1,2,3,4,5}\n",
    "s2 = {4,5,6,7,8}\n",
    "\n",
    "# symmetric_difference() is similar to s1 ^ s2\n",
    "print(s1.symmetric_difference(s2))\n",
    "print(s1)\n",
    "# symmetric_difference_update function updates the s1 with elements which is not in both\n",
    "s1.symmetric_difference_update(s2)\n",
    "print(s1)\n",
    "print(s2)"
   ]
  },
  {
   "cell_type": "code",
   "execution_count": 31,
   "id": "7af76766-6a80-4606-b7e8-267143a8f025",
   "metadata": {},
   "outputs": [
    {
     "name": "stdout",
     "output_type": "stream",
     "text": [
      "False\n",
      "True\n",
      "True\n",
      "False\n",
      "False\n",
      "False\n"
     ]
    }
   ],
   "source": [
    "# issubset() / issuperset()  / isdisjoint()\n",
    "s1 = {1,2,3,4,5}\n",
    "s2 = {4,5}\n",
    "# issubset()\n",
    "print(s1.issubset(s2)) # false bcz s1 is not present in s2 but s2 is present in s1\n",
    "print(s2.issubset(s1)) \n",
    "# issuperset() \n",
    "print(s1.issuperset(s2)) # True bcz s1 is a superset of s2\n",
    "print(s2.issuperset(s1)) \n",
    "# isdisjoint()\n",
    "print(s1.isdisjoint(s2)) # False bcz s2 elements are present in s1 \n",
    "print(s2.isdisjoint(s1)) # vice-versa "
   ]
  },
  {
   "cell_type": "code",
   "execution_count": 32,
   "id": "06894c5f-f7ba-4f76-ba1f-3900e8a26fce",
   "metadata": {},
   "outputs": [
    {
     "name": "stdout",
     "output_type": "stream",
     "text": [
      "{1, 2, 3, 4, 5}\n",
      "{1, 2, 3, 4, 5}\n"
     ]
    }
   ],
   "source": [
    "# copy() function \n",
    "s1 = {1,2,3,4,5}\n",
    "s2 = s1.copy() \n",
    "print(s1)\n",
    "print(s2)"
   ]
  },
  {
   "cell_type": "markdown",
   "id": "95b07adf-a465-48f9-9479-fe6344f2e026",
   "metadata": {},
   "source": [
    "# forzenset"
   ]
  },
  {
   "cell_type": "markdown",
   "id": "8b5c6c3e-c626-4c21-a776-25e3ccceb31d",
   "metadata": {},
   "source": [
    "### it is a immutable version of python sets"
   ]
  },
  {
   "cell_type": "code",
   "execution_count": 34,
   "id": "95cd407d-54ad-4d03-9c27-345dfdc697fe",
   "metadata": {},
   "outputs": [
    {
     "name": "stdout",
     "output_type": "stream",
     "text": [
      "frozenset({1, 2, 3, 4, 5})\n",
      "frozenset({frozenset({1, 2, 3, 4, 5}), 1, 2, 3})\n"
     ]
    }
   ],
   "source": [
    "# creating a frozenset \n",
    "fs = frozenset([1,2,3,4,5])\n",
    "print(fs)\n",
    "# 2D frozensets are possible \n",
    "fs1 = frozenset([1,2,3,fs])\n",
    "print(fs1)"
   ]
  },
  {
   "cell_type": "code",
   "execution_count": 35,
   "id": "52d7934d-0142-4ce4-87a8-294f102aad3b",
   "metadata": {},
   "outputs": [],
   "source": [
    "# in frozensets all read operations (union, intersection, difference, summetric_difference,etc) will wroks \n",
    "# doesn't work all write operations like (discard(), pop(), remove(), add(), update())\n"
   ]
  },
  {
   "cell_type": "code",
   "execution_count": 36,
   "id": "8bc4ed88-8c8e-4f5d-b81d-0bb001d971b2",
   "metadata": {},
   "outputs": [
    {
     "data": {
      "text/plain": [
       "{1, 2, 3, 4, 5, 6, 7, 8, 9, 10}"
      ]
     },
     "execution_count": 36,
     "metadata": {},
     "output_type": "execute_result"
    }
   ],
   "source": [
    "# set comprehension \n",
    "{i for i in range(1,11)}"
   ]
  },
  {
   "cell_type": "code",
   "execution_count": 37,
   "id": "f255dda4-647b-43a6-86f4-7aeaef126964",
   "metadata": {},
   "outputs": [
    {
     "data": {
      "text/plain": [
       "{6, 7, 8, 9, 10}"
      ]
     },
     "execution_count": 37,
     "metadata": {},
     "output_type": "execute_result"
    }
   ],
   "source": [
    "{i for i in range(1,11) if i>5}"
   ]
  },
  {
   "cell_type": "code",
   "execution_count": 38,
   "id": "ad7b0889-db48-484b-9fc2-b6fa70f98cc5",
   "metadata": {},
   "outputs": [
    {
     "data": {
      "text/plain": [
       "{1, 4, 9, 16, 25, 36, 49, 64, 81, 100}"
      ]
     },
     "execution_count": 38,
     "metadata": {},
     "output_type": "execute_result"
    }
   ],
   "source": [
    "{i**2 for i in range(1,11) }"
   ]
  }
 ],
 "metadata": {
  "kernelspec": {
   "display_name": "Python 3 (ipykernel)",
   "language": "python",
   "name": "python3"
  },
  "language_info": {
   "codemirror_mode": {
    "name": "ipython",
    "version": 3
   },
   "file_extension": ".py",
   "mimetype": "text/x-python",
   "name": "python",
   "nbconvert_exporter": "python",
   "pygments_lexer": "ipython3",
   "version": "3.10.10"
  }
 },
 "nbformat": 4,
 "nbformat_minor": 5
}
