{
 "cells": [
  {
   "cell_type": "markdown",
   "id": "e065f4d4-e2c5-4b78-b49b-ba08093336ae",
   "metadata": {},
   "source": [
    "### `prpblem-1` : find the length the of the string without using len() function"
   ]
  },
  {
   "cell_type": "code",
   "execution_count": 4,
   "id": "223d6b0f-92f0-4077-aa1d-ea51174da518",
   "metadata": {},
   "outputs": [
    {
     "name": "stdin",
     "output_type": "stream",
     "text": [
      "enter the string :  nothing happened\n"
     ]
    },
    {
     "name": "stdout",
     "output_type": "stream",
     "text": [
      "16\n"
     ]
    }
   ],
   "source": [
    "value = input(\"enter the string : \") \n",
    "length = 0 \n",
    "for i in value  : \n",
    "    length += 1 \n",
    "print(length)"
   ]
  },
  {
   "cell_type": "markdown",
   "id": "21ee99c3-d643-45a3-8b96-f3ffb95186af",
   "metadata": {},
   "source": [
    "### `problem-2` extract username from a given email \n",
    "### eg if the email is nothing1234@gmail.com \n",
    "### the username should be nothing1234"
   ]
  },
  {
   "cell_type": "code",
   "execution_count": 5,
   "id": "ce236fef-c3b6-4dd9-9acb-eeb7ea06d4f5",
   "metadata": {},
   "outputs": [
    {
     "name": "stdin",
     "output_type": "stream",
     "text": [
      "enter the email in correct format :  nothing1234@gmail.com\n"
     ]
    },
    {
     "name": "stdout",
     "output_type": "stream",
     "text": [
      "username is :  nothing1234\n"
     ]
    }
   ],
   "source": [
    "# way 1 :\n",
    "email = input(\"enter the email in correct format : \")\n",
    "username = email.split(\"@\")[0]\n",
    "print(\"username is : \" ,username)"
   ]
  },
  {
   "cell_type": "code",
   "execution_count": 12,
   "id": "95a4f508-9ea6-4fd1-a6e5-a0790c4b53db",
   "metadata": {},
   "outputs": [
    {
     "name": "stdin",
     "output_type": "stream",
     "text": [
      "enter the email in correct format :  nothing1234@gmail.com\n"
     ]
    },
    {
     "name": "stdout",
     "output_type": "stream",
     "text": [
      "nothing1234\n"
     ]
    }
   ],
   "source": [
    "# way 2 :\n",
    "email = input(\"enter the email in correct format : \")\n",
    "\n",
    "index = email.index(\"@\")\n",
    "\n",
    "username = email[:index]\n",
    "print(username)"
   ]
  },
  {
   "cell_type": "markdown",
   "id": "86f20e47-5d37-4234-8c01-44efefde653b",
   "metadata": {},
   "source": [
    "### `problem-3` count the frquency of a particular character in a given string \n"
   ]
  },
  {
   "cell_type": "code",
   "execution_count": 13,
   "id": "a39ae4f7-aa05-418c-a561-3cdea75f22f3",
   "metadata": {},
   "outputs": [
    {
     "name": "stdin",
     "output_type": "stream",
     "text": [
      "enter the string :  hello\n",
      "enter the character to find, should be single character :  l\n"
     ]
    },
    {
     "name": "stdout",
     "output_type": "stream",
     "text": [
      "frequency of char  l is :  2\n"
     ]
    }
   ],
   "source": [
    "python_str = input(\"enter the string : \")\n",
    "value = input(\"enter the character to count : \")\n",
    "count = 0 \n",
    "for i in python_str : \n",
    "    if value == i : \n",
    "        count+=1 \n",
    "print(\"frequency of char \",value,\"is : \",count)\n",
    "    "
   ]
  },
  {
   "cell_type": "markdown",
   "id": "c78c6653-27cb-4206-9d5d-5330f516f95c",
   "metadata": {},
   "source": [
    "### `problem 4` : write a program which can remove a particular character from string "
   ]
  },
  {
   "cell_type": "code",
   "execution_count": 19,
   "id": "2cd41c86-7ff0-4bbe-8574-4581fa6c267d",
   "metadata": {},
   "outputs": [
    {
     "name": "stdin",
     "output_type": "stream",
     "text": [
      "enter the string :  hello world\n",
      "enter the character to remove :  l\n"
     ]
    },
    {
     "name": "stdout",
     "output_type": "stream",
     "text": [
      "heo word\n"
     ]
    }
   ],
   "source": [
    "# way 1 :\n",
    "python_str = input(\"enter the string : \")\n",
    "value = input(\"enter the character to remove : \")\n",
    "for i in python_str : \n",
    "    if value == i : \n",
    "        new_str = python_str.replace(value,\"\")\n",
    "print(new_str)"
   ]
  },
  {
   "cell_type": "code",
   "execution_count": 20,
   "id": "c9aedf2e-f53b-4cbf-b66b-c0451b8c5c1a",
   "metadata": {},
   "outputs": [
    {
     "name": "stdin",
     "output_type": "stream",
     "text": [
      "enter the string :  hello world\n",
      "enter the character to remove :  l\n"
     ]
    },
    {
     "name": "stdout",
     "output_type": "stream",
     "text": [
      "heo word\n"
     ]
    }
   ],
   "source": [
    "# way 2 :\n",
    "python_str = input(\"enter the string : \")\n",
    "value = input(\"enter the character to remove : \")\n",
    "result = ''\n",
    "for i in python_str : \n",
    "    if i!=value : \n",
    "        result += i \n",
    "print(result)"
   ]
  },
  {
   "cell_type": "markdown",
   "id": "e6cb4ac2-d60e-4acd-b541-9c25118d69d4",
   "metadata": {},
   "source": [
    "### `problem-5` : write a program to check whether a string is palindrome or not "
   ]
  },
  {
   "cell_type": "code",
   "execution_count": 28,
   "id": "f0895034-d64f-4b4b-a33e-8b75367f96e2",
   "metadata": {},
   "outputs": [
    {
     "name": "stdin",
     "output_type": "stream",
     "text": [
      "enter the string :  aaabbbaaa\n"
     ]
    },
    {
     "name": "stdout",
     "output_type": "stream",
     "text": [
      "string is a palindrome\n"
     ]
    }
   ],
   "source": [
    "python_str = input(\"enter the string : \") \n",
    "\n",
    "length = len(python_str)\n",
    "flag = True\n",
    "for i in range(length//2) : \n",
    "    if python_str[i] != python_str[length-1] : \n",
    "        flag = False\n",
    "        break \n",
    "    else : \n",
    "        length -= 1\n",
    "\n",
    "if flag : \n",
    "    print(\"string is a palindrome\")\n",
    "else : \n",
    "    print(\"string is not a palindrome\")"
   ]
  },
  {
   "cell_type": "markdown",
   "id": "e718f739-0e60-49d7-8aab-d14c6574589a",
   "metadata": {},
   "source": [
    "### `problem-6` : write a program to count the number of words in a string without using split function"
   ]
  },
  {
   "cell_type": "code",
   "execution_count": 38,
   "id": "7283c19c-3e8d-4947-92f4-5219e7049c2e",
   "metadata": {},
   "outputs": [
    {
     "name": "stdout",
     "output_type": "stream",
     "text": [
      "Number of words: 5\n"
     ]
    }
   ],
   "source": [
    "text = \"Hello how are you today?\"\n",
    "count = 0\n",
    "in_word = False\n",
    "\n",
    "for char in text:\n",
    "    if char == ' ':\n",
    "        in_word = False\n",
    "    else:\n",
    "        if not in_word:\n",
    "            count += 1\n",
    "            in_word = True\n",
    "\n",
    "print(\"Number of words:\", count)\n"
   ]
  },
  {
   "cell_type": "markdown",
   "id": "d99bbf81-fec1-40da-b674-b2cc4ad3942b",
   "metadata": {},
   "source": [
    "### `problem - 7` : write a program to convert the string as title case without using title function"
   ]
  },
  {
   "cell_type": "code",
   "execution_count": 1,
   "id": "aaac5379-93a3-4fe7-b1dd-0c7fb71e6e53",
   "metadata": {},
   "outputs": [
    {
     "name": "stdin",
     "output_type": "stream",
     "text": [
      "enter the string :  machine learning engineer\n"
     ]
    },
    {
     "name": "stdout",
     "output_type": "stream",
     "text": [
      "Machine Learning Engineer\n"
     ]
    }
   ],
   "source": [
    "py_str = input(\"enter the string : \")\n",
    "new_list=[]\n",
    "for i in py_str.split() : \n",
    "    new_list.append(i.capitalize())\n",
    "new_str = \" \".join(new_list)\n",
    "print(new_str)\n",
    "\n",
    "    "
   ]
  },
  {
   "cell_type": "markdown",
   "id": "b4ec17af-9ba9-43a4-af4c-d6d8aa8ef904",
   "metadata": {},
   "source": [
    "### `problem - 8` : write a program to convert the integer to string"
   ]
  },
  {
   "cell_type": "code",
   "execution_count": 3,
   "id": "618899a1-b56f-4d93-8cd7-e47e144c68ba",
   "metadata": {},
   "outputs": [
    {
     "name": "stdin",
     "output_type": "stream",
     "text": [
      "enter the integer value :  43543\n"
     ]
    },
    {
     "name": "stdout",
     "output_type": "stream",
     "text": [
      "43543\n",
      "<class 'str'>\n"
     ]
    }
   ],
   "source": [
    "value = int(input(\"enter the integer value : \"))\n",
    "\n",
    "digits = '0123456789'\n",
    "result = ''\n",
    "while value != 0 :  \n",
    "    result = digits[value%10]+result \n",
    "    value = value//10\n",
    "print(result)\n",
    "print(type(result))"
   ]
  }
 ],
 "metadata": {
  "kernelspec": {
   "display_name": "Python 3 (ipykernel)",
   "language": "python",
   "name": "python3"
  },
  "language_info": {
   "codemirror_mode": {
    "name": "ipython",
    "version": 3
   },
   "file_extension": ".py",
   "mimetype": "text/x-python",
   "name": "python",
   "nbconvert_exporter": "python",
   "pygments_lexer": "ipython3",
   "version": "3.10.10"
  }
 },
 "nbformat": 4,
 "nbformat_minor": 5
}
