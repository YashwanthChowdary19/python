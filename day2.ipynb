{
 "cells": [
  {
   "cell_type": "markdown",
   "id": "a6050d15-2b4b-4c5a-a6ec-3e7dc428161a",
   "metadata": {},
   "source": [
    "# operators\n",
    "Operators are special symbols that perform operations on variables and values."
   ]
  },
  {
   "cell_type": "markdown",
   "id": "508c735c-f4ca-4900-9cfe-78979b61b0a5",
   "metadata": {},
   "source": [
    "# arithmetic operators"
   ]
  },
  {
   "cell_type": "code",
   "execution_count": 2,
   "id": "317d9501-1114-49a5-b9c3-734bf5af2b2e",
   "metadata": {},
   "outputs": [
    {
     "name": "stdout",
     "output_type": "stream",
     "text": [
      "22\n",
      "-2\n",
      "120\n",
      "1.2\n",
      "1\n",
      "10\n",
      "1000000000000\n"
     ]
    }
   ],
   "source": [
    "# (+, -, *, /, //, %, **)\n",
    "print(10+12)\n",
    "\n",
    "print(10-12)\n",
    "\n",
    "print(10*12)\n",
    "\n",
    "print(12/10)\n",
    "\n",
    "print(12//10) \n",
    "\n",
    "print(10%12) \n",
    "\n",
    "print(10**12)"
   ]
  },
  {
   "cell_type": "markdown",
   "id": "536989f9-860d-41f6-a45b-31fba8b62b3f",
   "metadata": {},
   "source": [
    "# relational operators"
   ]
  },
  {
   "cell_type": "code",
   "execution_count": 3,
   "id": "ef705b7d-9263-43ad-8aa2-3ddbda8d4812",
   "metadata": {},
   "outputs": [
    {
     "name": "stdout",
     "output_type": "stream",
     "text": [
      "True\n",
      "False\n",
      "True\n",
      "True\n",
      "True\n",
      "False\n"
     ]
    }
   ],
   "source": [
    "# (<, >, <=, >=, ==, !=)\n",
    "print(10<12) # less than\n",
    "\n",
    "print(10>12)  # greater than\n",
    "\n",
    "print(12<=12) # less than or equal to\n",
    "\n",
    "print(12>=12) # greater than or equal to\n",
    "\n",
    "print(12==12) # equals to\n",
    " \n",
    "print(12!=12) # not equal to"
   ]
  },
  {
   "cell_type": "markdown",
   "id": "b0cdad51-6d20-48bc-9dd8-f46d1ee36c29",
   "metadata": {},
   "source": [
    "# bitwise operators"
   ]
  },
  {
   "cell_type": "code",
   "execution_count": 12,
   "id": "8e75bed1-5e3a-4212-a641-2300f2a9f96f",
   "metadata": {},
   "outputs": [
    {
     "name": "stdout",
     "output_type": "stream",
     "text": [
      "0\n",
      "1\n",
      "1\n",
      "0\n",
      "4\n",
      "-2\n"
     ]
    }
   ],
   "source": [
    "# (&, |, ^, >>, <<, ~)\n",
    "\n",
    "print(1 & 0) # bitwise and\n",
    "     \n",
    "print(1 | 0) # bitwise or\n",
    "\n",
    "print(1 ^ 0) # bitwise xor\n",
    "\n",
    "print(1 >> 2) # bitwise right shift\n",
    "\n",
    "print(1 << 2) # bitwise left shift\n",
    "\n",
    "print(~1) # bitwise not "
   ]
  },
  {
   "cell_type": "markdown",
   "id": "ab3a63ab-1ff4-4207-8081-f74f63aca59f",
   "metadata": {},
   "source": [
    "# logical operators \n"
   ]
  },
  {
   "cell_type": "code",
   "execution_count": 14,
   "id": "1cfdfdcf-08c6-4988-a616-7c7f82924083",
   "metadata": {},
   "outputs": [
    {
     "name": "stdout",
     "output_type": "stream",
     "text": [
      "0\n",
      "1\n",
      "False\n"
     ]
    }
   ],
   "source": [
    "# (and, or, not) \n",
    "print(1 and 0)\n",
    "\n",
    "print(1 or 0)\n",
    "\n",
    "print(not 1)"
   ]
  },
  {
   "cell_type": "markdown",
   "id": "794ed913-72a9-4b80-bf6d-7224d2ab8494",
   "metadata": {},
   "source": [
    "# assignment operators "
   ]
  },
  {
   "cell_type": "code",
   "execution_count": 19,
   "id": "ce922885-094c-400f-9a12-e202855e6caa",
   "metadata": {
    "scrolled": true
   },
   "outputs": [
    {
     "name": "stdout",
     "output_type": "stream",
     "text": [
      "15\n",
      "10\n",
      "50\n",
      "10.0\n",
      "2.0\n",
      "2.0\n"
     ]
    }
   ],
   "source": [
    "a = 10 \n",
    "a+=5 \n",
    "print(a)\n",
    "a-=5\n",
    "print(a)\n",
    "a*=5\n",
    "print(a)\n",
    "a/=5\n",
    "print(a)\n",
    "a//=5\n",
    "print(a)\n",
    "a%=5\n",
    "print(a)\n",
    "\n",
    "# note increment or decrement operators are not valid in python "
   ]
  },
  {
   "cell_type": "markdown",
   "id": "c5f14b8b-9e25-457b-8f8c-6eab3fe16f88",
   "metadata": {},
   "source": [
    "# membership operators \n"
   ]
  },
  {
   "cell_type": "code",
   "execution_count": 23,
   "id": "8bf38d93-6735-42f9-8120-73b407c2deae",
   "metadata": {},
   "outputs": [
    {
     "name": "stdout",
     "output_type": "stream",
     "text": [
      "True\n",
      "True\n",
      "False\n"
     ]
    }
   ],
   "source": [
    "# (in | not in) works on any datatypes\n",
    "\n",
    "print(\"name\" in \"enter your name\")\n",
    "\n",
    "print(\"nothing\" not in \"enter your name\") \n",
    "\n",
    "\n",
    "print(\"apple\" in [\"banana\",\"jackfruit\",\"guava\"])\n",
    "\n"
   ]
  },
  {
   "cell_type": "code",
   "execution_count": 26,
   "id": "e4904cc5-ee1f-461a-9e5e-7a1fac207289",
   "metadata": {},
   "outputs": [
    {
     "name": "stdin",
     "output_type": "stream",
     "text": [
      "enter the 3 digit number :  615\n"
     ]
    },
    {
     "name": "stdout",
     "output_type": "stream",
     "text": [
      "615\n",
      "12\n"
     ]
    }
   ],
   "source": [
    "# program : find the sum of three digit number enter by the user \n",
    "number = int(input(\"enter the 3 digit number : \"))\n",
    "print(number)\n",
    "a = number%10 \n",
    "number = number // 10\n",
    "b = number%10\n",
    "number = number // 10\n",
    "c = number%10\n",
    "print(a+b+c)"
   ]
  },
  {
   "cell_type": "markdown",
   "id": "754d23b8-b34d-4b46-9347-5bee7ffb68cd",
   "metadata": {},
   "source": [
    "# if-else in python \n",
    "if-else is used to make decisions in a program."
   ]
  },
  {
   "cell_type": "code",
   "execution_count": null,
   "id": "6688072f-d653-43a5-9aec-8dfe447e7473",
   "metadata": {},
   "outputs": [],
   "source": [
    "# basic syntax\n",
    "if condition:\n",
    "    # code if condition is True\n",
    "else:\n",
    "    # code if condition is False\n"
   ]
  },
  {
   "cell_type": "code",
   "execution_count": 29,
   "id": "80cd32c6-0fd4-4f3c-8b91-805eee7bd6b4",
   "metadata": {},
   "outputs": [
    {
     "name": "stdin",
     "output_type": "stream",
     "text": [
      "enter the email :  nothing@gmail.com\n",
      "enter the password :  nothing1234\n"
     ]
    },
    {
     "name": "stdout",
     "output_type": "stream",
     "text": [
      "welcome\n"
     ]
    }
   ],
   "source": [
    "# program : login program \n",
    "email = input(\"enter the email : \") \n",
    "password = input(\"enter the password : \")\n",
    "\n",
    "if email==\"nothing@gmail.com\" and password==\"nothing1234\" : \n",
    "    print(\"welcome\")\n",
    "else : \n",
    "    print(\"not correct\")"
   ]
  },
  {
   "cell_type": "markdown",
   "id": "46957fdb-b00a-488f-a002-6609df90c267",
   "metadata": {},
   "source": [
    "# indentation\n",
    "Indentation means giving spaces or tabs at the beginning of a line to show which code belongs to which block.\n",
    "\n",
    "In Python, indentation is very important — it shows the structure of your code."
   ]
  },
  {
   "cell_type": "code",
   "execution_count": 30,
   "id": "16af3420-9a2d-4bf8-958d-1a623462609b",
   "metadata": {},
   "outputs": [
    {
     "name": "stdout",
     "output_type": "stream",
     "text": [
      "Yes\n",
      "Done\n"
     ]
    }
   ],
   "source": [
    "if 5 > 2:\n",
    "    print(\"Yes\")   # This line is indented → inside the if block\n",
    "print(\"Done\")      # This line is not indented → outside the if block\n"
   ]
  },
  {
   "cell_type": "code",
   "execution_count": 31,
   "id": "b161a4d7-ef43-40f9-bae0-177e177c48c8",
   "metadata": {},
   "outputs": [
    {
     "ename": "IndentationError",
     "evalue": "expected an indented block after 'if' statement on line 1 (1168763025.py, line 2)",
     "output_type": "error",
     "traceback": [
      "\u001b[1;36m  Cell \u001b[1;32mIn[31], line 2\u001b[1;36m\u001b[0m\n\u001b[1;33m    print(\"Yes\")  # ❌ This will cause an IndentationError\u001b[0m\n\u001b[1;37m    ^\u001b[0m\n\u001b[1;31mIndentationError\u001b[0m\u001b[1;31m:\u001b[0m expected an indented block after 'if' statement on line 1\n"
     ]
    }
   ],
   "source": [
    "if 5 > 2:\n",
    "print(\"Yes\")  # ❌ This will cause an IndentationError\n"
   ]
  },
  {
   "cell_type": "markdown",
   "id": "b6c00a49-54fc-4a71-ae6f-b8888f60628c",
   "metadata": {},
   "source": [
    "# if -elif -else \n",
    "if - elif - else is used to check multiple conditions one by one.\n",
    "Python will execute the first condition that is true and skip the rest."
   ]
  },
  {
   "cell_type": "code",
   "execution_count": null,
   "id": "c5de3d00-87e1-48a4-9dbd-0e76d0f8e0ca",
   "metadata": {},
   "outputs": [],
   "source": [
    "# basic sSyntax \n",
    "if condition1:\n",
    "    # runs if condition1 is true\n",
    "elif condition2:\n",
    "    # runs if condition1 is false and condition2 is true\n",
    "elif condition3:\n",
    "    # runs if condition1 and condition2 are false and condition3 is true\n",
    "else:\n",
    "    # runs if none of the above conditions are true\n"
   ]
  },
  {
   "cell_type": "code",
   "execution_count": 33,
   "id": "ec3c99b2-283b-43ec-8836-9c1a2944f572",
   "metadata": {},
   "outputs": [
    {
     "name": "stdin",
     "output_type": "stream",
     "text": [
      "enter the email :  nothing@gmail.com\n",
      "enter the password :  dfsf1123\n"
     ]
    },
    {
     "name": "stdout",
     "output_type": "stream",
     "text": [
      "password incorrect\n"
     ]
    },
    {
     "name": "stdin",
     "output_type": "stream",
     "text": [
      "enter password again.. nothing1234\n"
     ]
    },
    {
     "name": "stdout",
     "output_type": "stream",
     "text": [
      "welcome\n"
     ]
    }
   ],
   "source": [
    "# program : login program \n",
    "email = input(\"enter the email : \") \n",
    "password = input(\"enter the password : \")\n",
    "\n",
    "if email==\"nothing@gmail.com\" and password==\"nothing1234\" : \n",
    "    print(\"welcome\")\n",
    "elif email==\"nothing@gmail.com\" and password!=\"nothing1234\" : \n",
    "    print(\"password incorrect\") \n",
    "    password = input(\"enter password again..\")\n",
    "    if password == 'nothing1234' : \n",
    "        print(\"welcome\")\n",
    "    else : \n",
    "        print(\"sorry try again\")\n",
    "else : \n",
    "    print(\"not correct\")"
   ]
  },
  {
   "cell_type": "code",
   "execution_count": null,
   "id": "55f25130-3728-4531-b21f-a87fb0c3641d",
   "metadata": {},
   "outputs": [],
   "source": [
    "# if-elif-else examples\n",
    "# 1) find the minimum of given 3 numbers\n",
    "# 2) menu driven program"
   ]
  },
  {
   "cell_type": "code",
   "execution_count": 35,
   "id": "821a15c8-4f78-4602-983f-bd12272b0284",
   "metadata": {},
   "outputs": [
    {
     "name": "stdin",
     "output_type": "stream",
     "text": [
      "enter the first number :  10\n",
      "enter the second number :  5\n",
      "enter the third number :  56\n"
     ]
    },
    {
     "name": "stdout",
     "output_type": "stream",
     "text": [
      "5 is minimum\n"
     ]
    }
   ],
   "source": [
    "# solution for 1 \n",
    "first = int(input(\"enter the first number : \"))\n",
    "second = int(input(\"enter the second number : \"))\n",
    "third = int(input(\"enter the third number : \"))\n",
    "\n",
    "if first < second and first < third : \n",
    "    print(first,\"is minimum\")\n",
    "elif  second < third : \n",
    "    print(second,\"is minimum\")\n",
    "else : \n",
    "    print(third,\"is minimum\")"
   ]
  },
  {
   "cell_type": "code",
   "execution_count": 36,
   "id": "36a82eb1-3288-4474-bf9e-817cfd2c9eb1",
   "metadata": {},
   "outputs": [
    {
     "name": "stdin",
     "output_type": "stream",
     "text": [
      "enter the first number :  10\n",
      "enter the second number :  15\n",
      "enter the operator from [+, -, *, /] +\n"
     ]
    },
    {
     "name": "stdout",
     "output_type": "stream",
     "text": [
      "25\n"
     ]
    }
   ],
   "source": [
    "# soultion for menu driven calculatora\n",
    "num1 = int(input(\"enter the first number : \"))\n",
    "num2 = int(input(\"enter the second number : \"))\n",
    "\n",
    "operator = input(\"enter the operator from [+, -, *, /]\")\n",
    "\n",
    "if operator=='+' : \n",
    "    result = num1+num2\n",
    "elif operator=='-' : \n",
    "    result = num1-num2\n",
    "elif operator=='*' : \n",
    "    result = num1*num2\n",
    "elif operator=='/' : \n",
    "    result = num1/num2\n",
    "else : \n",
    "    print(\"invalid operator\") \n",
    "print(result)"
   ]
  },
  {
   "cell_type": "markdown",
   "id": "e1e951e8-37a9-4432-bf99-938fe51b067d",
   "metadata": {},
   "source": [
    "# python modules\n",
    "math\n",
    "keyword\n",
    "random\n",
    "datetime"
   ]
  },
  {
   "cell_type": "code",
   "execution_count": 41,
   "id": "2c582384-4ad6-4749-b810-f633f3b6283a",
   "metadata": {},
   "outputs": [
    {
     "name": "stdout",
     "output_type": "stream",
     "text": [
      "3628800\n",
      "10.0\n",
      "1324\n"
     ]
    }
   ],
   "source": [
    "# math module \n",
    "import math # way to import math module\n",
    "\n",
    "print(math.factorial(10))\n",
    "\n",
    "print(math.sqrt(100))\n",
    "\n",
    "print(math.floor(1324.44))\n",
    "\n",
    "# note when you enter math. and leave sometime it will show the all the functions that are present in math module in alphabetical order"
   ]
  },
  {
   "cell_type": "code",
   "execution_count": 50,
   "id": "609e4fc4-e9df-4706-b7c2-b53f2ec22a9f",
   "metadata": {},
   "outputs": [
    {
     "name": "stdout",
     "output_type": "stream",
     "text": [
      "True\n",
      "False\n",
      "['False', 'None', 'True', 'and', 'as', 'assert', 'async', 'await', 'break', 'class', 'continue', 'def', 'del', 'elif', 'else', 'except', 'finally', 'for', 'from', 'global', 'if', 'import', 'in', 'is', 'lambda', 'nonlocal', 'not', 'or', 'pass', 'raise', 'return', 'try', 'while', 'with', 'yield']\n"
     ]
    }
   ],
   "source": [
    "# keyword module \n",
    "import keyword # way to import keyword module\n",
    "\n",
    "print(keyword.iskeyword(\"else\"))\n",
    "\n",
    "print(keyword.iskeyword(\"nothing\"))\n",
    "\n",
    "print(keyword.kwlist)"
   ]
  },
  {
   "cell_type": "code",
   "execution_count": 73,
   "id": "5eff3ca2-b457-4a71-ad8e-08517d830ffb",
   "metadata": {},
   "outputs": [
    {
     "name": "stdout",
     "output_type": "stream",
     "text": [
      "61\n"
     ]
    },
    {
     "data": {
      "text/plain": [
       "\u001b[1;31mSignature:\u001b[0m \u001b[0mrandom\u001b[0m\u001b[1;33m.\u001b[0m\u001b[0mrandom\u001b[0m\u001b[1;33m(\u001b[0m\u001b[1;33m)\u001b[0m\u001b[1;33m\u001b[0m\u001b[1;33m\u001b[0m\u001b[0m\n",
       "\u001b[1;31mDocstring:\u001b[0m random() -> x in the interval [0, 1).\n",
       "\u001b[1;31mType:\u001b[0m      builtin_function_or_method"
      ]
     },
     "metadata": {},
     "output_type": "display_data"
    }
   ],
   "source": [
    "# random module \n",
    "import random \n",
    "\n",
    "print(random.randint(1,1000))\n"
   ]
  },
  {
   "cell_type": "code",
   "execution_count": 83,
   "id": "7c9d375e-841c-4813-8452-c872925bf822",
   "metadata": {},
   "outputs": [
    {
     "name": "stdout",
     "output_type": "stream",
     "text": [
      "2025-08-07 15:41:20.607569\n"
     ]
    }
   ],
   "source": [
    "# datetime module \n",
    "import datetime \n",
    "\n",
    "print(datetime.datetime.now())"
   ]
  }
 ],
 "metadata": {
  "kernelspec": {
   "display_name": "Python 3 (ipykernel)",
   "language": "python",
   "name": "python3"
  },
  "language_info": {
   "codemirror_mode": {
    "name": "ipython",
    "version": 3
   },
   "file_extension": ".py",
   "mimetype": "text/x-python",
   "name": "python",
   "nbconvert_exporter": "python",
   "pygments_lexer": "ipython3",
   "version": "3.10.10"
  }
 },
 "nbformat": 4,
 "nbformat_minor": 5
}
