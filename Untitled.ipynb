{
 "cells": [
  {
   "cell_type": "markdown",
   "id": "63425f20-7f1b-49c2-92f6-67cf71c458bf",
   "metadata": {},
   "source": [
    "```bash \n",
    "Problem 1: Write a program that will give you in hand monthly salary after deduction on CTC - HRA(10%), DA(5%), PF(3%) and taxes deduction as below:\n",
    "Salary(Lakhs) : Tax(%)\n",
    "\n",
    "Below 5 : 0%\n",
    "5-10 : 10%\n",
    "10-20 : 20%\n",
    "aboove 20 : 30% \n",
    "```"
   ]
  },
  {
   "cell_type": "code",
   "execution_count": 1,
   "id": "887bab19-b2b7-424d-a03f-744e632a7a5d",
   "metadata": {},
   "outputs": [
    {
     "name": "stdin",
     "output_type": "stream",
     "text": [
      "enter the salary in lakhs 10\n"
     ]
    },
    {
     "name": "stdout",
     "output_type": "stream",
     "text": [
      "8.0\n"
     ]
    }
   ],
   "source": [
    "LPA = int(input(\"enter the salary in lakhs\"))\n",
    "\n",
    "if LPA < 5 : \n",
    "    print(LPA)\n",
    "elif LPA >= 5 and LPA<10 : \n",
    "    print(LPA-(LPA*0.1)) \n",
    "elif LPA >= 10 and LPA<=20 : \n",
    "    print(LPA-(LPA*0.2)) \n",
    "else : \n",
    "    print(LPA-(LPA*0.3))"
   ]
  },
  {
   "cell_type": "markdown",
   "id": "79f81ae0-31f9-480b-9ee4-89089a20bd7c",
   "metadata": {},
   "source": [
    "Problem 2: Write a program that take a user input of three angles and will find out whether it can form a triangle or not."
   ]
  },
  {
   "cell_type": "code",
   "execution_count": 5,
   "id": "22e8bc1a-25ef-491d-ba15-3192cc2841ee",
   "metadata": {},
   "outputs": [
    {
     "name": "stdin",
     "output_type": "stream",
     "text": [
      "enter the angle 1 :  60\n",
      "enter the angle 2 :  60\n",
      "enter the angle 3 :  60\n"
     ]
    },
    {
     "name": "stdout",
     "output_type": "stream",
     "text": [
      "can form a triangle\n"
     ]
    }
   ],
   "source": [
    "a1 = int(input(\"enter the angle 1 : \"))\n",
    "a2 = int(input(\"enter the angle 2 : \"))\n",
    "a3 = int(input(\"enter the angle 3 : \"))\n",
    "\n",
    "total = a1+a2+a3 \n",
    "\n",
    "if a1>0 and a2>0 and a3>0 and total == 180 : \n",
    "    print(\"can form a triangle\")\n",
    "else : \n",
    "    print(\"cannot form a triangle\")"
   ]
  },
  {
   "cell_type": "markdown",
   "id": "c8908c10-9e99-4a27-b797-c3d7ba83fc3e",
   "metadata": {},
   "source": [
    "Problem 3: Write a program that will take user input of cost price and selling price and determines whether its a loss or a profit."
   ]
  },
  {
   "cell_type": "code",
   "execution_count": null,
   "id": "81eb4fdb-673f-473d-b4df-70fbfec1f85b",
   "metadata": {},
   "outputs": [],
   "source": [
    "cost_price = float(input(\"enter the cost price : \"))\n",
    "selling_price = float(input(\"enter the selling price : \"))\n",
    "\n",
    "if selling_price > cost_price : \n",
    "    print(\"profit\")\n"
   ]
  }
 ],
 "metadata": {
  "kernelspec": {
   "display_name": "Python 3 (ipykernel)",
   "language": "python",
   "name": "python3"
  },
  "language_info": {
   "codemirror_mode": {
    "name": "ipython",
    "version": 3
   },
   "file_extension": ".py",
   "mimetype": "text/x-python",
   "name": "python",
   "nbconvert_exporter": "python",
   "pygments_lexer": "ipython3",
   "version": "3.10.10"
  }
 },
 "nbformat": 4,
 "nbformat_minor": 5
}
